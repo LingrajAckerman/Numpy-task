{
 "cells": [
  {
   "cell_type": "markdown",
   "metadata": {},
   "source": [
    "# Numpy\n",
    "\n"
   ]
  },
  {
   "cell_type": "markdown",
   "metadata": {},
   "source": [
    "#### 1. Import the numpy package under the name `np` (★☆☆) \n",
    "(**hint**: import … as …)"
   ]
  },
  {
   "cell_type": "code",
   "execution_count": 1,
   "metadata": {},
   "outputs": [],
   "source": [
    "import numpy as np"
   ]
  },
  {
   "cell_type": "markdown",
   "metadata": {},
   "source": [
    "#### 2. Print the numpy version and the configuration (★☆☆) \n",
    "(**hint**: np.\\_\\_version\\_\\_, np.show\\_config)"
   ]
  },
  {
   "cell_type": "code",
   "execution_count": 8,
   "metadata": {
    "scrolled": true
   },
   "outputs": [
    {
     "name": "stdout",
     "output_type": "stream",
     "text": [
      "numpy version is 1.21.5\n",
      "And the configuration is as follows\n",
      "blas_mkl_info:\n",
      "    libraries = ['mkl_rt']\n",
      "    library_dirs = ['C:/ProgramData/Anaconda3\\\\Library\\\\lib']\n",
      "    define_macros = [('SCIPY_MKL_H', None), ('HAVE_CBLAS', None)]\n",
      "    include_dirs = ['C:/ProgramData/Anaconda3\\\\Library\\\\include']\n",
      "blas_opt_info:\n",
      "    libraries = ['mkl_rt']\n",
      "    library_dirs = ['C:/ProgramData/Anaconda3\\\\Library\\\\lib']\n",
      "    define_macros = [('SCIPY_MKL_H', None), ('HAVE_CBLAS', None)]\n",
      "    include_dirs = ['C:/ProgramData/Anaconda3\\\\Library\\\\include']\n",
      "lapack_mkl_info:\n",
      "    libraries = ['mkl_rt']\n",
      "    library_dirs = ['C:/ProgramData/Anaconda3\\\\Library\\\\lib']\n",
      "    define_macros = [('SCIPY_MKL_H', None), ('HAVE_CBLAS', None)]\n",
      "    include_dirs = ['C:/ProgramData/Anaconda3\\\\Library\\\\include']\n",
      "lapack_opt_info:\n",
      "    libraries = ['mkl_rt']\n",
      "    library_dirs = ['C:/ProgramData/Anaconda3\\\\Library\\\\lib']\n",
      "    define_macros = [('SCIPY_MKL_H', None), ('HAVE_CBLAS', None)]\n",
      "    include_dirs = ['C:/ProgramData/Anaconda3\\\\Library\\\\include']\n",
      "Supported SIMD extensions in this NumPy install:\n",
      "    baseline = SSE,SSE2,SSE3\n",
      "    found = SSSE3,SSE41,POPCNT,SSE42,AVX,F16C,FMA3,AVX2\n",
      "    not found = AVX512F,AVX512CD,AVX512_SKX,AVX512_CLX,AVX512_CNL\n",
      "None\n"
     ]
    }
   ],
   "source": [
    "print(\"numpy version is\",np.__version__)\n",
    "print(\"And the configuration is as follows\")\n",
    "print(np.show_config())"
   ]
  },
  {
   "cell_type": "markdown",
   "metadata": {},
   "source": [
    "#### 3. Create a null vector of size 10 (★☆☆) \n",
    "(**hint**: np.zeros)"
   ]
  },
  {
   "cell_type": "code",
   "execution_count": 15,
   "metadata": {},
   "outputs": [
    {
     "name": "stdout",
     "output_type": "stream",
     "text": [
      "[0. 0. 0. 0. 0. 0. 0. 0. 0. 0.]\n"
     ]
    }
   ],
   "source": [
    "print(np.zeros(10))"
   ]
  },
  {
   "cell_type": "markdown",
   "metadata": {},
   "source": [
    "#### 4.  How to find the memory size of any array (★☆☆) \n",
    "(**hint**: size, itemsize)"
   ]
  },
  {
   "cell_type": "code",
   "execution_count": 12,
   "metadata": {},
   "outputs": [
    {
     "name": "stdout",
     "output_type": "stream",
     "text": [
      "Size of the array:  5\n",
      "Memory size of one array element:  4\n",
      "Memory size of the numpy array:  20\n"
     ]
    }
   ],
   "source": [
    "x=np.array([1,2,3,4,5])\n",
    "print(\"Size of the array: \",x.size)\n",
    "print(\"Memory size of one array element: \",x.itemsize)\n",
    "print(\"Memory size of the numpy array: \",x.size*x.itemsize)"
   ]
  },
  {
   "cell_type": "markdown",
   "metadata": {},
   "source": [
    "#### 5.  How to get the documentation of the numpy add function from the command line? (★☆☆) \n",
    "(**hint**: np.info)"
   ]
  },
  {
   "cell_type": "code",
   "execution_count": 16,
   "metadata": {},
   "outputs": [
    {
     "name": "stdout",
     "output_type": "stream",
     "text": [
      "add(x1, x2, /, out=None, *, where=True, casting='same_kind', order='K', dtype=None, subok=True[, signature, extobj])\n",
      "\n",
      "Add arguments element-wise.\n",
      "\n",
      "Parameters\n",
      "----------\n",
      "x1, x2 : array_like\n",
      "    The arrays to be added.\n",
      "    If ``x1.shape != x2.shape``, they must be broadcastable to a common\n",
      "    shape (which becomes the shape of the output).\n",
      "out : ndarray, None, or tuple of ndarray and None, optional\n",
      "    A location into which the result is stored. If provided, it must have\n",
      "    a shape that the inputs broadcast to. If not provided or None,\n",
      "    a freshly-allocated array is returned. A tuple (possible only as a\n",
      "    keyword argument) must have length equal to the number of outputs.\n",
      "where : array_like, optional\n",
      "    This condition is broadcast over the input. At locations where the\n",
      "    condition is True, the `out` array will be set to the ufunc result.\n",
      "    Elsewhere, the `out` array will retain its original value.\n",
      "    Note that if an uninitialized `out` array is created via the default\n",
      "    ``out=None``, locations within it where the condition is False will\n",
      "    remain uninitialized.\n",
      "**kwargs\n",
      "    For other keyword-only arguments, see the\n",
      "    :ref:`ufunc docs <ufuncs.kwargs>`.\n",
      "\n",
      "Returns\n",
      "-------\n",
      "add : ndarray or scalar\n",
      "    The sum of `x1` and `x2`, element-wise.\n",
      "    This is a scalar if both `x1` and `x2` are scalars.\n",
      "\n",
      "Notes\n",
      "-----\n",
      "Equivalent to `x1` + `x2` in terms of array broadcasting.\n",
      "\n",
      "Examples\n",
      "--------\n",
      ">>> np.add(1.0, 4.0)\n",
      "5.0\n",
      ">>> x1 = np.arange(9.0).reshape((3, 3))\n",
      ">>> x2 = np.arange(3.0)\n",
      ">>> np.add(x1, x2)\n",
      "array([[  0.,   2.,   4.],\n",
      "       [  3.,   5.,   7.],\n",
      "       [  6.,   8.,  10.]])\n",
      "\n",
      "The ``+`` operator can be used as a shorthand for ``np.add`` on ndarrays.\n",
      "\n",
      ">>> x1 = np.arange(9.0).reshape((3, 3))\n",
      ">>> x2 = np.arange(3.0)\n",
      ">>> x1 + x2\n",
      "array([[ 0.,  2.,  4.],\n",
      "       [ 3.,  5.,  7.],\n",
      "       [ 6.,  8., 10.]])\n"
     ]
    }
   ],
   "source": [
    "np.info(np.add)"
   ]
  },
  {
   "cell_type": "markdown",
   "metadata": {},
   "source": [
    "#### 6.  Create a null vector of size 10 but the fifth value which is 1 (★☆☆) \n",
    "(**hint**: array\\[4\\])"
   ]
  },
  {
   "cell_type": "code",
   "execution_count": 14,
   "metadata": {},
   "outputs": [
    {
     "name": "stdout",
     "output_type": "stream",
     "text": [
      "[0. 0. 0. 0. 1. 0. 0. 0. 0. 0.]\n"
     ]
    }
   ],
   "source": [
    "x=np.zeros(10)\n",
    "x[4]=1\n",
    "print(x)"
   ]
  },
  {
   "cell_type": "markdown",
   "metadata": {},
   "source": [
    "#### 7.  Create a vector with values ranging from 10 to 49 (★☆☆) \n",
    "(**hint**: np.arange)"
   ]
  },
  {
   "cell_type": "code",
   "execution_count": 19,
   "metadata": {},
   "outputs": [
    {
     "name": "stdout",
     "output_type": "stream",
     "text": [
      "[10 11 12 13 14 15 16 17 18 19 20 21 22 23 24 25 26 27 28 29 30 31 32 33\n",
      " 34 35 36 37 38 39 40 41 42 43 44 45 46 47 48 49]\n"
     ]
    }
   ],
   "source": [
    "v=np.arange(10,50)\n",
    "print(v)"
   ]
  },
  {
   "cell_type": "markdown",
   "metadata": {},
   "source": [
    "#### 8.  Reverse a vector (first element becomes last) (★☆☆) \n",
    "(**hint**: array\\[::-1\\])"
   ]
  },
  {
   "cell_type": "code",
   "execution_count": 20,
   "metadata": {},
   "outputs": [
    {
     "data": {
      "text/plain": [
       "array([49, 48, 47, 46, 45, 44, 43, 42, 41, 40, 39, 38, 37, 36, 35, 34, 33,\n",
       "       32, 31, 30, 29, 28, 27, 26, 25, 24, 23, 22, 21, 20, 19, 18, 17, 16,\n",
       "       15, 14, 13, 12, 11, 10])"
      ]
     },
     "execution_count": 20,
     "metadata": {},
     "output_type": "execute_result"
    }
   ],
   "source": [
    "v[::-1]"
   ]
  },
  {
   "cell_type": "markdown",
   "metadata": {},
   "source": [
    "#### 9.  Create a 3x3 matrix with values ranging from 0 to 8 (★☆☆) \n",
    "(**hint**: reshape)"
   ]
  },
  {
   "cell_type": "code",
   "execution_count": 24,
   "metadata": {},
   "outputs": [
    {
     "name": "stdout",
     "output_type": "stream",
     "text": [
      "[[0 1 2]\n",
      " [3 4 5]\n",
      " [6 7 8]]\n"
     ]
    }
   ],
   "source": [
    "x=np.arange(0,9).reshape(3,3)\n",
    "print(x)"
   ]
  },
  {
   "cell_type": "markdown",
   "metadata": {},
   "source": [
    "#### 10. Find indices of non-zero elements from \\[1,2,0,0,4,0\\] (★☆☆) \n",
    "(**hint**: np.nonzero)"
   ]
  },
  {
   "cell_type": "code",
   "execution_count": 26,
   "metadata": {},
   "outputs": [
    {
     "name": "stdout",
     "output_type": "stream",
     "text": [
      "(array([0, 1, 4], dtype=int64),)\n"
     ]
    }
   ],
   "source": [
    "print(np.nonzero([1,2,0,0,4,0]))"
   ]
  },
  {
   "cell_type": "markdown",
   "metadata": {},
   "source": [
    "#### 11. Create a 3x3 identity matrix (★☆☆) \n",
    "(**hint**: np.eye)"
   ]
  },
  {
   "cell_type": "code",
   "execution_count": 29,
   "metadata": {},
   "outputs": [
    {
     "name": "stdout",
     "output_type": "stream",
     "text": [
      "[[1. 0. 0.]\n",
      " [0. 1. 0.]\n",
      " [0. 0. 1.]]\n"
     ]
    }
   ],
   "source": [
    "print(np.eye(3))"
   ]
  },
  {
   "cell_type": "markdown",
   "metadata": {},
   "source": [
    "#### 12. Create a 3x3x3 array with random values (★☆☆) \n",
    "(**hint**: np.random.random)"
   ]
  },
  {
   "cell_type": "code",
   "execution_count": 36,
   "metadata": {},
   "outputs": [
    {
     "name": "stdout",
     "output_type": "stream",
     "text": [
      "[[[0.98838394 0.05509961 0.69749006]\n",
      "  [0.17119276 0.6804252  0.41242517]\n",
      "  [0.13210917 0.11621367 0.94814285]]\n",
      "\n",
      " [[0.78175191 0.08507682 0.25128235]\n",
      "  [0.9996408  0.18223836 0.48323041]\n",
      "  [0.32655522 0.78334901 0.86007287]]\n",
      "\n",
      " [[0.90739662 0.32096371 0.32127788]\n",
      "  [0.56261592 0.96895856 0.33496647]\n",
      "  [0.92749573 0.64911085 0.47383261]]]\n"
     ]
    }
   ],
   "source": [
    "print(np.random.random((3,3,3)))"
   ]
  },
  {
   "cell_type": "markdown",
   "metadata": {},
   "source": [
    "#### 13. Create a 10x10 array with random values and find the minimum and maximum values (★☆☆) \n",
    "(**hint**: min, max)"
   ]
  },
  {
   "cell_type": "code",
   "execution_count": 48,
   "metadata": {},
   "outputs": [
    {
     "name": "stdout",
     "output_type": "stream",
     "text": [
      "[[0.62364756 0.04885769 0.27188088 0.20028407 0.97662576 0.87794087\n",
      "  0.82443821 0.46839345 0.79449699 0.88663781]\n",
      " [0.63783127 0.65909742 0.38723483 0.53583808 0.29325693 0.02153454\n",
      "  0.66045659 0.90146103 0.07811793 0.3979249 ]\n",
      " [0.25946051 0.52376818 0.19673312 0.75143072 0.5971768  0.84358363\n",
      "  0.62260169 0.95232624 0.24335177 0.56083075]\n",
      " [0.29174447 0.91680581 0.03581103 0.65511086 0.15301009 0.54948879\n",
      "  0.52376527 0.38682411 0.82008717 0.41268096]\n",
      " [0.39991685 0.39861921 0.15381295 0.20903857 0.55129813 0.90542516\n",
      "  0.85090003 0.55676756 0.0745296  0.15526597]\n",
      " [0.20513651 0.79242586 0.64125291 0.90957309 0.29014056 0.02721194\n",
      "  0.97001676 0.16265972 0.1283509  0.49529422]\n",
      " [0.72528416 0.53146885 0.73903928 0.71683677 0.22618479 0.38655243\n",
      "  0.73340782 0.07390749 0.61621779 0.09475262]\n",
      " [0.0269621  0.22566317 0.8869499  0.96964934 0.54615126 0.99498011\n",
      "  0.47866776 0.78603075 0.61291092 0.18515161]\n",
      " [0.76195201 0.51229578 0.09807486 0.04433885 0.90895527 0.13248166\n",
      "  0.9861984  0.43304308 0.24029077 0.31083107]\n",
      " [0.22452814 0.33938052 0.81963468 0.3802679  0.68166788 0.22812236\n",
      "  0.8883195  0.46355959 0.20207365 0.31107123]]\n",
      "Greatest Value:  0.9949801145373488\n",
      "Smallest Value:  0.021534543988832033\n"
     ]
    }
   ],
   "source": [
    "x=np.random.random((10,10))\n",
    "print(x)\n",
    "print(\"Greatest Value: \",x.max())\n",
    "print(\"Smallest Value: \",x.min())"
   ]
  },
  {
   "cell_type": "markdown",
   "metadata": {},
   "source": [
    "#### 14. Create a random vector of size 30 and find the mean value (★☆☆) \n",
    "(**hint**: mean)"
   ]
  },
  {
   "cell_type": "code",
   "execution_count": 47,
   "metadata": {},
   "outputs": [
    {
     "name": "stdout",
     "output_type": "stream",
     "text": [
      "[0.27729141 0.22938434 0.53688835 0.3347473  0.95609826 0.6605327\n",
      " 0.20710053 0.62598612 0.6321614  0.58694814 0.28032886 0.63413508\n",
      " 0.57932228 0.37072281 0.76708556 0.55872708 0.40189786 0.46570188\n",
      " 0.49496812 0.90206307 0.13540248 0.36609138 0.29399746 0.952491\n",
      " 0.34892626 0.0504489  0.37531642 0.16803735 0.00745526 0.50977075]\n",
      "Mean:  0.4570009467296759\n"
     ]
    }
   ],
   "source": [
    "x=np.random.random(30)\n",
    "print(x)\n",
    "print(\"Mean: \",x.mean())"
   ]
  },
  {
   "cell_type": "markdown",
   "metadata": {},
   "source": [
    "#### 15. Create a 2d array with 1 on the border and 0 inside (★☆☆) \n",
    "(**hint**: array\\[1:-1, 1:-1\\])"
   ]
  },
  {
   "cell_type": "code",
   "execution_count": 76,
   "metadata": {},
   "outputs": [
    {
     "name": "stdout",
     "output_type": "stream",
     "text": [
      "[[1 1 1 1 1]\n",
      " [1 0 0 0 1]\n",
      " [1 0 0 0 1]\n",
      " [1 0 0 0 1]\n",
      " [1 1 1 1 1]]\n"
     ]
    }
   ],
   "source": [
    "x=np.ones((5,5),dtype=int)\n",
    "x[1:-1,1:-1]=0\n",
    "print(x)"
   ]
  },
  {
   "cell_type": "markdown",
   "metadata": {},
   "source": [
    "#### 16. How to add a border (filled with 0's) around an existing array? (★☆☆) \n",
    "(**hint**: np.pad)"
   ]
  },
  {
   "cell_type": "code",
   "execution_count": 75,
   "metadata": {},
   "outputs": [
    {
     "name": "stdout",
     "output_type": "stream",
     "text": [
      "[[0 0 0 0 0]\n",
      " [0 1 1 1 0]\n",
      " [0 1 1 1 0]\n",
      " [0 1 1 1 0]\n",
      " [0 0 0 0 0]]\n"
     ]
    }
   ],
   "source": [
    "x=np.ones((3,3),dtype=int)\n",
    "print(np.pad(x,pad_width=1,mode='constant',constant_values=0))"
   ]
  },
  {
   "cell_type": "markdown",
   "metadata": {},
   "source": [
    "#### 17. What is the result of the following expression? (★☆☆) \n",
    "(**hint**: NaN = not a number, inf = infinity)"
   ]
  },
  {
   "cell_type": "markdown",
   "metadata": {},
   "source": [
    "```python\n",
    "0 * np.nan\n",
    "np.nan == np.nan\n",
    "np.inf > np.nan\n",
    "np.nan - np.nan\n",
    "0.3 == 3 * 0.1\n",
    "```"
   ]
  },
  {
   "cell_type": "code",
   "execution_count": 64,
   "metadata": {},
   "outputs": [
    {
     "name": "stdout",
     "output_type": "stream",
     "text": [
      "0 * np.nan:  nan\n",
      "np.nan == np.nan:  False\n",
      "np.inf > np.nan:  False\n",
      "np.nan - np.nan:  nan\n",
      "0.3 == 3 * 0.1:  False\n"
     ]
    }
   ],
   "source": [
    "print(\"0 * np.nan: \",0 * np.nan)\n",
    "print(\"np.nan == np.nan: \",np.nan == np.nan)\n",
    "print(\"np.inf > np.nan: \",np.inf > np.nan)\n",
    "print(\"np.nan - np.nan: \",np.nan - np.nan)\n",
    "print(\"0.3 == 3 * 0.1: \",0.3 == 3 * 0.1)"
   ]
  },
  {
   "cell_type": "markdown",
   "metadata": {},
   "source": [
    "#### 18. Create a 5x5 matrix with values 1,2,3,4 just below the diagonal (★☆☆) \n",
    "(**hint**: np.diag)"
   ]
  },
  {
   "cell_type": "code",
   "execution_count": 66,
   "metadata": {},
   "outputs": [
    {
     "name": "stdout",
     "output_type": "stream",
     "text": [
      "[[0 0 0 0 0]\n",
      " [1 0 0 0 0]\n",
      " [0 2 0 0 0]\n",
      " [0 0 3 0 0]\n",
      " [0 0 0 4 0]]\n"
     ]
    }
   ],
   "source": [
    "x=np.diag(1+np.arange(4),k=-1)\n",
    "print(x)"
   ]
  },
  {
   "cell_type": "markdown",
   "metadata": {},
   "source": [
    "#### 19. Create a 8x8 matrix and fill it with a checkerboard pattern (★☆☆) \n",
    "(**hint**: array\\[::2\\])"
   ]
  },
  {
   "cell_type": "code",
   "execution_count": 74,
   "metadata": {},
   "outputs": [
    {
     "name": "stdout",
     "output_type": "stream",
     "text": [
      "[[0 1 0 1 0 1 0 1]\n",
      " [1 0 1 0 1 0 1 0]\n",
      " [0 1 0 1 0 1 0 1]\n",
      " [1 0 1 0 1 0 1 0]\n",
      " [0 1 0 1 0 1 0 1]\n",
      " [1 0 1 0 1 0 1 0]\n",
      " [0 1 0 1 0 1 0 1]\n",
      " [1 0 1 0 1 0 1 0]]\n"
     ]
    }
   ],
   "source": [
    "x=np.zeros((8,8),dtype=int\n",
    "          )\n",
    "x[1::2,::2]=1\n",
    "x[::2,1::2]=1\n",
    "print(x)"
   ]
  },
  {
   "cell_type": "markdown",
   "metadata": {},
   "source": [
    "20. Consider a (6,7,8) shape array, what is the index (x,y,z) of the 100th element? \n",
    "(**hint**: np.unravel_index)"
   ]
  },
  {
   "cell_type": "code",
   "execution_count": 78,
   "metadata": {},
   "outputs": [
    {
     "name": "stdout",
     "output_type": "stream",
     "text": [
      "(1, 5, 4)\n"
     ]
    }
   ],
   "source": [
    "print(np.unravel_index(100,(6,7,8)))"
   ]
  },
  {
   "cell_type": "markdown",
   "metadata": {},
   "source": [
    "#### 21. Create a checkerboard 8x8 matrix using the tile function (★☆☆) \n",
    "(**hint**: np.tile)"
   ]
  },
  {
   "cell_type": "code",
   "execution_count": 80,
   "metadata": {},
   "outputs": [
    {
     "name": "stdout",
     "output_type": "stream",
     "text": [
      "[[0 1 0 1 0 1 0 1]\n",
      " [1 0 1 0 1 0 1 0]\n",
      " [0 1 0 1 0 1 0 1]\n",
      " [1 0 1 0 1 0 1 0]\n",
      " [0 1 0 1 0 1 0 1]\n",
      " [1 0 1 0 1 0 1 0]\n",
      " [0 1 0 1 0 1 0 1]\n",
      " [1 0 1 0 1 0 1 0]]\n"
     ]
    }
   ],
   "source": [
    "print(np.tile(np.array([[0,1],[1,0]]),(4,4)))"
   ]
  },
  {
   "cell_type": "markdown",
   "metadata": {},
   "source": [
    "#### 22. Normalize a 5x5 random matrix (★☆☆) \n",
    "(**hint**: (x - min) / (max - min))"
   ]
  },
  {
   "cell_type": "code",
   "execution_count": 81,
   "metadata": {},
   "outputs": [
    {
     "name": "stdout",
     "output_type": "stream",
     "text": [
      "[[0.70150065 0.99306053 0.63846953 0.         0.89243623]\n",
      " [0.19408406 0.92961535 0.4933005  0.26522568 0.90338929]\n",
      " [0.24694904 0.75180918 0.13377078 1.         0.64091046]\n",
      " [0.2446064  0.66968056 0.67860545 0.99777448 0.30681882]\n",
      " [0.39707924 0.71332196 0.71685559 0.23533454 0.55068128]]\n"
     ]
    }
   ],
   "source": [
    "z=np.random.random((5,5))\n",
    "z=(z-z.min())/(z.max()-z.min())\n",
    "print(z)"
   ]
  },
  {
   "cell_type": "markdown",
   "metadata": {},
   "source": [
    "#### 23. Create a custom dtype that describes a color as four unsigned bytes (RGBA) (★☆☆) \n",
    "(**hint**: np.dtype)"
   ]
  },
  {
   "cell_type": "code",
   "execution_count": 87,
   "metadata": {},
   "outputs": [
    {
     "name": "stdout",
     "output_type": "stream",
     "text": [
      "[('r', 'u1'), ('g', 'u1'), ('b', 'u1'), ('a', 'u1')]\n"
     ]
    },
    {
     "name": "stderr",
     "output_type": "stream",
     "text": [
      "C:\\Users\\Lingraj\\AppData\\Local\\Temp\\ipykernel_3812\\169687878.py:1: FutureWarning: Passing (type, 1) or '1type' as a synonym of type is deprecated; in a future version of numpy, it will be understood as (type, (1,)) / '(1,)type'.\n",
      "  color=np.dtype([(\"r\",np.ubyte,1),(\"g\",np.ubyte,1),(\"b\",np.ubyte,1),(\"a\",np.ubyte,1)])\n"
     ]
    }
   ],
   "source": [
    "color=np.dtype([(\"r\",np.ubyte,1),(\"g\",np.ubyte,1),(\"b\",np.ubyte,1),(\"a\",np.ubyte,1)])\n",
    "print(color)"
   ]
  },
  {
   "cell_type": "markdown",
   "metadata": {},
   "source": [
    "#### 24. Multiply a 5x3 matrix by a 3x2 matrix (real matrix product) (★☆☆) \n",
    "(**hint**: np.dot | @)"
   ]
  },
  {
   "cell_type": "code",
   "execution_count": 94,
   "metadata": {},
   "outputs": [
    {
     "name": "stdout",
     "output_type": "stream",
     "text": [
      "[[3 3]\n",
      " [3 3]\n",
      " [3 3]\n",
      " [3 3]\n",
      " [3 3]]\n"
     ]
    }
   ],
   "source": [
    "print(np.dot(np.ones((5,3),dtype=int),np.ones((3,2),dtype=int)))"
   ]
  },
  {
   "cell_type": "markdown",
   "metadata": {},
   "source": [
    "#### 25. Given a 1D array, negate all elements which are between 3 and 8, in place. (★☆☆) \n",
    "(**hint**: >, <=)"
   ]
  },
  {
   "cell_type": "code",
   "execution_count": 102,
   "metadata": {},
   "outputs": [
    {
     "name": "stdout",
     "output_type": "stream",
     "text": [
      "Original array is:  [ 0  1  2  3  4  5  6  7  8  9 10]\n",
      "Negated elements of array is:  [ 0  1  2  3 -4 -5 -6 -7  8  9 10]\n"
     ]
    }
   ],
   "source": [
    "z=np.arange(11)\n",
    "print(\"Original array is: \",z)\n",
    "z[(z>3) & (z<8)]*=-1\n",
    "print(\"Negated elements of array is: \",z)"
   ]
  },
  {
   "cell_type": "markdown",
   "metadata": {},
   "source": [
    "#### 26. What is the output of the following script? (★☆☆) \n",
    "(**hint**: np.sum)"
   ]
  },
  {
   "cell_type": "markdown",
   "metadata": {},
   "source": [
    "```python\n",
    "# Author: Jake VanderPlas\n",
    "\n",
    "print(sum(range(5),-1))\n",
    "from numpy import *\n",
    "print(sum(range(5),-1))\n",
    "```"
   ]
  },
  {
   "cell_type": "code",
   "execution_count": 103,
   "metadata": {},
   "outputs": [
    {
     "name": "stdout",
     "output_type": "stream",
     "text": [
      "9\n",
      "10\n"
     ]
    }
   ],
   "source": [
    "print(sum(range(5),-1))\n",
    "from numpy import *\n",
    "print(sum(range(5),-1))"
   ]
  },
  {
   "cell_type": "markdown",
   "metadata": {},
   "source": [
    "#### 27. Consider an integer vector Z, which of these expressions are legal? (★☆☆)"
   ]
  },
  {
   "cell_type": "markdown",
   "metadata": {},
   "source": [
    "```python\n",
    "Z**Z\n",
    "2 << Z >> 2\n",
    "Z <- Z\n",
    "1j*Z\n",
    "Z/1/1\n",
    "Z<Z>Z\n",
    "```"
   ]
  },
  {
   "cell_type": "code",
   "execution_count": 119,
   "metadata": {},
   "outputs": [
    {
     "name": "stdout",
     "output_type": "stream",
     "text": [
      "[0 1 2 3 4 5 6 7 8 9]\n",
      "[        1         1         4        27       256      3125     46656\n",
      "    823543  16777216 387420489]\n",
      "[  0   1   2   4   8  16  32  64 128 256]\n",
      "[False False False False False False False False False False]\n",
      "[0.+0.j 0.+1.j 0.+2.j 0.+3.j 0.+4.j 0.+5.j 0.+6.j 0.+7.j 0.+8.j 0.+9.j]\n",
      "[0. 1. 2. 3. 4. 5. 6. 7. 8. 9.]\n"
     ]
    },
    {
     "ename": "ValueError",
     "evalue": "The truth value of an array with more than one element is ambiguous. Use a.any() or a.all()",
     "output_type": "error",
     "traceback": [
      "\u001b[1;31m---------------------------------------------------------------------------\u001b[0m",
      "\u001b[1;31mValueError\u001b[0m                                Traceback (most recent call last)",
      "Input \u001b[1;32mIn [119]\u001b[0m, in \u001b[0;36m<cell line: 8>\u001b[1;34m()\u001b[0m\n\u001b[0;32m      6\u001b[0m \u001b[38;5;28mprint\u001b[39m(\u001b[38;5;241m1\u001b[39mj\u001b[38;5;241m*\u001b[39mZ)\n\u001b[0;32m      7\u001b[0m \u001b[38;5;28mprint\u001b[39m(Z\u001b[38;5;241m/\u001b[39m\u001b[38;5;241m1\u001b[39m\u001b[38;5;241m/\u001b[39m\u001b[38;5;241m1\u001b[39m)\n\u001b[1;32m----> 8\u001b[0m \u001b[38;5;28mprint\u001b[39m(Z\u001b[38;5;241m<\u001b[39mZ\u001b[38;5;241m>\u001b[39mZ)\n",
      "\u001b[1;31mValueError\u001b[0m: The truth value of an array with more than one element is ambiguous. Use a.any() or a.all()"
     ]
    }
   ],
   "source": [
    "Z=np.arange(10)\n",
    "print(Z)\n",
    "print(Z**Z)\n",
    "print(2 << Z >> 2)\n",
    "print(Z <- Z)\n",
    "print(1j*Z)\n",
    "print(Z/1/1)\n",
    "print(Z<Z>Z)"
   ]
  },
  {
   "cell_type": "markdown",
   "metadata": {},
   "source": [
    "#### 28. What are the result of the following expressions?"
   ]
  },
  {
   "cell_type": "markdown",
   "metadata": {},
   "source": [
    "```python\n",
    "np.array(0) / np.array(0)\n",
    "np.array(0) // np.array(0)\n",
    "np.array([np.nan]).astype(int).astype(float)\n",
    "```"
   ]
  },
  {
   "cell_type": "code",
   "execution_count": 114,
   "metadata": {},
   "outputs": [
    {
     "name": "stdout",
     "output_type": "stream",
     "text": [
      "[-2.14748365e+09]\n"
     ]
    }
   ],
   "source": [
    "#print(np.array(0) / np.array(0))\n",
    "#print(np.array(0) // np.array(0))\n",
    "print(np.array([np.nan]).astype(int).astype(float))"
   ]
  },
  {
   "cell_type": "markdown",
   "metadata": {},
   "source": [
    "#### 29. How to round away from zero a float array ? (★☆☆) \n",
    "(**hint**: np.uniform, np.copysign, np.ceil, np.abs)"
   ]
  },
  {
   "cell_type": "code",
   "execution_count": 136,
   "metadata": {},
   "outputs": [
    {
     "name": "stdout",
     "output_type": "stream",
     "text": [
      "[-1.47181836  3.97958304  2.33229271 -2.53113395 -6.28667319 -9.679731\n",
      " -5.37607184 -8.68757462 -3.51936642 -7.65700827]\n",
      "[ -2.   4.   3.  -3.  -7. -10.  -6.  -9.  -4.  -8.]\n"
     ]
    }
   ],
   "source": [
    "z=np.random.uniform(-10,+10,10)\n",
    "print(z)\n",
    "print(np.copysign(np.ceil(np.abs(z)),z))"
   ]
  },
  {
   "cell_type": "markdown",
   "metadata": {},
   "source": [
    "#### 30. How to find common values between two arrays? (★☆☆) \n",
    "(**hint**: np.intersect1d)"
   ]
  },
  {
   "cell_type": "code",
   "execution_count": 135,
   "metadata": {},
   "outputs": [
    {
     "name": "stdout",
     "output_type": "stream",
     "text": [
      "[3 9 1 2 6 2 9 8 7 6]\n",
      "[2 2 6 8 6 5 8 6 3 1]\n",
      "[1 2 3 6 8]\n"
     ]
    }
   ],
   "source": [
    "z1=np.random.randint(0,10,10)\n",
    "print(z1)\n",
    "z2=np.random.randint(0,10,10)\n",
    "print(z2)\n",
    "print(np.intersect1d(z1,z2))"
   ]
  },
  {
   "cell_type": "markdown",
   "metadata": {},
   "source": [
    "#### 31. How to ignore all numpy warnings (not recommended)? (★☆☆) \n",
    "(**hint**: np.seterr, np.errstate)"
   ]
  },
  {
   "cell_type": "code",
   "execution_count": 12,
   "metadata": {},
   "outputs": [],
   "source": [
    "defaults = np.seterr(all=\"ignore\")\n",
    "Z = np.ones(1) / 0\n",
    "_ = np.seterr(**defaults)\n",
    "\n",
    "with np.errstate(divide='ignore'):\n",
    "    Z = np.ones(1) / 0"
   ]
  },
  {
   "cell_type": "markdown",
   "metadata": {},
   "source": [
    "#### 32. Is the following expressions true? (★☆☆) \n",
    "(**hint**: imaginary number)"
   ]
  },
  {
   "cell_type": "markdown",
   "metadata": {},
   "source": [
    "```python\n",
    "np.sqrt(-1) == np.emath.sqrt(-1)\n",
    "```"
   ]
  },
  {
   "cell_type": "code",
   "execution_count": 11,
   "metadata": {},
   "outputs": [
    {
     "name": "stdout",
     "output_type": "stream",
     "text": [
      "False\n"
     ]
    },
    {
     "name": "stderr",
     "output_type": "stream",
     "text": [
      "C:\\Users\\Lingraj\\AppData\\Local\\Temp\\ipykernel_948\\2770867030.py:1: RuntimeWarning: invalid value encountered in sqrt\n",
      "  print(np.sqrt(-1) == np.emath.sqrt(-1))\n"
     ]
    }
   ],
   "source": [
    "print(np.sqrt(-1) == np.emath.sqrt(-1))"
   ]
  },
  {
   "cell_type": "markdown",
   "metadata": {},
   "source": [
    "#### 33. How to get the dates of yesterday, today and tomorrow? (★☆☆) \n",
    "(**hint**: np.datetime64, np.timedelta64)"
   ]
  },
  {
   "cell_type": "code",
   "execution_count": 141,
   "metadata": {},
   "outputs": [
    {
     "name": "stdout",
     "output_type": "stream",
     "text": [
      "2022-06-27\n",
      "2022-06-28\n",
      "2022-06-29\n"
     ]
    }
   ],
   "source": [
    "print(np.datetime64('today') - np.timedelta64(1))\n",
    "print(np.datetime64('today'))\n",
    "print(np.datetime64('today') + np.timedelta64(1))"
   ]
  },
  {
   "cell_type": "markdown",
   "metadata": {},
   "source": [
    "#### 34. How to get all the dates corresponding to the month of July 2016? (★★☆) \n",
    "(**hint**: np.arange(dtype=datetime64\\['D'\\]))"
   ]
  },
  {
   "cell_type": "code",
   "execution_count": 142,
   "metadata": {},
   "outputs": [
    {
     "name": "stdout",
     "output_type": "stream",
     "text": [
      "['2016-07-01' '2016-07-02' '2016-07-03' '2016-07-04' '2016-07-05'\n",
      " '2016-07-06' '2016-07-07' '2016-07-08' '2016-07-09' '2016-07-10'\n",
      " '2016-07-11' '2016-07-12' '2016-07-13' '2016-07-14' '2016-07-15'\n",
      " '2016-07-16' '2016-07-17' '2016-07-18' '2016-07-19' '2016-07-20'\n",
      " '2016-07-21' '2016-07-22' '2016-07-23' '2016-07-24' '2016-07-25'\n",
      " '2016-07-26' '2016-07-27' '2016-07-28' '2016-07-29' '2016-07-30'\n",
      " '2016-07-31']\n"
     ]
    }
   ],
   "source": [
    "Z = np.arange('2016-07', '2016-08', dtype='datetime64[D]')\n",
    "print(Z)"
   ]
  },
  {
   "cell_type": "markdown",
   "metadata": {},
   "source": [
    "#### 35. How to compute ((A+B)\\*(-A/2)) in place (without copy)? (★★☆) \n",
    "(**hint**: np.add(out=), np.negative(out=), np.multiply(out=), np.divide(out=))"
   ]
  },
  {
   "cell_type": "code",
   "execution_count": 143,
   "metadata": {
    "scrolled": true
   },
   "outputs": [
    {
     "name": "stdout",
     "output_type": "stream",
     "text": [
      "50.0\n",
      "50.0\n"
     ]
    }
   ],
   "source": [
    "A = -10\n",
    "B = 20\n",
    "z = ((A+B)*(-A/2))\n",
    "print(z)\n",
    "\n",
    "B = np.add(A,B)\n",
    "A = np.divide(A,2)\n",
    "A = np.negative(A)\n",
    "A = np.multiply(A,B)\n",
    "print(A)"
   ]
  },
  {
   "cell_type": "markdown",
   "metadata": {},
   "source": [
    "#### 36. Extract the integer part of a random array using 5 different methods (★★☆) \n",
    "(**hint**: %, np.floor, np.ceil, astype, np.trunc)"
   ]
  },
  {
   "cell_type": "code",
   "execution_count": 7,
   "metadata": {
    "scrolled": true
   },
   "outputs": [
    {
     "name": "stdout",
     "output_type": "stream",
     "text": [
      "[5.90810423 6.87881083 2.58958432 6.94820729 0.11183686 1.76156295\n",
      " 9.42275626 6.30474792 0.89096871 8.85094953]\n",
      "[5. 6. 2. 6. 0. 1. 9. 6. 0. 8.]\n",
      "[5. 6. 2. 6. 0. 1. 9. 6. 0. 8.]\n",
      "[5. 6. 2. 6. 0. 1. 9. 6. 0. 8.]\n",
      "[5 6 2 6 0 1 9 6 0 8]\n",
      "[5. 6. 2. 6. 0. 1. 9. 6. 0. 8.]\n"
     ]
    }
   ],
   "source": [
    "Z = np.random.uniform(0,10,10)\n",
    "print(Z)\n",
    "print (Z-Z%1)\n",
    "print (np.floor(Z))\n",
    "print (np.ceil(Z)-1)\n",
    "print (Z.astype(int))\n",
    "print (np.trunc(Z))"
   ]
  },
  {
   "cell_type": "markdown",
   "metadata": {},
   "source": [
    "#### 37. Create a 5x5 matrix with row values ranging from 0 to 4 (★★☆) \n",
    "(**hint**: np.arange)"
   ]
  },
  {
   "cell_type": "code",
   "execution_count": 138,
   "metadata": {},
   "outputs": [
    {
     "name": "stdout",
     "output_type": "stream",
     "text": [
      "[[0 1 2 3 4]\n",
      " [0 1 2 3 4]\n",
      " [0 1 2 3 4]\n",
      " [0 1 2 3 4]\n",
      " [0 1 2 3 4]]\n"
     ]
    }
   ],
   "source": [
    "z=np.zeros((5,5),dtype=int)\n",
    "z+=np.arange(5)\n",
    "print(z)"
   ]
  },
  {
   "cell_type": "markdown",
   "metadata": {},
   "source": [
    "#### 38. Consider a generator function that generates 10 integers and use it to build an array (★☆☆) \n",
    "(**hint**: np.fromiter)"
   ]
  },
  {
   "cell_type": "code",
   "execution_count": 191,
   "metadata": {},
   "outputs": [
    {
     "name": "stdout",
     "output_type": "stream",
     "text": [
      "[ 1  2  3  4  5  6  7  8  9 10]\n"
     ]
    }
   ],
   "source": [
    "def generate():\n",
    "    for x in range(1,11):\n",
    "        yield x\n",
    "Z = np.fromiter(generate(),dtype=int,count=-1)\n",
    "print(Z)"
   ]
  },
  {
   "cell_type": "markdown",
   "metadata": {},
   "source": [
    "#### 39. Create a vector of size 10 with values ranging from 0 to 1, both excluded (★★☆) \n",
    "(**hint**: np.linspace)"
   ]
  },
  {
   "cell_type": "code",
   "execution_count": 193,
   "metadata": {},
   "outputs": [
    {
     "name": "stdout",
     "output_type": "stream",
     "text": [
      "[0.09090909 0.18181818 0.27272727 0.36363636 0.45454545 0.54545455\n",
      " 0.63636364 0.72727273 0.81818182 0.90909091]\n"
     ]
    }
   ],
   "source": [
    "Z = np.linspace(0,1,12,endpoint=True)[1:-1]\n",
    "print(Z)"
   ]
  },
  {
   "cell_type": "markdown",
   "metadata": {},
   "source": [
    "#### 40. Create a random vector of size 10 and sort it (★★☆) \n",
    "(**hint**: sort)"
   ]
  },
  {
   "cell_type": "code",
   "execution_count": 196,
   "metadata": {},
   "outputs": [
    {
     "name": "stdout",
     "output_type": "stream",
     "text": [
      "[36 12 49 18 47 20 24 19 43 44]\n",
      "[12 18 19 20 24 36 43 44 47 49]\n"
     ]
    }
   ],
   "source": [
    "z = np.random.uniform(10,50,10)\n",
    "print(z.astype(int))\n",
    "z.sort()\n",
    "print(z.astype(int))"
   ]
  },
  {
   "cell_type": "markdown",
   "metadata": {},
   "source": [
    "#### 41. How to sum a small array faster than np.sum? (★★☆) \n",
    "(**hint**: np.add.reduce)"
   ]
  },
  {
   "cell_type": "code",
   "execution_count": 200,
   "metadata": {},
   "outputs": [
    {
     "name": "stdout",
     "output_type": "stream",
     "text": [
      "[0 1 2 3 4 5 6 7 8 9]\n",
      "45\n",
      "45\n"
     ]
    }
   ],
   "source": [
    "z = np.arange(10)\n",
    "print(z)\n",
    "print(np.sum(z))\n",
    "print(np.add.reduce(z))"
   ]
  },
  {
   "cell_type": "markdown",
   "metadata": {},
   "source": [
    "#### 42. Consider two random array A and B, check if they are equal (★★☆) \n",
    "(**hint**: np.allclose, np.array\\_equal)"
   ]
  },
  {
   "cell_type": "code",
   "execution_count": 206,
   "metadata": {},
   "outputs": [
    {
     "name": "stdout",
     "output_type": "stream",
     "text": [
      "[1 0 1 1 1] [0 0 0 1 0]\n",
      "False\n",
      "False\n"
     ]
    }
   ],
   "source": [
    "A = np.random.randint(0,2,5)\n",
    "B = np.random.randint(0,2,5)\n",
    "print(A,B)\n",
    "equal = np.allclose(A,B)\n",
    "print(equal)\n",
    "equal1 = np.array_equal(A,B)\n",
    "print(equal1)"
   ]
  },
  {
   "cell_type": "markdown",
   "metadata": {},
   "source": [
    "#### 43. Make an array immutable (read-only) (★★☆) \n",
    "(**hint**: flags.writeable)"
   ]
  },
  {
   "cell_type": "code",
   "execution_count": 210,
   "metadata": {},
   "outputs": [
    {
     "ename": "ValueError",
     "evalue": "assignment destination is read-only",
     "output_type": "error",
     "traceback": [
      "\u001b[1;31m---------------------------------------------------------------------------\u001b[0m",
      "\u001b[1;31mValueError\u001b[0m                                Traceback (most recent call last)",
      "Input \u001b[1;32mIn [210]\u001b[0m, in \u001b[0;36m<cell line: 3>\u001b[1;34m()\u001b[0m\n\u001b[0;32m      1\u001b[0m Z \u001b[38;5;241m=\u001b[39m np\u001b[38;5;241m.\u001b[39mzeros(\u001b[38;5;241m10\u001b[39m)\n\u001b[0;32m      2\u001b[0m Z\u001b[38;5;241m.\u001b[39mflags\u001b[38;5;241m.\u001b[39mwriteable \u001b[38;5;241m=\u001b[39m \u001b[38;5;28;01mFalse\u001b[39;00m\n\u001b[1;32m----> 3\u001b[0m Z[\u001b[38;5;241m0\u001b[39m] \u001b[38;5;241m=\u001b[39m \u001b[38;5;241m1\u001b[39m\n\u001b[0;32m      4\u001b[0m \u001b[38;5;28mprint\u001b[39m(Z)\n",
      "\u001b[1;31mValueError\u001b[0m: assignment destination is read-only"
     ]
    }
   ],
   "source": [
    "Z = np.zeros(10)\n",
    "Z.flags.writeable = False\n",
    "Z[0] = 1\n",
    "print(Z)"
   ]
  },
  {
   "cell_type": "markdown",
   "metadata": {},
   "source": [
    "#### 44. Consider a random 10x2 matrix representing cartesian coordinates, convert them to polar coordinates (★★☆) \n",
    "(**hint**: np.sqrt, np.arctan2)"
   ]
  },
  {
   "cell_type": "code",
   "execution_count": 214,
   "metadata": {},
   "outputs": [
    {
     "name": "stdout",
     "output_type": "stream",
     "text": [
      "[0.53295205 0.73777911 0.44450558 1.17989069 0.81701372 0.74784367\n",
      " 0.59559098 0.5931244  1.23222745 0.93477442]\n",
      "[0.01425481 0.10252835 0.53253589 0.61302203 1.30380946 0.28456095\n",
      " 0.85541489 0.07109642 0.88911327 1.50449239]\n"
     ]
    }
   ],
   "source": [
    "Z = np.random.random((10,2))\n",
    "X,Y = Z[:,0], Z[:,1]\n",
    "R = np.sqrt(X**2+Y**2)\n",
    "T = np.arctan2(Y,X)\n",
    "print(R)\n",
    "print(T)"
   ]
  },
  {
   "cell_type": "markdown",
   "metadata": {},
   "source": [
    "#### 45. Create random vector of size 10 and replace the maximum value by 0 (★★☆) \n",
    "(**hint**: argmax)"
   ]
  },
  {
   "cell_type": "code",
   "execution_count": 217,
   "metadata": {},
   "outputs": [
    {
     "name": "stdout",
     "output_type": "stream",
     "text": [
      "[0.18447918 0.44313546 0.65891563 0.9405108  0.56930119 0.7401751\n",
      " 0.59436441 0.56176633 0.86995422 0.3947989 ]\n",
      "[0.18447918 0.44313546 0.65891563 0.         0.56930119 0.7401751\n",
      " 0.59436441 0.56176633 0.86995422 0.3947989 ]\n"
     ]
    }
   ],
   "source": [
    "Z = np.random.random(10)\n",
    "print(Z)\n",
    "Z[Z.argmax()] = 0\n",
    "print(Z)"
   ]
  },
  {
   "cell_type": "markdown",
   "metadata": {},
   "source": [
    "#### 46. Create a structured array with `x` and `y` coordinates covering the \\[0,1\\]x\\[0,1\\] area (★★☆) \n",
    "(**hint**: np.meshgrid)"
   ]
  },
  {
   "cell_type": "code",
   "execution_count": 218,
   "metadata": {},
   "outputs": [
    {
     "name": "stdout",
     "output_type": "stream",
     "text": [
      "[[(0.  , 0.  ) (0.25, 0.  ) (0.5 , 0.  ) (0.75, 0.  ) (1.  , 0.  )]\n",
      " [(0.  , 0.25) (0.25, 0.25) (0.5 , 0.25) (0.75, 0.25) (1.  , 0.25)]\n",
      " [(0.  , 0.5 ) (0.25, 0.5 ) (0.5 , 0.5 ) (0.75, 0.5 ) (1.  , 0.5 )]\n",
      " [(0.  , 0.75) (0.25, 0.75) (0.5 , 0.75) (0.75, 0.75) (1.  , 0.75)]\n",
      " [(0.  , 1.  ) (0.25, 1.  ) (0.5 , 1.  ) (0.75, 1.  ) (1.  , 1.  )]]\n"
     ]
    }
   ],
   "source": [
    "Z = np.zeros((5,5), [('x',float),('y',float)])\n",
    "Z['x'], Z['y'] = np.meshgrid(np.linspace(0,1,5),np.linspace(0,1,5))\n",
    "print(Z)"
   ]
  },
  {
   "cell_type": "markdown",
   "metadata": {},
   "source": [
    "####  47. Given two arrays, X and Y, construct the Cauchy matrix C (Cij =1/(xi - yj)) \n",
    "(**hint**: np.subtract.outer)"
   ]
  },
  {
   "cell_type": "code",
   "execution_count": 167,
   "metadata": {},
   "outputs": [
    {
     "name": "stdout",
     "output_type": "stream",
     "text": [
      "3638.1636371179666\n"
     ]
    }
   ],
   "source": [
    "X = np.arange(8)\n",
    "Y = X + 0.5\n",
    "C = 1.0 / np.subtract.outer(X, Y)\n",
    "print(np.linalg.det(C))"
   ]
  },
  {
   "cell_type": "markdown",
   "metadata": {},
   "source": [
    "#### 48. Print the minimum and maximum representable value for each numpy scalar type (★★☆) \n",
    "(**hint**: np.iinfo, np.finfo, eps)"
   ]
  },
  {
   "cell_type": "code",
   "execution_count": 168,
   "metadata": {},
   "outputs": [
    {
     "name": "stdout",
     "output_type": "stream",
     "text": [
      "-128\n",
      "127\n",
      "-2147483648\n",
      "2147483647\n",
      "-9223372036854775808\n",
      "9223372036854775807\n",
      "-3.4028235e+38\n",
      "3.4028235e+38\n",
      "1.1920929e-07\n",
      "-1.7976931348623157e+308\n",
      "1.7976931348623157e+308\n",
      "2.220446049250313e-16\n"
     ]
    }
   ],
   "source": [
    "for dtype in [np.int8, np.int32, np.int64]:\n",
    "   print(np.iinfo(dtype).min)\n",
    "   print(np.iinfo(dtype).max)\n",
    "for dtype in [np.float32, np.float64]:\n",
    "   print(np.finfo(dtype).min)\n",
    "   print(np.finfo(dtype).max)\n",
    "   print(np.finfo(dtype).eps)"
   ]
  },
  {
   "cell_type": "markdown",
   "metadata": {},
   "source": [
    "#### 49. How to print all the values of an array? (★★☆) \n",
    "(**hint**: np.set\\_printoptions)"
   ]
  },
  {
   "cell_type": "code",
   "execution_count": 5,
   "metadata": {},
   "outputs": [
    {
     "name": "stdout",
     "output_type": "stream",
     "text": [
      "[   0    1    2    3    4    5    6    7    8    9   10   11   12   13\n",
      "   14   15   16   17   18   19   20   21   22   23   24   25   26   27\n",
      "   28   29   30   31   32   33   34   35   36   37   38   39   40   41\n",
      "   42   43   44   45   46   47   48   49   50   51   52   53   54   55\n",
      "   56   57   58   59   60   61   62   63   64   65   66   67   68   69\n",
      "   70   71   72   73   74   75   76   77   78   79   80   81   82   83\n",
      "   84   85   86   87   88   89   90   91   92   93   94   95   96   97\n",
      "   98   99  100  101  102  103  104  105  106  107  108  109  110  111\n",
      "  112  113  114  115  116  117  118  119  120  121  122  123  124  125\n",
      "  126  127  128  129  130  131  132  133  134  135  136  137  138  139\n",
      "  140  141  142  143  144  145  146  147  148  149  150  151  152  153\n",
      "  154  155  156  157  158  159  160  161  162  163  164  165  166  167\n",
      "  168  169  170  171  172  173  174  175  176  177  178  179  180  181\n",
      "  182  183  184  185  186  187  188  189  190  191  192  193  194  195\n",
      "  196  197  198  199  200  201  202  203  204  205  206  207  208  209\n",
      "  210  211  212  213  214  215  216  217  218  219  220  221  222  223\n",
      "  224  225  226  227  228  229  230  231  232  233  234  235  236  237\n",
      "  238  239  240  241  242  243  244  245  246  247  248  249  250  251\n",
      "  252  253  254  255  256  257  258  259  260  261  262  263  264  265\n",
      "  266  267  268  269  270  271  272  273  274  275  276  277  278  279\n",
      "  280  281  282  283  284  285  286  287  288  289  290  291  292  293\n",
      "  294  295  296  297  298  299  300  301  302  303  304  305  306  307\n",
      "  308  309  310  311  312  313  314  315  316  317  318  319  320  321\n",
      "  322  323  324  325  326  327  328  329  330  331  332  333  334  335\n",
      "  336  337  338  339  340  341  342  343  344  345  346  347  348  349\n",
      "  350  351  352  353  354  355  356  357  358  359  360  361  362  363\n",
      "  364  365  366  367  368  369  370  371  372  373  374  375  376  377\n",
      "  378  379  380  381  382  383  384  385  386  387  388  389  390  391\n",
      "  392  393  394  395  396  397  398  399  400  401  402  403  404  405\n",
      "  406  407  408  409  410  411  412  413  414  415  416  417  418  419\n",
      "  420  421  422  423  424  425  426  427  428  429  430  431  432  433\n",
      "  434  435  436  437  438  439  440  441  442  443  444  445  446  447\n",
      "  448  449  450  451  452  453  454  455  456  457  458  459  460  461\n",
      "  462  463  464  465  466  467  468  469  470  471  472  473  474  475\n",
      "  476  477  478  479  480  481  482  483  484  485  486  487  488  489\n",
      "  490  491  492  493  494  495  496  497  498  499  500  501  502  503\n",
      "  504  505  506  507  508  509  510  511  512  513  514  515  516  517\n",
      "  518  519  520  521  522  523  524  525  526  527  528  529  530  531\n",
      "  532  533  534  535  536  537  538  539  540  541  542  543  544  545\n",
      "  546  547  548  549  550  551  552  553  554  555  556  557  558  559\n",
      "  560  561  562  563  564  565  566  567  568  569  570  571  572  573\n",
      "  574  575  576  577  578  579  580  581  582  583  584  585  586  587\n",
      "  588  589  590  591  592  593  594  595  596  597  598  599  600  601\n",
      "  602  603  604  605  606  607  608  609  610  611  612  613  614  615\n",
      "  616  617  618  619  620  621  622  623  624  625  626  627  628  629\n",
      "  630  631  632  633  634  635  636  637  638  639  640  641  642  643\n",
      "  644  645  646  647  648  649  650  651  652  653  654  655  656  657\n",
      "  658  659  660  661  662  663  664  665  666  667  668  669  670  671\n",
      "  672  673  674  675  676  677  678  679  680  681  682  683  684  685\n",
      "  686  687  688  689  690  691  692  693  694  695  696  697  698  699\n",
      "  700  701  702  703  704  705  706  707  708  709  710  711  712  713\n",
      "  714  715  716  717  718  719  720  721  722  723  724  725  726  727\n",
      "  728  729  730  731  732  733  734  735  736  737  738  739  740  741\n",
      "  742  743  744  745  746  747  748  749  750  751  752  753  754  755\n",
      "  756  757  758  759  760  761  762  763  764  765  766  767  768  769\n",
      "  770  771  772  773  774  775  776  777  778  779  780  781  782  783\n",
      "  784  785  786  787  788  789  790  791  792  793  794  795  796  797\n",
      "  798  799  800  801  802  803  804  805  806  807  808  809  810  811\n",
      "  812  813  814  815  816  817  818  819  820  821  822  823  824  825\n",
      "  826  827  828  829  830  831  832  833  834  835  836  837  838  839\n",
      "  840  841  842  843  844  845  846  847  848  849  850  851  852  853\n",
      "  854  855  856  857  858  859  860  861  862  863  864  865  866  867\n",
      "  868  869  870  871  872  873  874  875  876  877  878  879  880  881\n",
      "  882  883  884  885  886  887  888  889  890  891  892  893  894  895\n",
      "  896  897  898  899  900  901  902  903  904  905  906  907  908  909\n",
      "  910  911  912  913  914  915  916  917  918  919  920  921  922  923\n",
      "  924  925  926  927  928  929  930  931  932  933  934  935  936  937\n",
      "  938  939  940  941  942  943  944  945  946  947  948  949  950  951\n",
      "  952  953  954  955  956  957  958  959  960  961  962  963  964  965\n",
      "  966  967  968  969  970  971  972  973  974  975  976  977  978  979\n",
      "  980  981  982  983  984  985  986  987  988  989  990  991  992  993\n",
      "  994  995  996  997  998  999 1000]\n",
      "[   0    1    2    3    4    5    6    7    8    9   10   11   12   13\n",
      "   14   15   16   17   18   19   20   21   22   23   24   25   26   27\n",
      "   28   29   30   31   32   33   34   35   36   37   38   39   40   41\n",
      "   42   43   44   45   46   47   48   49   50   51   52   53   54   55\n",
      "   56   57   58   59   60   61   62   63   64   65   66   67   68   69\n",
      "   70   71   72   73   74   75   76   77   78   79   80   81   82   83\n",
      "   84   85   86   87   88   89   90   91   92   93   94   95   96   97\n",
      "   98   99  100  101  102  103  104  105  106  107  108  109  110  111\n",
      "  112  113  114  115  116  117  118  119  120  121  122  123  124  125\n",
      "  126  127  128  129  130  131  132  133  134  135  136  137  138  139\n",
      "  140  141  142  143  144  145  146  147  148  149  150  151  152  153\n",
      "  154  155  156  157  158  159  160  161  162  163  164  165  166  167\n",
      "  168  169  170  171  172  173  174  175  176  177  178  179  180  181\n",
      "  182  183  184  185  186  187  188  189  190  191  192  193  194  195\n",
      "  196  197  198  199  200  201  202  203  204  205  206  207  208  209\n",
      "  210  211  212  213  214  215  216  217  218  219  220  221  222  223\n",
      "  224  225  226  227  228  229  230  231  232  233  234  235  236  237\n",
      "  238  239  240  241  242  243  244  245  246  247  248  249  250  251\n",
      "  252  253  254  255  256  257  258  259  260  261  262  263  264  265\n",
      "  266  267  268  269  270  271  272  273  274  275  276  277  278  279\n",
      "  280  281  282  283  284  285  286  287  288  289  290  291  292  293\n",
      "  294  295  296  297  298  299  300  301  302  303  304  305  306  307\n",
      "  308  309  310  311  312  313  314  315  316  317  318  319  320  321\n",
      "  322  323  324  325  326  327  328  329  330  331  332  333  334  335\n",
      "  336  337  338  339  340  341  342  343  344  345  346  347  348  349\n",
      "  350  351  352  353  354  355  356  357  358  359  360  361  362  363\n",
      "  364  365  366  367  368  369  370  371  372  373  374  375  376  377\n",
      "  378  379  380  381  382  383  384  385  386  387  388  389  390  391\n",
      "  392  393  394  395  396  397  398  399  400  401  402  403  404  405\n",
      "  406  407  408  409  410  411  412  413  414  415  416  417  418  419\n",
      "  420  421  422  423  424  425  426  427  428  429  430  431  432  433\n",
      "  434  435  436  437  438  439  440  441  442  443  444  445  446  447\n",
      "  448  449  450  451  452  453  454  455  456  457  458  459  460  461\n",
      "  462  463  464  465  466  467  468  469  470  471  472  473  474  475\n",
      "  476  477  478  479  480  481  482  483  484  485  486  487  488  489\n",
      "  490  491  492  493  494  495  496  497  498  499  500  501  502  503\n",
      "  504  505  506  507  508  509  510  511  512  513  514  515  516  517\n",
      "  518  519  520  521  522  523  524  525  526  527  528  529  530  531\n",
      "  532  533  534  535  536  537  538  539  540  541  542  543  544  545\n",
      "  546  547  548  549  550  551  552  553  554  555  556  557  558  559\n",
      "  560  561  562  563  564  565  566  567  568  569  570  571  572  573\n",
      "  574  575  576  577  578  579  580  581  582  583  584  585  586  587\n",
      "  588  589  590  591  592  593  594  595  596  597  598  599  600  601\n",
      "  602  603  604  605  606  607  608  609  610  611  612  613  614  615\n",
      "  616  617  618  619  620  621  622  623  624  625  626  627  628  629\n",
      "  630  631  632  633  634  635  636  637  638  639  640  641  642  643\n",
      "  644  645  646  647  648  649  650  651  652  653  654  655  656  657\n",
      "  658  659  660  661  662  663  664  665  666  667  668  669  670  671\n",
      "  672  673  674  675  676  677  678  679  680  681  682  683  684  685\n",
      "  686  687  688  689  690  691  692  693  694  695  696  697  698  699\n",
      "  700  701  702  703  704  705  706  707  708  709  710  711  712  713\n",
      "  714  715  716  717  718  719  720  721  722  723  724  725  726  727\n",
      "  728  729  730  731  732  733  734  735  736  737  738  739  740  741\n",
      "  742  743  744  745  746  747  748  749  750  751  752  753  754  755\n",
      "  756  757  758  759  760  761  762  763  764  765  766  767  768  769\n",
      "  770  771  772  773  774  775  776  777  778  779  780  781  782  783\n",
      "  784  785  786  787  788  789  790  791  792  793  794  795  796  797\n",
      "  798  799  800  801  802  803  804  805  806  807  808  809  810  811\n",
      "  812  813  814  815  816  817  818  819  820  821  822  823  824  825\n",
      "  826  827  828  829  830  831  832  833  834  835  836  837  838  839\n",
      "  840  841  842  843  844  845  846  847  848  849  850  851  852  853\n",
      "  854  855  856  857  858  859  860  861  862  863  864  865  866  867\n",
      "  868  869  870  871  872  873  874  875  876  877  878  879  880  881\n",
      "  882  883  884  885  886  887  888  889  890  891  892  893  894  895\n",
      "  896  897  898  899  900  901  902  903  904  905  906  907  908  909\n",
      "  910  911  912  913  914  915  916  917  918  919  920  921  922  923\n",
      "  924  925  926  927  928  929  930  931  932  933  934  935  936  937\n",
      "  938  939  940  941  942  943  944  945  946  947  948  949  950  951\n",
      "  952  953  954  955  956  957  958  959  960  961  962  963  964  965\n",
      "  966  967  968  969  970  971  972  973  974  975  976  977  978  979\n",
      "  980  981  982  983  984  985  986  987  988  989  990  991  992  993\n",
      "  994  995  996  997  998  999 1000]\n"
     ]
    }
   ],
   "source": [
    "import numpy as np\n",
    "my_array=np.arange(1001)\n",
    "print(my_array)\n",
    "np.set_printoptions(threshold=np.inf)\n",
    "print(my_array)"
   ]
  },
  {
   "cell_type": "markdown",
   "metadata": {},
   "source": [
    "#### 50. How to find the closest value (to a given scalar) in a vector? (★★☆) \n",
    "(**hint**: argmin)"
   ]
  },
  {
   "cell_type": "code",
   "execution_count": 6,
   "metadata": {},
   "outputs": [
    {
     "name": "stdout",
     "output_type": "stream",
     "text": [
      "12\n"
     ]
    }
   ],
   "source": [
    "Z = np.arange(100)\n",
    "v = np.random.uniform(0,100)\n",
    "index = (np.abs(Z-v)).argmin()\n",
    "print(Z[index])"
   ]
  },
  {
   "cell_type": "markdown",
   "metadata": {},
   "source": [
    "51. Create a structured array representing a position (x,y) and a color (r,g,b) (★★☆) \n",
    "(**hint**: dtype)"
   ]
  },
  {
   "cell_type": "code",
   "execution_count": 3,
   "metadata": {
    "scrolled": true
   },
   "outputs": [
    {
     "name": "stdout",
     "output_type": "stream",
     "text": [
      "[((0., 0.), (0., 0., 0.)) ((0., 0.), (0., 0., 0.))\n",
      " ((0., 0.), (0., 0., 0.)) ((0., 0.), (0., 0., 0.))\n",
      " ((0., 0.), (0., 0., 0.)) ((0., 0.), (0., 0., 0.))\n",
      " ((0., 0.), (0., 0., 0.)) ((0., 0.), (0., 0., 0.))\n",
      " ((0., 0.), (0., 0., 0.)) ((0., 0.), (0., 0., 0.))]\n"
     ]
    },
    {
     "name": "stderr",
     "output_type": "stream",
     "text": [
      "C:\\Users\\Lingraj\\AppData\\Local\\Temp\\ipykernel_11344\\172073509.py:1: FutureWarning: Passing (type, 1) or '1type' as a synonym of type is deprecated; in a future version of numpy, it will be understood as (type, (1,)) / '(1,)type'.\n",
      "  Z = np.zeros(10, [ ('position', [ ('x', float, 1),\n"
     ]
    }
   ],
   "source": [
    "Z = np.zeros(10, [ ('position', [ ('x', float, 1),\n",
    "                                 ('y', float, 1)]),                     \n",
    "                  ('color',    [ ('r', float, 1),                                    \n",
    "                                ('g', float, 1),                                   \n",
    "                                ('b', float, 1)])]) \n",
    "print(Z)"
   ]
  },
  {
   "cell_type": "markdown",
   "metadata": {},
   "source": [
    "#### 52. Consider a random vector with shape (100,2) representing coordinates, find point by point distances (★★☆) \n",
    "(**hint**: np.atleast\\_2d, T, np.sqrt)"
   ]
  },
  {
   "cell_type": "code",
   "execution_count": 4,
   "metadata": {},
   "outputs": [
    {
     "name": "stdout",
     "output_type": "stream",
     "text": [
      "[[1. 1.]\n",
      " [2. 2.]\n",
      " [3. 3.]]\n",
      "[[0.         1.41421356 2.82842712]\n",
      " [1.41421356 0.         1.41421356]\n",
      " [2.82842712 1.41421356 0.        ]]\n"
     ]
    }
   ],
   "source": [
    "import numpy as np\n",
    "Z = np.linspace((1,1),(3,3),3)\n",
    "print(Z)\n",
    "X,Y = np.atleast_2d(Z[:,0], Z[:,1])\n",
    "D = np.sqrt( (X-X.T)**2 + (Y-Y.T)**2)\n",
    "print(D)"
   ]
  },
  {
   "cell_type": "markdown",
   "metadata": {},
   "source": [
    "#### 53. How to convert a float (32 bits) array into an integer (32 bits) in place? \n",
    "(**hint**: astype(copy=False))"
   ]
  },
  {
   "cell_type": "code",
   "execution_count": 5,
   "metadata": {},
   "outputs": [
    {
     "name": "stdout",
     "output_type": "stream",
     "text": [
      "[89.35083 81.81132 29.22396]\n",
      "[89 81 29]\n",
      "True\n"
     ]
    }
   ],
   "source": [
    "Z = (np.random.rand(3)*100).astype(np.float32)\n",
    "print(Z)\n",
    "Y = Z.view(np.int32)\n",
    "Y[:] = Z\n",
    "print(Y)\n",
    "print(Y.base is Z)"
   ]
  },
  {
   "cell_type": "markdown",
   "metadata": {},
   "source": [
    "#### 54. How to read the following file? (★★☆) \n",
    "(**hint**: np.genfromtxt)"
   ]
  },
  {
   "cell_type": "markdown",
   "metadata": {},
   "source": [
    "```\n",
    "1, 2, 3, 4, 5\n",
    "6,  ,  , 7, 8\n",
    " ,  , 9,10,11\n",
    "```"
   ]
  },
  {
   "cell_type": "code",
   "execution_count": 7,
   "metadata": {},
   "outputs": [
    {
     "name": "stdout",
     "output_type": "stream",
     "text": [
      "[[ 1  2  3  4  5]\n",
      " [ 6 -1 -1  7  8]\n",
      " [-1 -1  9 10 11]]\n"
     ]
    }
   ],
   "source": [
    "from io import StringIO\n",
    "s = StringIO('''\n",
    "1, 2, 3, 4, 5\n",
    "6,  ,  , 7, 8\n",
    ",  , 9,10,11\n",
    "''')\n",
    "Z = np.genfromtxt(s, delimiter=\",\", dtype=int)\n",
    "print(Z)"
   ]
  },
  {
   "cell_type": "markdown",
   "metadata": {},
   "source": [
    "#### 55. What is the equivalent of enumerate for numpy arrays? (★★☆) \n",
    "(**hint**: np.ndenumerate, np.ndindex)"
   ]
  },
  {
   "cell_type": "code",
   "execution_count": 8,
   "metadata": {},
   "outputs": [
    {
     "name": "stdout",
     "output_type": "stream",
     "text": [
      "(0, 0) 0\n",
      "(0, 1) 1\n",
      "(1, 0) 2\n",
      "(1, 1) 3\n",
      "(0, 0) 0\n",
      "(0, 1) 1\n",
      "(1, 0) 2\n",
      "(1, 1) 3\n"
     ]
    }
   ],
   "source": [
    "Z = np.arange(4).reshape(2,2)\n",
    "for index, value in np.ndenumerate(Z):\n",
    "    print(index, value)\n",
    "for index in np.ndindex(Z.shape):\n",
    "    print(index, Z[index])"
   ]
  },
  {
   "cell_type": "markdown",
   "metadata": {},
   "source": [
    "#### 56. Generate a generic 2D Gaussian-like array (★★☆) \n",
    "(**hint**: np.meshgrid, np.exp)"
   ]
  },
  {
   "cell_type": "code",
   "execution_count": 9,
   "metadata": {},
   "outputs": [
    {
     "name": "stdout",
     "output_type": "stream",
     "text": [
      "(5, 4)\n",
      "[[0.36787944 0.57375342 0.57375342 0.36787944]\n",
      " [0.53526143 0.8348063  0.8348063  0.53526143]\n",
      " [0.60653066 0.94595947 0.94595947 0.60653066]\n",
      " [0.53526143 0.8348063  0.8348063  0.53526143]\n",
      " [0.36787944 0.57375342 0.57375342 0.36787944]]\n"
     ]
    }
   ],
   "source": [
    "X, Y = np.meshgrid(np.linspace(-1,1,4), np.linspace(-1,1,5))\n",
    "D = np.sqrt(X*X+Y*Y)\n",
    "sigma, mu = 1.0, 0.0\n",
    "G = np.exp(-( (D-mu)**2 / ( 2.0 * sigma**2 ) ) )\n",
    "print(G.shape)\n",
    "print(G)"
   ]
  },
  {
   "cell_type": "markdown",
   "metadata": {},
   "source": [
    "#### 57. How to randomly place p elements in a 2D array? (★★☆) \n",
    "(**hint**: np.put, np.random.choice)"
   ]
  },
  {
   "cell_type": "code",
   "execution_count": 10,
   "metadata": {},
   "outputs": [
    {
     "name": "stdout",
     "output_type": "stream",
     "text": [
      "[[0. 0. 0. 0. 0. 0. 0. 0. 0. 0.]\n",
      " [0. 0. 0. 0. 0. 0. 0. 0. 0. 0.]\n",
      " [0. 0. 0. 0. 0. 0. 0. 0. 0. 0.]\n",
      " [0. 0. 0. 0. 1. 0. 0. 0. 0. 0.]\n",
      " [0. 0. 0. 0. 0. 0. 0. 0. 1. 0.]\n",
      " [0. 0. 0. 0. 0. 0. 0. 0. 0. 0.]\n",
      " [0. 0. 0. 1. 0. 0. 0. 0. 0. 0.]\n",
      " [0. 0. 0. 0. 0. 0. 0. 0. 0. 0.]\n",
      " [0. 0. 0. 0. 0. 0. 0. 0. 0. 0.]\n",
      " [0. 0. 0. 0. 0. 0. 0. 0. 0. 0.]]\n",
      "[24 70 12]\n"
     ]
    }
   ],
   "source": [
    "n = 10\n",
    "p = 3\n",
    "Z = np.zeros((n,n))\n",
    "np.put(Z, np.random.choice(range(n*n), p , replace= False),1)\n",
    "print(Z)\n",
    "\n",
    "print(np.random.choice(range(n*n), p))"
   ]
  },
  {
   "cell_type": "markdown",
   "metadata": {},
   "source": [
    "#### 58. Subtract the mean of each row of a matrix (★★☆) \n",
    "(**hint**: mean(axis=,keepdims=))"
   ]
  },
  {
   "cell_type": "code",
   "execution_count": 11,
   "metadata": {},
   "outputs": [
    {
     "name": "stdout",
     "output_type": "stream",
     "text": [
      "[[0.16418819 0.631057   0.40463451 0.74013918 0.81754718 0.85821711\n",
      "  0.27014725 0.9986811  0.844368   0.96011248]\n",
      " [0.05882458 0.47650166 0.26572789 0.71300119 0.23185891 0.98228352\n",
      "  0.86761951 0.37359802 0.45764937 0.7374992 ]\n",
      " [0.827798   0.09785561 0.48857111 0.60079197 0.56613579 0.01673196\n",
      "  0.47187255 0.73564648 0.37927337 0.08897154]\n",
      " [0.02632799 0.60860002 0.35751099 0.14376949 0.82453256 0.66593173\n",
      "  0.44350676 0.44950447 0.5151782  0.71063646]\n",
      " [0.13950883 0.56516872 0.19774802 0.59231974 0.98385578 0.28246508\n",
      "  0.21050586 0.00834279 0.63649969 0.72763904]]\n",
      "[[-0.50472101 -0.0378522  -0.26427469  0.07122998  0.14863798  0.18930791\n",
      "  -0.39876195  0.3297719   0.17545879  0.29120328]\n",
      " [-0.4576318  -0.03995472 -0.2507285   0.19654481 -0.28459748  0.46582713\n",
      "   0.35116312 -0.14285837 -0.05880702  0.22104282]\n",
      " [ 0.40043316 -0.32950922  0.06120627  0.17342714  0.13877095 -0.41063288\n",
      "   0.04450771  0.30828164 -0.04809147 -0.33839329]\n",
      " [-0.44822188  0.13405015 -0.11703887 -0.33078037  0.34998269  0.19138187\n",
      "  -0.03104311 -0.0250454   0.04062833  0.2360866 ]\n",
      " [-0.29489653  0.13076337 -0.23665733  0.15791438  0.54945042 -0.15194027\n",
      "  -0.22389949 -0.42606257  0.20209433  0.29323368]]\n",
      "[[-0.50472101 -0.0378522  -0.26427469  0.07122998  0.14863798  0.18930791\n",
      "  -0.39876195  0.3297719   0.17545879  0.29120328]\n",
      " [-0.4576318  -0.03995472 -0.2507285   0.19654481 -0.28459748  0.46582713\n",
      "   0.35116312 -0.14285837 -0.05880702  0.22104282]\n",
      " [ 0.40043316 -0.32950922  0.06120627  0.17342714  0.13877095 -0.41063288\n",
      "   0.04450771  0.30828164 -0.04809147 -0.33839329]\n",
      " [-0.44822188  0.13405015 -0.11703887 -0.33078037  0.34998269  0.19138187\n",
      "  -0.03104311 -0.0250454   0.04062833  0.2360866 ]\n",
      " [-0.29489653  0.13076337 -0.23665733  0.15791438  0.54945042 -0.15194027\n",
      "  -0.22389949 -0.42606257  0.20209433  0.29323368]]\n"
     ]
    }
   ],
   "source": [
    "X = np.random.rand(5,10)\n",
    "print(X)\n",
    "Y = X - X.mean(axis = 1, keepdims = True)\n",
    "print(Y)\n",
    "Y = X - X.mean(axis=1).reshape(-1,1)\n",
    "print(Y)"
   ]
  },
  {
   "cell_type": "markdown",
   "metadata": {},
   "source": [
    "#### 59. How to sort an array by the nth column? (★★☆) \n",
    "(**hint**: argsort)"
   ]
  },
  {
   "cell_type": "code",
   "execution_count": 12,
   "metadata": {},
   "outputs": [
    {
     "name": "stdout",
     "output_type": "stream",
     "text": [
      "[[0 1 4]\n",
      " [8 8 6]\n",
      " [2 3 0]]\n",
      "[[0 1 4]\n",
      " [2 3 0]\n",
      " [8 8 6]]\n"
     ]
    }
   ],
   "source": [
    "data = np.random.randint(0,10,(3,3))\n",
    "print(data)\n",
    "print(data[data[:,1].argsort()])"
   ]
  },
  {
   "cell_type": "markdown",
   "metadata": {},
   "source": [
    "#### 60. How to tell if a given 2D array has null columns? (★★☆) \n",
    "(**hint**: any, ~)"
   ]
  },
  {
   "cell_type": "code",
   "execution_count": 13,
   "metadata": {},
   "outputs": [
    {
     "name": "stdout",
     "output_type": "stream",
     "text": [
      "False\n"
     ]
    }
   ],
   "source": [
    "data = np.random.randint(0,10,(3,3))\n",
    "print((~data.any(axis=0)).any())"
   ]
  },
  {
   "cell_type": "markdown",
   "metadata": {},
   "source": [
    "#### 61. Find the nearest value from a given value in an array (★★☆) \n",
    "(**hint**: np.abs, argmin, flat)"
   ]
  },
  {
   "cell_type": "code",
   "execution_count": 14,
   "metadata": {},
   "outputs": [
    {
     "name": "stdout",
     "output_type": "stream",
     "text": [
      "[0.15058028 0.34364546 0.14001476 0.85739053 0.593806   0.50391858\n",
      " 0.51493695 0.9262889  0.93045972 0.07349054]\n",
      "[0.34941972 0.15635454 0.35998524 0.35739053 0.093806   0.00391858\n",
      " 0.01493695 0.4262889  0.43045972 0.42650946]\n",
      "5\n",
      "0.5039185805422951\n"
     ]
    }
   ],
   "source": [
    "data = np.random.uniform(0,1,10)\n",
    "print(data)\n",
    "z = 0.5\n",
    "print(np.abs(data-z))\n",
    "print(np.abs(data-z).argmin())\n",
    "m = data.flat[np.abs(data-z).argmin()]\n",
    "print(m)"
   ]
  },
  {
   "cell_type": "markdown",
   "metadata": {},
   "source": [
    "#### 62. Considering two arrays with shape (1,3) and (3,1), how to compute their sum using an iterator? (★★☆) \n",
    "(**hint**: np.nditer)"
   ]
  },
  {
   "cell_type": "code",
   "execution_count": 15,
   "metadata": {},
   "outputs": [
    {
     "name": "stdout",
     "output_type": "stream",
     "text": [
      "[[0]\n",
      " [1]\n",
      " [2]] [[0 1 2]]\n",
      "[[0 1 2]\n",
      " [1 2 3]\n",
      " [2 3 4]]\n"
     ]
    }
   ],
   "source": [
    "A = np.arange(3).reshape(3,1)\n",
    "B = np.arange(3).reshape(1,3)\n",
    "print(A, B)\n",
    "\n",
    "it = np.nditer([A,B, None])\n",
    "\n",
    "for x,y,z in it:\n",
    "    z[...] = x+y\n",
    "\n",
    "print(it.operands[2])"
   ]
  },
  {
   "cell_type": "markdown",
   "metadata": {},
   "source": [
    "#### 63. Create an array class that has a name attribute (★★☆) \n",
    "(**hint**: class method)"
   ]
  },
  {
   "cell_type": "code",
   "execution_count": 16,
   "metadata": {},
   "outputs": [
    {
     "name": "stdout",
     "output_type": "stream",
     "text": [
      "range_10\n"
     ]
    }
   ],
   "source": [
    "class NameArray(np.ndarray):\n",
    "    def __new__(cls, array, name =\"no name\"):\n",
    "        obj = np.asarray(array).view(cls)\n",
    "        obj.name = name\n",
    "        return obj\n",
    "    def __array_finalize__(self, obj):\n",
    "        if obj is None:\n",
    "            return\n",
    "        self.info = getattr(obj,'name','no name')\n",
    "data = NameArray(np.arange(10),'range_10')\n",
    "print(data.name)"
   ]
  },
  {
   "cell_type": "markdown",
   "metadata": {},
   "source": [
    "#### 64. Consider a given vector, how to add 1 to each element indexed by a second vector (be careful with repeated indices)? (★★★) \n",
    "(**hint**: np.bincount | np.add.at)"
   ]
  },
  {
   "cell_type": "code",
   "execution_count": 17,
   "metadata": {},
   "outputs": [
    {
     "name": "stdout",
     "output_type": "stream",
     "text": [
      "[4 8 2 0 4 7 4 5 3 8 6 4 1 9 6 3 0 8 3 6]\n",
      "[3. 2. 2. 4. 5. 2. 4. 2. 4. 2.]\n",
      "[5. 3. 3. 7. 9. 3. 7. 3. 7. 3.]\n"
     ]
    }
   ],
   "source": [
    "data = np.ones(10)\n",
    "I = np.random.randint(0, len(Z), 20)\n",
    "print(I)\n",
    "\n",
    "data += np.bincount(I, minlength = len(Z))\n",
    "print(data)\n",
    "\n",
    "np.add.at(data,I,1)\n",
    "print(data)"
   ]
  },
  {
   "cell_type": "markdown",
   "metadata": {},
   "source": [
    "#### 65. How to accumulate elements of a vector (X) to an array (F) based on an index list (I)? (★★★) \n",
    "(**hint**: np.bincount)"
   ]
  },
  {
   "cell_type": "code",
   "execution_count": 18,
   "metadata": {},
   "outputs": [
    {
     "name": "stdout",
     "output_type": "stream",
     "text": [
      "[0. 7. 0. 6. 5. 0. 0. 0. 0. 3.]\n"
     ]
    }
   ],
   "source": [
    "A = [1,2,3,4,5,6]\n",
    "B = [1,3,9,3,4,1]\n",
    "C = np.bincount(B,A)\n",
    "print(C)"
   ]
  },
  {
   "cell_type": "markdown",
   "metadata": {},
   "source": [
    "#### 66. Considering a (w,h,3) image of (dtype=ubyte), compute the number of unique colors (★★★) \n",
    "(**hint**: np.unique)"
   ]
  },
  {
   "cell_type": "code",
   "execution_count": 19,
   "metadata": {},
   "outputs": [
    {
     "name": "stdout",
     "output_type": "stream",
     "text": [
      "8\n",
      "[0 1]\n"
     ]
    }
   ],
   "source": [
    "w,h = 16,16\n",
    "I = np.random.randint(0,2,(h,w,3)).astype(np.ubyte)\n",
    "F = I[...,0]*(256*256) + I[...,1]* 256 + I[...,2]\n",
    "n = len(np.unique(F))\n",
    "print(n)\n",
    "print(np.unique(I))"
   ]
  },
  {
   "cell_type": "markdown",
   "metadata": {},
   "source": [
    "#### 67. Considering a four dimensions array, how to get sum over the last two axis at once? (★★★) \n",
    "(**hint**: sum(axis=(-2,-1)))"
   ]
  },
  {
   "cell_type": "code",
   "execution_count": 20,
   "metadata": {},
   "outputs": [
    {
     "name": "stdout",
     "output_type": "stream",
     "text": [
      "[[49 72 59 37]\n",
      " [61 74 33 57]\n",
      " [61 61 48 65]]\n",
      "[[49 72 59 37]\n",
      " [61 74 33 57]\n",
      " [61 61 48 65]]\n"
     ]
    }
   ],
   "source": [
    "A = np.random.randint(0,10,(3,4,3,4))\n",
    "sum = A.sum(axis= (-2,-1))\n",
    "print(sum)\n",
    "\n",
    "sum = A.reshape(A.shape[:-2] + (-1, )).sum(axis = -1)\n",
    "print(sum)"
   ]
  },
  {
   "cell_type": "markdown",
   "metadata": {},
   "source": [
    "#### 68. Considering a one-dimensional vector D, how to compute means of subsets of D using a vector S of same size describing subset  indices? (★★★) \n",
    "(**hint**: np.bincount)"
   ]
  },
  {
   "cell_type": "code",
   "execution_count": 21,
   "metadata": {},
   "outputs": [
    {
     "name": "stdout",
     "output_type": "stream",
     "text": [
      "0    0.515670\n",
      "1    0.407859\n",
      "2    0.493930\n",
      "3    0.536821\n",
      "4    0.465687\n",
      "5    0.518279\n",
      "6    0.495454\n",
      "7    0.486921\n",
      "8    0.468835\n",
      "9    0.459198\n",
      "dtype: float64\n"
     ]
    }
   ],
   "source": [
    "D = np.random.uniform(0, 1, 100)\n",
    "S = np.random.randint(0, 10, 100)\n",
    "\n",
    "D_sums = np.bincount(S, weights=D)\n",
    "D_counts = np.bincount(S)\n",
    "D_means = D_sums / D_counts\n",
    "\n",
    "import pandas as pd\n",
    "print(pd.Series(D).groupby(S).mean())"
   ]
  },
  {
   "cell_type": "markdown",
   "metadata": {},
   "source": [
    "#### 69. How to get the diagonal of a dot product? (★★★) \n",
    "(**hint**: np.diag)"
   ]
  },
  {
   "cell_type": "code",
   "execution_count": 22,
   "metadata": {},
   "outputs": [
    {
     "name": "stdout",
     "output_type": "stream",
     "text": [
      "[1.13598116 1.43913805 1.33274261 1.19684053 1.11603554]\n",
      "[1.13598116 1.43913805 1.33274261 1.19684053 1.11603554]\n",
      "[1.13598116 1.43913805 1.33274261 1.19684053 1.11603554]\n"
     ]
    }
   ],
   "source": [
    "import numpy as np\n",
    "A= np.random.uniform(0,1,(5,5))\n",
    "B= np.random.uniform(0,1,(5,5))\n",
    "\n",
    "print(np.diag(np.dot(A,B)))\n",
    "print(np.sum(A * B.T, axis = 1))\n",
    "print(np.einsum(\"ij,ji->i\",A,B))"
   ]
  },
  {
   "cell_type": "markdown",
   "metadata": {},
   "source": [
    "#### 70. Consider the vector \\[1, 2, 3, 4, 5\\], how to build a new vector with 3 consecutive zeros interleaved between each value? (★★★) \n",
    "(**hint**: array\\[::4\\])"
   ]
  },
  {
   "cell_type": "code",
   "execution_count": 23,
   "metadata": {},
   "outputs": [
    {
     "name": "stdout",
     "output_type": "stream",
     "text": [
      "[1. 0. 0. 0. 2. 0. 0. 0. 3. 0. 0. 0. 4. 0. 0. 0. 5.]\n"
     ]
    }
   ],
   "source": [
    "Z = np.array([1,2,3,4,5])\n",
    "nz = 3\n",
    "z0 = np.zeros(len(Z) + (len(Z)-1)*(nz)) \n",
    "z0[::nz+1] = Z\n",
    "print(z0)"
   ]
  },
  {
   "cell_type": "markdown",
   "metadata": {},
   "source": [
    "#### 71. Consider an array of dimension (5,5,3), how to mulitply it by an array with dimensions (5,5)? (★★★) \n",
    "(**hint**: array\\[:, :, None\\])"
   ]
  },
  {
   "cell_type": "code",
   "execution_count": 24,
   "metadata": {},
   "outputs": [
    {
     "name": "stdout",
     "output_type": "stream",
     "text": [
      "[[[1. 1. 1.]\n",
      "  [1. 1. 1.]\n",
      "  [1. 1. 1.]\n",
      "  [1. 1. 1.]\n",
      "  [1. 1. 1.]]\n",
      "\n",
      " [[1. 1. 1.]\n",
      "  [1. 1. 1.]\n",
      "  [1. 1. 1.]\n",
      "  [1. 1. 1.]\n",
      "  [1. 1. 1.]]\n",
      "\n",
      " [[1. 1. 1.]\n",
      "  [1. 1. 1.]\n",
      "  [1. 1. 1.]\n",
      "  [1. 1. 1.]\n",
      "  [1. 1. 1.]]\n",
      "\n",
      " [[1. 1. 1.]\n",
      "  [1. 1. 1.]\n",
      "  [1. 1. 1.]\n",
      "  [1. 1. 1.]\n",
      "  [1. 1. 1.]]\n",
      "\n",
      " [[1. 1. 1.]\n",
      "  [1. 1. 1.]\n",
      "  [1. 1. 1.]\n",
      "  [1. 1. 1.]\n",
      "  [1. 1. 1.]]]\n",
      "[[2. 2. 2. 2. 2.]\n",
      " [2. 2. 2. 2. 2.]\n",
      " [2. 2. 2. 2. 2.]\n",
      " [2. 2. 2. 2. 2.]\n",
      " [2. 2. 2. 2. 2.]]\n",
      "[[[2. 2. 2.]\n",
      "  [2. 2. 2.]\n",
      "  [2. 2. 2.]\n",
      "  [2. 2. 2.]\n",
      "  [2. 2. 2.]]\n",
      "\n",
      " [[2. 2. 2.]\n",
      "  [2. 2. 2.]\n",
      "  [2. 2. 2.]\n",
      "  [2. 2. 2.]\n",
      "  [2. 2. 2.]]\n",
      "\n",
      " [[2. 2. 2.]\n",
      "  [2. 2. 2.]\n",
      "  [2. 2. 2.]\n",
      "  [2. 2. 2.]\n",
      "  [2. 2. 2.]]\n",
      "\n",
      " [[2. 2. 2.]\n",
      "  [2. 2. 2.]\n",
      "  [2. 2. 2.]\n",
      "  [2. 2. 2.]\n",
      "  [2. 2. 2.]]\n",
      "\n",
      " [[2. 2. 2.]\n",
      "  [2. 2. 2.]\n",
      "  [2. 2. 2.]\n",
      "  [2. 2. 2.]\n",
      "  [2. 2. 2.]]]\n"
     ]
    }
   ],
   "source": [
    "A = np.ones((5,5,3))\n",
    "print(A)\n",
    "B = 2 * np.ones((5,5))\n",
    "print(B)\n",
    "print(A * B[:,:,None])"
   ]
  },
  {
   "cell_type": "markdown",
   "metadata": {},
   "source": [
    "#### 72. How to swap two rows of an array? (★★★) \n",
    "(**hint**: array\\[\\[\\]\\] = array\\[\\[\\]\\])"
   ]
  },
  {
   "cell_type": "code",
   "execution_count": 25,
   "metadata": {},
   "outputs": [
    {
     "name": "stdout",
     "output_type": "stream",
     "text": [
      "[[ 0  1  2  3  4]\n",
      " [ 5  6  7  8  9]\n",
      " [10 11 12 13 14]\n",
      " [15 16 17 18 19]\n",
      " [20 21 22 23 24]]\n",
      "[[ 5  6  7  8  9]\n",
      " [ 0  1  2  3  4]\n",
      " [10 11 12 13 14]\n",
      " [15 16 17 18 19]\n",
      " [20 21 22 23 24]]\n"
     ]
    }
   ],
   "source": [
    "A = np.arange(25).reshape(5,5)\n",
    "print(A)\n",
    "A[[0,1]] = A[[1,0]]\n",
    "print(A)"
   ]
  },
  {
   "cell_type": "markdown",
   "metadata": {},
   "source": [
    "#### 73. Consider a set of 10 triplets describing 10 triangles (with shared vertices), find the set of unique line segments composing all the  triangles (★★★) \n",
    "(**hint**: repeat, np.roll, np.sort, view, np.unique)"
   ]
  },
  {
   "cell_type": "code",
   "execution_count": 26,
   "metadata": {},
   "outputs": [
    {
     "name": "stdout",
     "output_type": "stream",
     "text": [
      "[[17 63 29]\n",
      " [44 46 57]\n",
      " [86 56 49]\n",
      " [89 97 22]\n",
      " [25 53 66]\n",
      " [10  5 33]\n",
      " [15 35 40]\n",
      " [17 47 45]\n",
      " [67 24 57]\n",
      " [70 22  7]]\n",
      "[[17 63 63 29 29 17]\n",
      " [44 46 46 57 57 44]\n",
      " [86 56 56 49 49 86]\n",
      " [89 97 97 22 22 89]\n",
      " [25 53 53 66 66 25]\n",
      " [10  5  5 33 33 10]\n",
      " [15 35 35 40 40 15]\n",
      " [17 47 47 45 45 17]\n",
      " [67 24 24 57 57 67]\n",
      " [70 22 22  7  7 70]]\n",
      "[[17 63]\n",
      " [63 29]\n",
      " [29 17]\n",
      " [44 46]\n",
      " [46 57]\n",
      " [57 44]\n",
      " [86 56]\n",
      " [56 49]\n",
      " [49 86]\n",
      " [89 97]\n",
      " [97 22]\n",
      " [22 89]\n",
      " [25 53]\n",
      " [53 66]\n",
      " [66 25]\n",
      " [10  5]\n",
      " [ 5 33]\n",
      " [33 10]\n",
      " [15 35]\n",
      " [35 40]\n",
      " [40 15]\n",
      " [17 47]\n",
      " [47 45]\n",
      " [45 17]\n",
      " [67 24]\n",
      " [24 57]\n",
      " [57 67]\n",
      " [70 22]\n",
      " [22  7]\n",
      " [ 7 70]]\n",
      "[[17 63]\n",
      " [29 63]\n",
      " [17 29]\n",
      " [44 46]\n",
      " [46 57]\n",
      " [44 57]\n",
      " [56 86]\n",
      " [49 56]\n",
      " [49 86]\n",
      " [89 97]\n",
      " [22 97]\n",
      " [22 89]\n",
      " [25 53]\n",
      " [53 66]\n",
      " [25 66]\n",
      " [ 5 10]\n",
      " [ 5 33]\n",
      " [10 33]\n",
      " [15 35]\n",
      " [35 40]\n",
      " [15 40]\n",
      " [17 47]\n",
      " [45 47]\n",
      " [17 45]\n",
      " [24 67]\n",
      " [24 57]\n",
      " [57 67]\n",
      " [22 70]\n",
      " [ 7 22]\n",
      " [ 7 70]]\n",
      "[[(17, 63)]\n",
      " [(29, 63)]\n",
      " [(17, 29)]\n",
      " [(44, 46)]\n",
      " [(46, 57)]\n",
      " [(44, 57)]\n",
      " [(56, 86)]\n",
      " [(49, 56)]\n",
      " [(49, 86)]\n",
      " [(89, 97)]\n",
      " [(22, 97)]\n",
      " [(22, 89)]\n",
      " [(25, 53)]\n",
      " [(53, 66)]\n",
      " [(25, 66)]\n",
      " [( 5, 10)]\n",
      " [( 5, 33)]\n",
      " [(10, 33)]\n",
      " [(15, 35)]\n",
      " [(35, 40)]\n",
      " [(15, 40)]\n",
      " [(17, 47)]\n",
      " [(45, 47)]\n",
      " [(17, 45)]\n",
      " [(24, 67)]\n",
      " [(24, 57)]\n",
      " [(57, 67)]\n",
      " [(22, 70)]\n",
      " [( 7, 22)]\n",
      " [( 7, 70)]]\n",
      "[( 5, 10) ( 5, 33) ( 7, 22) ( 7, 70) (10, 33) (15, 35) (15, 40) (17, 29)\n",
      " (17, 45) (17, 47) (17, 63) (22, 70) (22, 89) (22, 97) (24, 57) (24, 67)\n",
      " (25, 53) (25, 66) (29, 63) (35, 40) (44, 46) (44, 57) (45, 47) (46, 57)\n",
      " (49, 56) (49, 86) (53, 66) (56, 86) (57, 67) (89, 97)]\n"
     ]
    }
   ],
   "source": [
    "faces = np.random.randint(0,100,(10,3))\n",
    "print(faces)\n",
    "F = np.roll(faces.repeat(2, axis = 1), -1, axis = 1)\n",
    "print(F)\n",
    "F = F.reshape(len(F) * 3, 2)\n",
    "print(F)\n",
    "F = np.sort(F, axis = 1)\n",
    "print(F)\n",
    "G = F.view(dtype = [('p0', F.dtype),('p1',F.dtype)])\n",
    "print(G)\n",
    "G = np.unique(G)\n",
    "print(G)"
   ]
  },
  {
   "cell_type": "markdown",
   "metadata": {},
   "source": [
    "#### 74. Given an array C that is a bincount, how to produce an array A such that np.bincount(A) == C? (★★★) \n",
    "(**hint**: np.repeat)"
   ]
  },
  {
   "cell_type": "code",
   "execution_count": 27,
   "metadata": {},
   "outputs": [
    {
     "name": "stdout",
     "output_type": "stream",
     "text": [
      "[0 2 1 1 2 0 1]\n",
      "[1 1 2 3 4 4 6]\n"
     ]
    }
   ],
   "source": [
    "A= np.bincount([1,1,2,3,4,4,6])\n",
    "print(A)\n",
    "B = np.repeat(np.arange(len(A)),A)\n",
    "print(B)"
   ]
  },
  {
   "cell_type": "markdown",
   "metadata": {},
   "source": [
    "#### 75. How to compute averages using a sliding window over an array? (★★★) \n",
    "(**hint**: np.cumsum)"
   ]
  },
  {
   "cell_type": "code",
   "execution_count": 28,
   "metadata": {},
   "outputs": [
    {
     "name": "stdout",
     "output_type": "stream",
     "text": [
      "[ 0  1  2  3  4  5  6  7  8  9 10 11 12 13 14 15 16 17 18 19]\n",
      "[ 1.  2.  3.  4.  5.  6.  7.  8.  9. 10. 11. 12. 13. 14. 15. 16. 17. 18.]\n"
     ]
    }
   ],
   "source": [
    "def average(a, n = 3):\n",
    "    ret = np.cumsum(a, dtype = float)\n",
    "    ret[n:] = ret[n:]- ret[:-n]\n",
    "    return ret[n-1:] / n\n",
    "data = np.arange(20)\n",
    "print(data)\n",
    "print(average(data, n = 3))"
   ]
  },
  {
   "cell_type": "markdown",
   "metadata": {},
   "source": [
    "#### 76. Consider a one-dimensional array Z, build a two-dimensional array whose first row is (Z\\[0\\],Z\\[1\\],Z\\[2\\]) and each subsequent row is  shifted by 1 (last row should be (Z\\[-3\\],Z\\[-2\\],Z\\[-1\\]) (★★★) \n",
    "(**hint**: from numpy.lib import stride_tricks)"
   ]
  },
  {
   "cell_type": "code",
   "execution_count": 30,
   "metadata": {},
   "outputs": [
    {
     "name": "stdout",
     "output_type": "stream",
     "text": [
      "[[0 1 2]\n",
      " [1 2 3]\n",
      " [2 3 4]\n",
      " [3 4 5]\n",
      " [4 5 6]\n",
      " [5 6 7]\n",
      " [6 7 8]\n",
      " [7 8 9]]\n"
     ]
    }
   ],
   "source": [
    "from numpy.lib import stride_tricks\n",
    "def rolling(a, window):\n",
    "    shape = (a.size - window +1, window)\n",
    "    strides = (a.itemsize, a.itemsize)\n",
    "    return stride_tricks.as_strided(a, shape = shape, strides = strides)\n",
    "\n",
    "data = rolling(np.arange(10),3)\n",
    "print(data)"
   ]
  },
  {
   "cell_type": "markdown",
   "metadata": {},
   "source": [
    "#### 77. How to negate a boolean, or to change the sign of a float inplace? (★★★) \n",
    "(**hint**: np.logical_not, np.negative)"
   ]
  },
  {
   "cell_type": "code",
   "execution_count": 31,
   "metadata": {},
   "outputs": [
    {
     "name": "stdout",
     "output_type": "stream",
     "text": [
      "[0 1 0 1 1 1 1 1 1 1 1 0 1 0 0 0 0 1 1 1 1 1 0 1 1 0 0 1 1 0 1 1 0 0 0 0 1\n",
      " 0 1 0 0 0 1 1 1 1 0 1 1 0 0 0 0 0 1 1 0 1 1 0 0 1 0 0 1 0 1 1 0 1 0 1 1 1\n",
      " 1 0 1 0 1 1 1 0 0 0 1 0 1 1 1 1 0 0 0 1 0 1 0 1 1 1]\n",
      "[1 0 1 0 0 0 0 0 0 0 0 1 0 1 1 1 1 0 0 0 0 0 1 0 0 1 1 0 0 1 0 0 1 1 1 1 0\n",
      " 1 0 1 1 1 0 0 0 0 1 0 0 1 1 1 1 1 0 0 1 0 0 1 1 0 1 1 0 1 0 0 1 0 1 0 0 0\n",
      " 0 1 0 1 0 0 0 1 1 1 0 1 0 0 0 0 1 1 1 0 1 0 1 0 0 0]\n",
      "[ 0.29904765  0.44232963  0.24825538 -0.56859944 -0.98486208 -0.80783422\n",
      "  0.16469741 -0.27593755 -0.50321535 -0.03711053 -0.92748148  0.7459488\n",
      "  0.11627868 -0.74909031  0.71254059  0.77642205  0.51123226 -0.08855907\n",
      " -0.44562413 -0.13452066 -0.30477161  0.82380864  0.41404605  0.93269377\n",
      " -0.78316351  0.41162981 -0.44483143  0.5786662  -0.2939167  -0.31822942\n",
      " -0.08042097 -0.09043015 -0.76680743  0.41964197 -0.97979815  0.88168846\n",
      " -0.09591681  0.02371702  0.49635258 -0.52876136  0.76628211 -0.74392152\n",
      "  0.78833036 -0.45207954 -0.64365473  0.78136119  0.58339244 -0.54801387\n",
      "  0.91326623 -0.33021816 -0.59668592 -0.66204291  0.8646429  -0.36921777\n",
      "  0.49147557 -0.89587479 -0.99190973  0.10974071  0.98482088 -0.62459648\n",
      " -0.36467997  0.19869985  0.35291308 -0.2088877   0.7081251  -0.69545078\n",
      "  0.92914451 -0.42429613 -0.19527569 -0.3892396   0.25262531 -0.54931319\n",
      "  0.65539108 -0.47139875  0.67913505 -0.44219934  0.63480861  0.36337011\n",
      " -0.88904963  0.76394851 -0.89384192 -0.79809621  0.11057634  0.17047451\n",
      "  0.80496506 -0.46986472  0.99933681  0.71230664  0.62830576  0.86391239\n",
      "  0.67527512 -0.01290496  0.3190806  -0.91243745  0.02443279 -0.31256781\n",
      "  0.47199552  0.89967073 -0.04672644  0.94673404]\n",
      "[-0.29904765 -0.44232963 -0.24825538  0.56859944  0.98486208  0.80783422\n",
      " -0.16469741  0.27593755  0.50321535  0.03711053  0.92748148 -0.7459488\n",
      " -0.11627868  0.74909031 -0.71254059 -0.77642205 -0.51123226  0.08855907\n",
      "  0.44562413  0.13452066  0.30477161 -0.82380864 -0.41404605 -0.93269377\n",
      "  0.78316351 -0.41162981  0.44483143 -0.5786662   0.2939167   0.31822942\n",
      "  0.08042097  0.09043015  0.76680743 -0.41964197  0.97979815 -0.88168846\n",
      "  0.09591681 -0.02371702 -0.49635258  0.52876136 -0.76628211  0.74392152\n",
      " -0.78833036  0.45207954  0.64365473 -0.78136119 -0.58339244  0.54801387\n",
      " -0.91326623  0.33021816  0.59668592  0.66204291 -0.8646429   0.36921777\n",
      " -0.49147557  0.89587479  0.99190973 -0.10974071 -0.98482088  0.62459648\n",
      "  0.36467997 -0.19869985 -0.35291308  0.2088877  -0.7081251   0.69545078\n",
      " -0.92914451  0.42429613  0.19527569  0.3892396  -0.25262531  0.54931319\n",
      " -0.65539108  0.47139875 -0.67913505  0.44219934 -0.63480861 -0.36337011\n",
      "  0.88904963 -0.76394851  0.89384192  0.79809621 -0.11057634 -0.17047451\n",
      " -0.80496506  0.46986472 -0.99933681 -0.71230664 -0.62830576 -0.86391239\n",
      " -0.67527512  0.01290496 -0.3190806   0.91243745 -0.02443279  0.31256781\n",
      " -0.47199552 -0.89967073  0.04672644 -0.94673404]\n"
     ]
    }
   ],
   "source": [
    "data = np.random.randint(0,2,100)\n",
    "print(data)\n",
    "\n",
    "print(np.logical_not(data, out = data))\n",
    "\n",
    "data = np.random.uniform(-1.0, 1.0, 100)\n",
    "print(data)\n",
    "\n",
    "print(np.negative(data, out = data))"
   ]
  },
  {
   "cell_type": "markdown",
   "metadata": {},
   "source": [
    "#### 78. Consider 2 sets of points P0,P1 describing lines (2d) and a point p, how to compute distance from p to each line i  (P0\\[i\\],P1\\[i\\])? (★★★)"
   ]
  },
  {
   "cell_type": "code",
   "execution_count": 32,
   "metadata": {},
   "outputs": [
    {
     "name": "stdout",
     "output_type": "stream",
     "text": [
      "[ 0.29945683  1.68171874  2.71084688  5.61734431  0.37653673  2.52681283\n",
      "  6.73420395 12.41361659  2.2441256   4.845897  ]\n"
     ]
    }
   ],
   "source": [
    "def distance(P0, P1, p):\n",
    "    T = P1 - P0\n",
    "    L = (T**2).sum(axis=1)\n",
    "    U = -((P0[:,0]-p[...,0])*T[:,0] + (P0[:,1]-p[...,1])*T[:,1]) / L\n",
    "    U = U.reshape(len(U), 1)\n",
    "    D = P0 + U*T - p\n",
    "    return np.sqrt((D **2).sum(axis = 1))\n",
    "P0 = np.random.uniform(-10,10,(10,2))\n",
    "P1 = np.random.uniform(-10,10,(10,2))\n",
    "p  = np.random.uniform(-10,10,( 1,2))\n",
    "\n",
    "print(distance(P0, P1, p))"
   ]
  },
  {
   "cell_type": "markdown",
   "metadata": {},
   "source": [
    "#### 79. Consider 2 sets of points P0,P1 describing lines (2d) and a set of points P, how to compute distance from each point j (P\\[j\\]) to each line i (P0\\[i\\],P1\\[i\\])? (★★★)"
   ]
  },
  {
   "cell_type": "code",
   "execution_count": 33,
   "metadata": {},
   "outputs": [
    {
     "name": "stdout",
     "output_type": "stream",
     "text": [
      "[[1.70740073e+00 2.47449310e+00 1.15996362e+01 2.55528129e-02\n",
      "  7.51446755e+00 7.61251611e+00 1.22472114e+00 1.38648637e+01\n",
      "  3.11989488e+00 9.85471294e-01]\n",
      " [1.68553837e-01 1.75935253e+00 1.08652946e+01 5.13596758e+00\n",
      "  2.32377283e+00 4.60287420e+00 1.48888045e+00 8.71651916e+00\n",
      "  5.05807891e-01 5.80941097e+00]\n",
      " [9.81713436e-01 1.41606617e+00 1.19746225e+01 4.71747104e-01\n",
      "  7.01004418e+00 7.57828765e+00 1.24746240e+00 1.33707700e+01\n",
      "  2.96281135e+00 8.46044515e-02]\n",
      " [8.92320871e+00 8.36914695e+00 4.31153624e+00 4.58726851e+00\n",
      "  2.93973705e+00 1.11779575e+00 5.42867154e+00 9.23500182e+00\n",
      "  2.98063769e+00 1.09344398e+00]\n",
      " [1.09760693e+01 5.39408490e+00 1.33852213e+00 1.55033900e+01\n",
      "  7.99844638e+00 7.59796784e+00 1.37798078e+01 1.67105581e+00\n",
      "  1.24156601e+01 9.45889035e+00]\n",
      " [8.62823328e-03 1.17599102e+00 1.33840375e+01 1.29574780e+00\n",
      "  8.77632613e+00 9.27327560e+00 2.91497536e+00 1.51387844e+01\n",
      "  4.70380181e+00 1.16306410e+00]\n",
      " [1.32062141e+01 7.94929600e+00 3.02716179e+00 1.54150285e+01\n",
      "  7.89312601e+00 8.52251789e+00 1.48179969e+01 1.59031177e+00\n",
      "  1.30873121e+01 7.75712512e+00]\n",
      " [4.42644340e-02 1.58857856e+00 1.12001862e+01 4.49435811e+00\n",
      "  2.96665190e+00 5.11676238e+00 9.96244898e-01 9.35754928e+00\n",
      "  4.99565078e-02 5.19179491e+00]\n",
      " [4.56388724e-02 4.54749193e+00 9.07256187e+00 1.03937028e+01\n",
      "  2.95357291e+00 9.37730256e-01 4.91913838e+00 3.46766607e+00\n",
      "  4.64967008e+00 1.17573459e+01]\n",
      " [5.87007523e-01 3.52535819e+00 1.07452112e+01 7.02452730e+00\n",
      "  4.23100668e-01 3.58693313e+00 2.38701865e+00 6.83342607e+00\n",
      "  1.76833100e+00 8.43409860e+00]]\n"
     ]
    }
   ],
   "source": [
    "P0 = np.random.uniform(-10,10,(10,2))\n",
    "P1 = np.random.uniform(-10,10,(10,2))\n",
    "p  = np.random.uniform(-10,10,( 10,2))\n",
    "print(np.array([distance(P0,P1, p_i) for p_i in p]))"
   ]
  },
  {
   "cell_type": "markdown",
   "metadata": {},
   "source": [
    "#### 80. Consider an arbitrary array, write a function that extract a subpart with a fixed shape and centered on a given element (pad with a `fill` value when necessary) (★★★) \n",
    "(**hint**: minimum, maximum)"
   ]
  },
  {
   "cell_type": "code",
   "execution_count": 34,
   "metadata": {},
   "outputs": [
    {
     "name": "stdout",
     "output_type": "stream",
     "text": [
      "[[7 1 5 9 0 8 3 3 5 2]\n",
      " [8 5 6 6 1 3 4 9 0 6]\n",
      " [6 0 3 4 8 6 2 1 1 1]\n",
      " [0 0 6 1 3 1 8 0 4 0]\n",
      " [6 4 2 7 0 6 2 3 2 8]\n",
      " [7 6 0 1 5 5 2 5 6 8]\n",
      " [9 0 2 7 4 8 4 2 0 1]\n",
      " [9 3 2 1 5 2 2 4 3 3]\n",
      " [1 7 3 5 4 4 4 3 2 3]\n",
      " [3 5 9 5 0 9 9 2 5 0]]\n",
      "[[7 1 5 9 0 8 3 3 5 2]\n",
      " [8 5 6 6 1 3 4 9 0 6]\n",
      " [6 0 3 4 8 6 2 1 1 1]\n",
      " [0 0 6 1 3 1 8 0 4 0]\n",
      " [6 4 2 7 0 6 2 3 2 8]\n",
      " [7 6 0 1 5 5 2 5 6 8]\n",
      " [9 0 2 7 4 8 4 2 0 1]\n",
      " [9 3 2 1 5 2 2 4 3 3]\n",
      " [1 7 3 5 4 4 4 3 2 3]\n",
      " [3 5 9 5 0 9 9 2 5 0]]\n",
      "[[1. 1. 1. 1. 1.]\n",
      " [1. 7. 1. 5. 9.]\n",
      " [1. 8. 5. 6. 6.]\n",
      " [1. 6. 0. 3. 4.]\n",
      " [1. 0. 0. 6. 1.]]\n"
     ]
    },
    {
     "name": "stderr",
     "output_type": "stream",
     "text": [
      "C:\\Users\\Lingraj\\AppData\\Local\\Temp\\ipykernel_11344\\3053161356.py:23: FutureWarning: Using a non-tuple sequence for multidimensional indexing is deprecated; use `arr[tuple(seq)]` instead of `arr[seq]`. In the future this will be interpreted as an array index, `arr[np.array(seq)]`, which will result either in an error or a different result.\n",
      "  R[r] = Z[z]\n"
     ]
    }
   ],
   "source": [
    "Z = np.random.randint(0, 10, (10,10))\n",
    "print(Z)\n",
    "shape = (5,5)\n",
    "fill = 0\n",
    "position = (1,1)\n",
    "R = np.ones(shape)\n",
    "P = np.array(list(position)).astype(int)\n",
    "Rs = np.array(list(R.shape)).astype(int)\n",
    "Zs = np.array(list(Z.shape)).astype(int)\n",
    "\n",
    "R_start = np.zeros((len(shape),)).astype(int)\n",
    "R_stop = np.array(list(shape)).astype(int)\n",
    "Z_start = (P-Rs//2)\n",
    "Z_stop = (P+Rs//2) + Rs%2\n",
    "\n",
    "R_start = (R_start-np.minimum(Z_start,0)).tolist()\n",
    "Z_start = (np.maximum(Z_start,0)).tolist()\n",
    "R_stop = (np.maximum(R_start,(R_stop-np.maximum(Z_stop-Zs,0)))).tolist()\n",
    "Z_stop = (np.minimum(Z_stop, Zs)).tolist()\n",
    "\n",
    "r = [slice(start,stop) for start,stop in zip(R_start,R_stop)]\n",
    "z = [slice(start,stop) for start,stop in zip(Z_start,Z_stop)]\n",
    "R[r] = Z[z]\n",
    "print(Z)\n",
    "print(R)"
   ]
  },
  {
   "cell_type": "markdown",
   "metadata": {},
   "source": [
    "#### 81. Consider an array Z = \\[1,2,3,4,5,6,7,8,9,10,11,12,13,14\\], how to generate an array R = \\[\\[1,2,3,4\\], \\[2,3,4,5\\], \\[3,4,5,6\\], ..., \\[11,12,13,14\\]\\]? (★★★) \n",
    "(**hint**: stride\\_tricks.as\\_strided)"
   ]
  },
  {
   "cell_type": "code",
   "execution_count": 35,
   "metadata": {},
   "outputs": [
    {
     "name": "stdout",
     "output_type": "stream",
     "text": [
      "[ 1  2  3  4  5  6  7  8  9 10 11 12 13 14]\n",
      "[[ 1  2  3  4]\n",
      " [ 2  3  4  5]\n",
      " [ 3  4  5  6]\n",
      " [ 4  5  6  7]\n",
      " [ 5  6  7  8]\n",
      " [ 6  7  8  9]\n",
      " [ 7  8  9 10]\n",
      " [ 8  9 10 11]\n",
      " [ 9 10 11 12]\n",
      " [10 11 12 13]\n",
      " [11 12 13 14]]\n"
     ]
    }
   ],
   "source": [
    "from numpy.lib import stride_tricks\n",
    "Z = np.arange(1,15, dtype = np.uint32)\n",
    "print(Z)\n",
    "R = stride_tricks.as_strided(Z, (11,4), (4,4))\n",
    "print(R)"
   ]
  },
  {
   "cell_type": "markdown",
   "metadata": {},
   "source": [
    "#### 82. Compute a matrix rank (★★★) \n",
    "(**hint**: np.linalg.svd) (suggestion: np.linalg.svd)"
   ]
  },
  {
   "cell_type": "code",
   "execution_count": 36,
   "metadata": {},
   "outputs": [
    {
     "name": "stdout",
     "output_type": "stream",
     "text": [
      "10\n"
     ]
    }
   ],
   "source": [
    "Z = np.random.uniform(0,1,(10,10))\n",
    "U,S, V = np.linalg.svd(Z)\n",
    "rank = np.sum(S > 1e-10)\n",
    "print(rank)"
   ]
  },
  {
   "cell_type": "markdown",
   "metadata": {},
   "source": [
    "#### 83. How to find the most frequent value in an array? \n",
    "(**hint**: np.bincount, argmax)"
   ]
  },
  {
   "cell_type": "code",
   "execution_count": 37,
   "metadata": {},
   "outputs": [
    {
     "name": "stdout",
     "output_type": "stream",
     "text": [
      "[1 6 7 2 4 1 7 0 4 5 9 1 7 1 0 1 7 1 1 2 0 3 1 3 4 5 0 4 3 0 2 8 0 7 5 7 8\n",
      " 7 4 5 3 3 2 4 1 2 7 5 5 0]\n",
      "[7 9 5 5 6 6 1 8 2 1]\n",
      "1\n"
     ]
    }
   ],
   "source": [
    "data = np.random.randint(0,10,50)\n",
    "print(data)\n",
    "print(np.bincount(data))\n",
    "print(np.bincount(data).argmax())"
   ]
  },
  {
   "cell_type": "markdown",
   "metadata": {},
   "source": [
    "#### 84. Extract all the contiguous 3x3 blocks from a random 10x10 matrix (★★★) \n",
    "(**hint**: stride\\_tricks.as\\_strided)"
   ]
  },
  {
   "cell_type": "code",
   "execution_count": 38,
   "metadata": {},
   "outputs": [
    {
     "name": "stdout",
     "output_type": "stream",
     "text": [
      "[[[[3 4 4]\n",
      "   [1 3 4]\n",
      "   [1 0 4]]\n",
      "\n",
      "  [[4 4 3]\n",
      "   [3 4 2]\n",
      "   [0 4 1]]\n",
      "\n",
      "  [[4 3 1]\n",
      "   [4 2 1]\n",
      "   [4 1 2]]\n",
      "\n",
      "  [[3 1 1]\n",
      "   [2 1 1]\n",
      "   [1 2 3]]\n",
      "\n",
      "  [[1 1 1]\n",
      "   [1 1 3]\n",
      "   [2 3 2]]\n",
      "\n",
      "  [[1 1 2]\n",
      "   [1 3 3]\n",
      "   [3 2 1]]\n",
      "\n",
      "  [[1 2 2]\n",
      "   [3 3 2]\n",
      "   [2 1 1]]\n",
      "\n",
      "  [[2 2 0]\n",
      "   [3 2 1]\n",
      "   [1 1 2]]]\n",
      "\n",
      "\n",
      " [[[1 3 4]\n",
      "   [1 0 4]\n",
      "   [1 3 2]]\n",
      "\n",
      "  [[3 4 2]\n",
      "   [0 4 1]\n",
      "   [3 2 4]]\n",
      "\n",
      "  [[4 2 1]\n",
      "   [4 1 2]\n",
      "   [2 4 4]]\n",
      "\n",
      "  [[2 1 1]\n",
      "   [1 2 3]\n",
      "   [4 4 2]]\n",
      "\n",
      "  [[1 1 3]\n",
      "   [2 3 2]\n",
      "   [4 2 4]]\n",
      "\n",
      "  [[1 3 3]\n",
      "   [3 2 1]\n",
      "   [2 4 1]]\n",
      "\n",
      "  [[3 3 2]\n",
      "   [2 1 1]\n",
      "   [4 1 2]]\n",
      "\n",
      "  [[3 2 1]\n",
      "   [1 1 2]\n",
      "   [1 2 4]]]\n",
      "\n",
      "\n",
      " [[[1 0 4]\n",
      "   [1 3 2]\n",
      "   [0 3 4]]\n",
      "\n",
      "  [[0 4 1]\n",
      "   [3 2 4]\n",
      "   [3 4 1]]\n",
      "\n",
      "  [[4 1 2]\n",
      "   [2 4 4]\n",
      "   [4 1 2]]\n",
      "\n",
      "  [[1 2 3]\n",
      "   [4 4 2]\n",
      "   [1 2 3]]\n",
      "\n",
      "  [[2 3 2]\n",
      "   [4 2 4]\n",
      "   [2 3 0]]\n",
      "\n",
      "  [[3 2 1]\n",
      "   [2 4 1]\n",
      "   [3 0 1]]\n",
      "\n",
      "  [[2 1 1]\n",
      "   [4 1 2]\n",
      "   [0 1 2]]\n",
      "\n",
      "  [[1 1 2]\n",
      "   [1 2 4]\n",
      "   [1 2 2]]]\n",
      "\n",
      "\n",
      " [[[1 3 2]\n",
      "   [0 3 4]\n",
      "   [1 2 1]]\n",
      "\n",
      "  [[3 2 4]\n",
      "   [3 4 1]\n",
      "   [2 1 4]]\n",
      "\n",
      "  [[2 4 4]\n",
      "   [4 1 2]\n",
      "   [1 4 1]]\n",
      "\n",
      "  [[4 4 2]\n",
      "   [1 2 3]\n",
      "   [4 1 2]]\n",
      "\n",
      "  [[4 2 4]\n",
      "   [2 3 0]\n",
      "   [1 2 3]]\n",
      "\n",
      "  [[2 4 1]\n",
      "   [3 0 1]\n",
      "   [2 3 0]]\n",
      "\n",
      "  [[4 1 2]\n",
      "   [0 1 2]\n",
      "   [3 0 4]]\n",
      "\n",
      "  [[1 2 4]\n",
      "   [1 2 2]\n",
      "   [0 4 2]]]\n",
      "\n",
      "\n",
      " [[[0 3 4]\n",
      "   [1 2 1]\n",
      "   [0 4 0]]\n",
      "\n",
      "  [[3 4 1]\n",
      "   [2 1 4]\n",
      "   [4 0 4]]\n",
      "\n",
      "  [[4 1 2]\n",
      "   [1 4 1]\n",
      "   [0 4 0]]\n",
      "\n",
      "  [[1 2 3]\n",
      "   [4 1 2]\n",
      "   [4 0 3]]\n",
      "\n",
      "  [[2 3 0]\n",
      "   [1 2 3]\n",
      "   [0 3 4]]\n",
      "\n",
      "  [[3 0 1]\n",
      "   [2 3 0]\n",
      "   [3 4 0]]\n",
      "\n",
      "  [[0 1 2]\n",
      "   [3 0 4]\n",
      "   [4 0 4]]\n",
      "\n",
      "  [[1 2 2]\n",
      "   [0 4 2]\n",
      "   [0 4 1]]]\n",
      "\n",
      "\n",
      " [[[1 2 1]\n",
      "   [0 4 0]\n",
      "   [0 4 3]]\n",
      "\n",
      "  [[2 1 4]\n",
      "   [4 0 4]\n",
      "   [4 3 0]]\n",
      "\n",
      "  [[1 4 1]\n",
      "   [0 4 0]\n",
      "   [3 0 1]]\n",
      "\n",
      "  [[4 1 2]\n",
      "   [4 0 3]\n",
      "   [0 1 3]]\n",
      "\n",
      "  [[1 2 3]\n",
      "   [0 3 4]\n",
      "   [1 3 1]]\n",
      "\n",
      "  [[2 3 0]\n",
      "   [3 4 0]\n",
      "   [3 1 1]]\n",
      "\n",
      "  [[3 0 4]\n",
      "   [4 0 4]\n",
      "   [1 1 1]]\n",
      "\n",
      "  [[0 4 2]\n",
      "   [0 4 1]\n",
      "   [1 1 4]]]\n",
      "\n",
      "\n",
      " [[[0 4 0]\n",
      "   [0 4 3]\n",
      "   [4 3 3]]\n",
      "\n",
      "  [[4 0 4]\n",
      "   [4 3 0]\n",
      "   [3 3 3]]\n",
      "\n",
      "  [[0 4 0]\n",
      "   [3 0 1]\n",
      "   [3 3 3]]\n",
      "\n",
      "  [[4 0 3]\n",
      "   [0 1 3]\n",
      "   [3 3 2]]\n",
      "\n",
      "  [[0 3 4]\n",
      "   [1 3 1]\n",
      "   [3 2 1]]\n",
      "\n",
      "  [[3 4 0]\n",
      "   [3 1 1]\n",
      "   [2 1 3]]\n",
      "\n",
      "  [[4 0 4]\n",
      "   [1 1 1]\n",
      "   [1 3 3]]\n",
      "\n",
      "  [[0 4 1]\n",
      "   [1 1 4]\n",
      "   [3 3 4]]]\n",
      "\n",
      "\n",
      " [[[0 4 3]\n",
      "   [4 3 3]\n",
      "   [4 1 2]]\n",
      "\n",
      "  [[4 3 0]\n",
      "   [3 3 3]\n",
      "   [1 2 2]]\n",
      "\n",
      "  [[3 0 1]\n",
      "   [3 3 3]\n",
      "   [2 2 3]]\n",
      "\n",
      "  [[0 1 3]\n",
      "   [3 3 2]\n",
      "   [2 3 2]]\n",
      "\n",
      "  [[1 3 1]\n",
      "   [3 2 1]\n",
      "   [3 2 4]]\n",
      "\n",
      "  [[3 1 1]\n",
      "   [2 1 3]\n",
      "   [2 4 2]]\n",
      "\n",
      "  [[1 1 1]\n",
      "   [1 3 3]\n",
      "   [4 2 0]]\n",
      "\n",
      "  [[1 1 4]\n",
      "   [3 3 4]\n",
      "   [2 0 2]]]]\n"
     ]
    }
   ],
   "source": [
    "data = np.random.randint(0,5,(10,10))\n",
    "n = 3\n",
    "i = 1 + (data.shape[0]-3)\n",
    "j = 1 + (data.shape[1]-3)\n",
    "C = stride_tricks.as_strided(data, shape= (i,j,n,n), strides = data.strides+ data.strides)\n",
    "print(C)"
   ]
  },
  {
   "cell_type": "markdown",
   "metadata": {},
   "source": [
    "#### 85. Create a 2D array subclass such that Z\\[i,j\\] == Z\\[j,i\\] (★★★) \n",
    "(**hint**: class method)"
   ]
  },
  {
   "cell_type": "code",
   "execution_count": 39,
   "metadata": {},
   "outputs": [
    {
     "name": "stdout",
     "output_type": "stream",
     "text": [
      "[[ 0 13 14  5 13]\n",
      " [13  4  6  5 13]\n",
      " [14  6  2 42  1]\n",
      " [ 5  5 42  4  6]\n",
      " [13 13  1  6  9]]\n"
     ]
    }
   ],
   "source": [
    "class Symetric(np.ndarray):\n",
    "    def __setitem__(self, index, value):\n",
    "        i,j = index\n",
    "        super(Symetric, self).__setitem__((i,j), value)\n",
    "        super(Symetric, self).__setitem__((j,i), value)\n",
    "        \n",
    "def symetric(Z):\n",
    "    return np.asarray(Z+Z.T-np.diag(Z.diagonal())).view(Symetric)\n",
    "\n",
    "S= symetric(np.random.randint(0,10,(5,5)))\n",
    "S[2,3]  = 42\n",
    "print(S)"
   ]
  },
  {
   "cell_type": "markdown",
   "metadata": {},
   "source": [
    "#### 86. Consider a set of p matrices wich shape (n,n) and a set of p vectors with shape (n,1). How to compute the sum of of the p matrix products at once? (result has shape (n,1)) (★★★) \n",
    "(**hint**: np.tensordot)"
   ]
  },
  {
   "cell_type": "code",
   "execution_count": 40,
   "metadata": {},
   "outputs": [
    {
     "name": "stdout",
     "output_type": "stream",
     "text": [
      "[[200.]\n",
      " [200.]\n",
      " [200.]\n",
      " [200.]\n",
      " [200.]\n",
      " [200.]\n",
      " [200.]\n",
      " [200.]\n",
      " [200.]\n",
      " [200.]\n",
      " [200.]\n",
      " [200.]\n",
      " [200.]\n",
      " [200.]\n",
      " [200.]\n",
      " [200.]\n",
      " [200.]\n",
      " [200.]\n",
      " [200.]\n",
      " [200.]]\n"
     ]
    }
   ],
   "source": [
    "p, n = 10,20\n",
    "M = np.ones((p,n,n))\n",
    "V = np.ones((p,n,1))\n",
    "S = np.tensordot(M,V, axes = [[0,2],[0,1]])\n",
    "print(S)"
   ]
  },
  {
   "cell_type": "markdown",
   "metadata": {},
   "source": [
    "#### 87. Consider a 16x16 array, how to get the block-sum (block size is 4x4)? (★★★) \n",
    "(**hint**: np.add.reduceat)"
   ]
  },
  {
   "cell_type": "code",
   "execution_count": 41,
   "metadata": {},
   "outputs": [
    {
     "name": "stdout",
     "output_type": "stream",
     "text": [
      "[[1. 1. 1. 1. 1. 1. 1. 1. 1. 1. 1. 1. 1. 1. 1. 1.]\n",
      " [1. 1. 1. 1. 1. 1. 1. 1. 1. 1. 1. 1. 1. 1. 1. 1.]\n",
      " [1. 1. 1. 1. 1. 1. 1. 1. 1. 1. 1. 1. 1. 1. 1. 1.]\n",
      " [1. 1. 1. 1. 1. 1. 1. 1. 1. 1. 1. 1. 1. 1. 1. 1.]\n",
      " [1. 1. 1. 1. 1. 1. 1. 1. 1. 1. 1. 1. 1. 1. 1. 1.]\n",
      " [1. 1. 1. 1. 1. 1. 1. 1. 1. 1. 1. 1. 1. 1. 1. 1.]\n",
      " [1. 1. 1. 1. 1. 1. 1. 1. 1. 1. 1. 1. 1. 1. 1. 1.]\n",
      " [1. 1. 1. 1. 1. 1. 1. 1. 1. 1. 1. 1. 1. 1. 1. 1.]\n",
      " [1. 1. 1. 1. 1. 1. 1. 1. 1. 1. 1. 1. 1. 1. 1. 1.]\n",
      " [1. 1. 1. 1. 1. 1. 1. 1. 1. 1. 1. 1. 1. 1. 1. 1.]\n",
      " [1. 1. 1. 1. 1. 1. 1. 1. 1. 1. 1. 1. 1. 1. 1. 1.]\n",
      " [1. 1. 1. 1. 1. 1. 1. 1. 1. 1. 1. 1. 1. 1. 1. 1.]\n",
      " [1. 1. 1. 1. 1. 1. 1. 1. 1. 1. 1. 1. 1. 1. 1. 1.]\n",
      " [1. 1. 1. 1. 1. 1. 1. 1. 1. 1. 1. 1. 1. 1. 1. 1.]\n",
      " [1. 1. 1. 1. 1. 1. 1. 1. 1. 1. 1. 1. 1. 1. 1. 1.]\n",
      " [1. 1. 1. 1. 1. 1. 1. 1. 1. 1. 1. 1. 1. 1. 1. 1.]]\n",
      "[[16. 16. 16. 16.]\n",
      " [16. 16. 16. 16.]\n",
      " [16. 16. 16. 16.]\n",
      " [16. 16. 16. 16.]]\n"
     ]
    }
   ],
   "source": [
    "Z = np.ones((16,16))\n",
    "print(Z)\n",
    "k = 4\n",
    "S = np.add.reduceat(np.add.reduceat(Z, np.arange(0,Z.shape[0],k), axis = 0), np.arange(0,Z.shape[1], k), axis = 1)\n",
    "print(S)"
   ]
  },
  {
   "cell_type": "markdown",
   "metadata": {},
   "source": [
    "#### 88. How to implement the Game of Life using numpy arrays? (★★★)"
   ]
  },
  {
   "cell_type": "code",
   "execution_count": 42,
   "metadata": {},
   "outputs": [
    {
     "name": "stdout",
     "output_type": "stream",
     "text": [
      "[[0 0 0 ... 0 0 0]\n",
      " [0 0 0 ... 0 0 0]\n",
      " [0 0 0 ... 0 0 0]\n",
      " ...\n",
      " [0 0 0 ... 0 0 0]\n",
      " [0 0 0 ... 0 0 0]\n",
      " [0 0 0 ... 0 0 0]]\n"
     ]
    }
   ],
   "source": [
    "def iterate(Z):\n",
    "    N = (Z[0:-2, 0:-2] + Z[0:-2, 1:-1] + Z[0:-2, 2:]+ Z[1:-1, 0:-2] + Z[1:-1, 2:]+Z[2:,0:-2]+ Z[2:, 1:-1]+ Z[2:,2:])\n",
    "\n",
    "    birth = (N == 3) * (Z[1:-1, 1:-1] ==0)\n",
    "    survive = ((N == 2)|(N ==3))& (Z[1:-1, 1:-1]==1)\n",
    "    Z[...] = 0\n",
    "    Z[1:-1, 1:-1][birth | survive] =1\n",
    "    return Z\n",
    "\n",
    "Z = np.random.randint(0,2, (50,50))\n",
    "for i in range(100):\n",
    "    Z = iterate(Z)\n",
    "print(Z)"
   ]
  },
  {
   "cell_type": "markdown",
   "metadata": {},
   "source": [
    "#### 89. How to get the n largest values of an array (★★★) \n",
    "(**hint**: np.argsort | np.argpartition)"
   ]
  },
  {
   "cell_type": "code",
   "execution_count": 43,
   "metadata": {},
   "outputs": [
    {
     "name": "stdout",
     "output_type": "stream",
     "text": [
      "[[3 4 4 3 1 1 1 2 2 0]\n",
      " [1 3 4 2 1 1 3 3 2 1]\n",
      " [1 0 4 1 2 3 2 1 1 2]\n",
      " [1 3 2 4 4 2 4 1 2 4]\n",
      " [0 3 4 1 2 3 0 1 2 2]\n",
      " [1 2 1 4 1 2 3 0 4 2]\n",
      " [0 4 0 4 0 3 4 0 4 1]\n",
      " [0 4 3 0 1 3 1 1 1 4]\n",
      " [4 3 3 3 3 2 1 3 3 4]\n",
      " [4 1 2 2 3 2 4 2 0 2]]\n",
      "[[[0 4 3 0 1 3 1 1 1 4]\n",
      "  [0 4 0 4 0 3 4 0 4 1]\n",
      "  [1 3 2 4 4 2 4 1 2 4]\n",
      "  [4 1 2 2 3 2 4 2 0 2]\n",
      "  [1 0 4 1 2 3 2 1 1 2]\n",
      "  [4 3 3 3 3 2 1 3 3 4]\n",
      "  [1 3 4 2 1 1 3 3 2 1]\n",
      "  [3 4 4 3 1 1 1 2 2 0]\n",
      "  [0 3 4 1 2 3 0 1 2 2]\n",
      "  [1 2 1 4 1 2 3 0 4 2]]\n",
      "\n",
      " [[0 4 3 0 1 3 1 1 1 4]\n",
      "  [1 2 1 4 1 2 3 0 4 2]\n",
      "  [1 0 4 1 2 3 2 1 1 2]\n",
      "  [4 1 2 2 3 2 4 2 0 2]\n",
      "  [1 3 4 2 1 1 3 3 2 1]\n",
      "  [0 3 4 1 2 3 0 1 2 2]\n",
      "  [3 4 4 3 1 1 1 2 2 0]\n",
      "  [1 3 2 4 4 2 4 1 2 4]\n",
      "  [0 4 0 4 0 3 4 0 4 1]\n",
      "  [4 3 3 3 3 2 1 3 3 4]]\n",
      "\n",
      " [[4 3 3 3 3 2 1 3 3 4]\n",
      "  [3 4 4 3 1 1 1 2 2 0]\n",
      "  [1 2 1 4 1 2 3 0 4 2]\n",
      "  [1 3 2 4 4 2 4 1 2 4]\n",
      "  [0 3 4 1 2 3 0 1 2 2]\n",
      "  [4 1 2 2 3 2 4 2 0 2]\n",
      "  [1 3 4 2 1 1 3 3 2 1]\n",
      "  [1 0 4 1 2 3 2 1 1 2]\n",
      "  [0 4 3 0 1 3 1 1 1 4]\n",
      "  [0 4 0 4 0 3 4 0 4 1]]\n",
      "\n",
      " [[0 4 0 4 0 3 4 0 4 1]\n",
      "  [0 3 4 1 2 3 0 1 2 2]\n",
      "  [3 4 4 3 1 1 1 2 2 0]\n",
      "  [1 2 1 4 1 2 3 0 4 2]\n",
      "  [1 3 2 4 4 2 4 1 2 4]\n",
      "  [1 0 4 1 2 3 2 1 1 2]\n",
      "  [4 1 2 2 3 2 4 2 0 2]\n",
      "  [4 3 3 3 3 2 1 3 3 4]\n",
      "  [0 4 3 0 1 3 1 1 1 4]\n",
      "  [1 3 4 2 1 1 3 3 2 1]]\n",
      "\n",
      " [[0 4 3 0 1 3 1 1 1 4]\n",
      "  [1 0 4 1 2 3 2 1 1 2]\n",
      "  [0 3 4 1 2 3 0 1 2 2]\n",
      "  [1 3 4 2 1 1 3 3 2 1]\n",
      "  [1 3 2 4 4 2 4 1 2 4]\n",
      "  [4 3 3 3 3 2 1 3 3 4]\n",
      "  [3 4 4 3 1 1 1 2 2 0]\n",
      "  [0 4 0 4 0 3 4 0 4 1]\n",
      "  [4 1 2 2 3 2 4 2 0 2]\n",
      "  [1 2 1 4 1 2 3 0 4 2]]]\n",
      "[[[3 4 4 3 1 1 1 2 2 0]\n",
      "  [1 2 1 4 1 2 3 0 4 2]\n",
      "  [1 3 4 2 1 1 3 3 2 1]\n",
      "  [0 3 4 1 2 3 0 1 2 2]\n",
      "  [4 3 3 3 3 2 1 3 3 4]\n",
      "  [4 1 2 2 3 2 4 2 0 2]\n",
      "  [1 0 4 1 2 3 2 1 1 2]\n",
      "  [0 4 0 4 0 3 4 0 4 1]\n",
      "  [1 3 2 4 4 2 4 1 2 4]\n",
      "  [0 4 3 0 1 3 1 1 1 4]]\n",
      "\n",
      " [[3 4 4 3 1 1 1 2 2 0]\n",
      "  [1 2 1 4 1 2 3 0 4 2]\n",
      "  [0 4 3 0 1 3 1 1 1 4]\n",
      "  [1 3 2 4 4 2 4 1 2 4]\n",
      "  [4 1 2 2 3 2 4 2 0 2]\n",
      "  [4 3 3 3 3 2 1 3 3 4]\n",
      "  [1 0 4 1 2 3 2 1 1 2]\n",
      "  [0 4 0 4 0 3 4 0 4 1]\n",
      "  [0 3 4 1 2 3 0 1 2 2]\n",
      "  [1 3 4 2 1 1 3 3 2 1]]\n",
      "\n",
      " [[1 3 2 4 4 2 4 1 2 4]\n",
      "  [4 3 3 3 3 2 1 3 3 4]\n",
      "  [0 4 0 4 0 3 4 0 4 1]\n",
      "  [3 4 4 3 1 1 1 2 2 0]\n",
      "  [1 3 4 2 1 1 3 3 2 1]\n",
      "  [0 3 4 1 2 3 0 1 2 2]\n",
      "  [0 4 3 0 1 3 1 1 1 4]\n",
      "  [4 1 2 2 3 2 4 2 0 2]\n",
      "  [1 2 1 4 1 2 3 0 4 2]\n",
      "  [1 0 4 1 2 3 2 1 1 2]]\n",
      "\n",
      " [[0 4 0 4 0 3 4 0 4 1]\n",
      "  [1 0 4 1 2 3 2 1 1 2]\n",
      "  [1 3 4 2 1 1 3 3 2 1]\n",
      "  [1 3 2 4 4 2 4 1 2 4]\n",
      "  [3 4 4 3 1 1 1 2 2 0]\n",
      "  [4 3 3 3 3 2 1 3 3 4]\n",
      "  [1 2 1 4 1 2 3 0 4 2]\n",
      "  [4 1 2 2 3 2 4 2 0 2]\n",
      "  [0 3 4 1 2 3 0 1 2 2]\n",
      "  [0 4 3 0 1 3 1 1 1 4]]\n",
      "\n",
      " [[0 3 4 1 2 3 0 1 2 2]\n",
      "  [1 0 4 1 2 3 2 1 1 2]\n",
      "  [1 2 1 4 1 2 3 0 4 2]\n",
      "  [0 4 0 4 0 3 4 0 4 1]\n",
      "  [1 3 4 2 1 1 3 3 2 1]\n",
      "  [4 3 3 3 3 2 1 3 3 4]\n",
      "  [4 1 2 2 3 2 4 2 0 2]\n",
      "  [0 4 3 0 1 3 1 1 1 4]\n",
      "  [1 3 2 4 4 2 4 1 2 4]\n",
      "  [3 4 4 3 1 1 1 2 2 0]]]\n"
     ]
    }
   ],
   "source": [
    "ata = np.arange(10000)\n",
    "print(data)\n",
    "np.random.shuffle(data)\n",
    "n = 5\n",
    "print(data[np.argsort(data)[-n:]])\n",
    "print(data[np.argpartition(-data,n )[:n]])"
   ]
  },
  {
   "cell_type": "markdown",
   "metadata": {},
   "source": [
    "#### 90. Given an arbitrary number of vectors, build the cartesian product (every combinations of every item) (★★★) \n",
    "(**hint**: np.indices)"
   ]
  },
  {
   "cell_type": "code",
   "execution_count": 44,
   "metadata": {
    "scrolled": true
   },
   "outputs": [
    {
     "name": "stdout",
     "output_type": "stream",
     "text": [
      "[[1 4 6]\n",
      " [1 4 7]\n",
      " [1 5 6]\n",
      " [1 5 7]\n",
      " [2 4 6]\n",
      " [2 4 7]\n",
      " [2 5 6]\n",
      " [2 5 7]\n",
      " [3 4 6]\n",
      " [3 4 7]\n",
      " [3 5 6]\n",
      " [3 5 7]]\n"
     ]
    }
   ],
   "source": [
    "def cartesian(arrays):\n",
    "    arrays = [np.asarray(a) for a in arrays]\n",
    "    shape = (len(x) for x in arrays)\n",
    "    ix = np.indices(shape, dtype = int)\n",
    "    ix = ix.reshape(len(arrays), -1).T\n",
    "    \n",
    "    for n, arr in enumerate(arrays):\n",
    "        ix[:,n ] = arrays[n][ix[:,n]]\n",
    "    return ix\n",
    "print(cartesian(([1,2,3],[4,5],[6,7])))"
   ]
  },
  {
   "cell_type": "markdown",
   "metadata": {},
   "source": [
    "#### 91. How to create a record array from a regular array? (★★★) \n",
    "(**hint**: np.core.records.fromarrays)"
   ]
  },
  {
   "cell_type": "code",
   "execution_count": 45,
   "metadata": {},
   "outputs": [
    {
     "name": "stdout",
     "output_type": "stream",
     "text": [
      "[(b'Hello', 2.5, 3) (b'World', 3.6, 2)]\n"
     ]
    }
   ],
   "source": [
    "data = np.array([(\"Hello\", 2.5, 3),(\"World\", 3.6, 2)])\n",
    "R = np.core.records.fromarrays(data.T, names='col1, col2, col3', formats='S8, f8, i8')\n",
    "print(R)"
   ]
  },
  {
   "cell_type": "markdown",
   "metadata": {},
   "source": [
    "#### 92. Consider a large vector Z, compute Z to the power of 3 using 3 different methods (★★★) \n",
    "(**hint**: np.power, \\*, np.einsum)"
   ]
  },
  {
   "cell_type": "code",
   "execution_count": 46,
   "metadata": {},
   "outputs": [
    {
     "name": "stdout",
     "output_type": "stream",
     "text": [
      "3.67 µs ± 286 ns per loop (mean ± std. dev. of 7 runs, 100,000 loops each)\n",
      "1.11 µs ± 27.2 ns per loop (mean ± std. dev. of 7 runs, 1,000,000 loops each)\n",
      "3.75 µs ± 308 ns per loop (mean ± std. dev. of 7 runs, 100,000 loops each)\n"
     ]
    }
   ],
   "source": [
    "x = np.random.rand(int(5e1))\n",
    "\n",
    "%timeit np.power(x,3)\n",
    "%timeit x*x*x\n",
    "%timeit np.einsum('i,i,i->i',x,x,x)"
   ]
  },
  {
   "cell_type": "markdown",
   "metadata": {},
   "source": [
    "#### 93. Consider two arrays A and B of shape (8,3) and (2,2). How to find rows of A that contain elements of each row of B regardless of the order of the elements in B? (★★★) \n",
    "(**hint**: np.where)"
   ]
  },
  {
   "cell_type": "code",
   "execution_count": 47,
   "metadata": {},
   "outputs": [
    {
     "name": "stdout",
     "output_type": "stream",
     "text": [
      "[0 1 3 4 6 7]\n"
     ]
    }
   ],
   "source": [
    "A = np.random.randint(0, 5, (8,3))\n",
    "B = np.random.randint(0, 5, (2,2))\n",
    "\n",
    "C = (A[..., np.newaxis, np.newaxis] == B)\n",
    "rows = np.where(C.any((3,1)).all(1))[0]\n",
    "print(rows)"
   ]
  },
  {
   "cell_type": "markdown",
   "metadata": {},
   "source": [
    "#### 94. Considering a 10x3 matrix, extract rows with unequal values (e.g. \\[2,2,3\\]) (★★★)"
   ]
  },
  {
   "cell_type": "code",
   "execution_count": 48,
   "metadata": {},
   "outputs": [
    {
     "name": "stdout",
     "output_type": "stream",
     "text": [
      "[[1 1 1]\n",
      " [2 1 2]\n",
      " [2 1 2]\n",
      " [2 4 2]\n",
      " [2 1 2]\n",
      " [2 0 3]\n",
      " [2 1 0]\n",
      " [4 2 3]\n",
      " [2 3 3]\n",
      " [3 1 3]]\n",
      "[ True False False False False False False False False False]\n",
      "[[2 1 2]\n",
      " [2 1 2]\n",
      " [2 4 2]\n",
      " [2 1 2]\n",
      " [2 0 3]\n",
      " [2 1 0]\n",
      " [4 2 3]\n",
      " [2 3 3]\n",
      " [3 1 3]]\n",
      "[[2 1 2]\n",
      " [2 1 2]\n",
      " [2 4 2]\n",
      " [2 1 2]\n",
      " [2 0 3]\n",
      " [2 1 0]\n",
      " [4 2 3]\n",
      " [2 3 3]\n",
      " [3 1 3]]\n"
     ]
    }
   ],
   "source": [
    "data = np.random.randint(0,5,(10,3))\n",
    "print(data)\n",
    "E = np.all(data[:,1:] == data[:,:-1], axis = 1)\n",
    "print(E)\n",
    "U = data[~E]\n",
    "print(U)\n",
    "\n",
    "U = data[data.max(axis=1) != data.min(axis =1),:]\n",
    "print(U)"
   ]
  },
  {
   "cell_type": "markdown",
   "metadata": {},
   "source": [
    "#### 95. Convert a vector of ints into a matrix binary representation (★★★) \n",
    "(**hint**: np.unpackbits)"
   ]
  },
  {
   "cell_type": "code",
   "execution_count": 49,
   "metadata": {},
   "outputs": [
    {
     "name": "stdout",
     "output_type": "stream",
     "text": [
      "[  0   1   2   3  15  16  32  64 128]\n",
      "[[0 0 0 0 0 0 0 0]\n",
      " [0 0 0 0 0 0 0 1]\n",
      " [0 0 0 0 0 0 1 0]\n",
      " [0 0 0 0 0 0 1 1]\n",
      " [0 0 0 0 1 1 1 1]\n",
      " [0 0 0 1 0 0 0 0]\n",
      " [0 0 1 0 0 0 0 0]\n",
      " [0 1 0 0 0 0 0 0]\n",
      " [1 0 0 0 0 0 0 0]]\n",
      "[[0 0 0 0 0 0 0 0]\n",
      " [0 0 0 0 0 0 0 1]\n",
      " [0 0 0 0 0 0 1 0]\n",
      " [0 0 0 0 0 0 1 1]\n",
      " [0 0 0 0 1 1 1 1]\n",
      " [0 0 0 1 0 0 0 0]\n",
      " [0 0 1 0 0 0 0 0]\n",
      " [0 1 0 0 0 0 0 0]\n",
      " [1 0 0 0 0 0 0 0]]\n"
     ]
    }
   ],
   "source": [
    "I = np.array([0,1,2,3,15,16,32,64,128])\n",
    "print(I)\n",
    "B = ((I.reshape(-1, 1) & (2 ** np.arange(8))) != 0).astype(int)\n",
    "print(B[:,::-1])\n",
    "\n",
    "I = np.array([0,1,2,3,15,16,32,64,128], dtype = np.uint8)\n",
    "print(np.unpackbits(I[:, np.newaxis], axis = 1))"
   ]
  },
  {
   "cell_type": "markdown",
   "metadata": {},
   "source": [
    "#### 96. Given a two dimensional array, how to extract unique rows? (★★★) \n",
    "(**hint**: np.ascontiguousarray)"
   ]
  },
  {
   "cell_type": "code",
   "execution_count": 50,
   "metadata": {},
   "outputs": [
    {
     "name": "stdout",
     "output_type": "stream",
     "text": [
      "[[0 0 0 0 0 0 0 0 0 0 0 0 0 0 0 0 0 1 0 0 0 0 0 1 0 0 0 0 0 1 0 0 0 0 0 0\n",
      "  0 0 0 0 0 0 0 0 0 0 0 0 0 0]\n",
      " [0 0 0 0 0 0 0 0 1 1 1 0 0 0 0 0 0 0 0 0 1 1 1 0 0 0 0 0 0 0 0 0 0 0 0 0\n",
      "  0 0 0 0 0 0 0 0 0 0 0 0 0 0]\n",
      " [0 0 0 0 0 0 0 0 0 0 0 0 0 0 0 0 0 0 0 0 0 0 0 0 0 0 0 0 0 0 0 0 0 0 0 0\n",
      "  0 0 0 0 0 0 0 0 0 0 0 0 0 0]\n",
      " [0 0 0 1 1 0 0 0 1 0 0 0 0 0 0 0 0 1 1 0 1 0 0 1 0 0 0 0 0 1 1 0 0 0 0 0\n",
      "  0 0 0 0 0 0 0 0 0 0 0 0 0 0]]\n",
      "[[0 0 0 ... 0 0 0]\n",
      " [0 0 0 ... 0 0 0]\n",
      " [0 0 0 ... 0 0 0]\n",
      " ...\n",
      " [0 0 0 ... 0 0 0]\n",
      " [0 0 0 ... 0 0 0]\n",
      " [0 0 0 ... 0 0 0]]\n"
     ]
    }
   ],
   "source": [
    "data = np.random.randint(0,2,(6,3))\n",
    "T = np.ascontiguousarray(data).view(np.dtype((np.void, data.dtype.itemsize * data.shape[1])))\n",
    "_, idx = np.unique(T, return_index = True)\n",
    "uZ = Z[idx]\n",
    "print(uZ)\n",
    "\n",
    "uZ = np.unique(Z, axis = 0)\n",
    "print(uZ)"
   ]
  },
  {
   "cell_type": "markdown",
   "metadata": {},
   "source": [
    "#### 97. Considering 2 vectors A & B, write the einsum equivalent of inner, outer, sum, and mul function (★★★) \n",
    "(**hint**: np.einsum)"
   ]
  },
  {
   "cell_type": "code",
   "execution_count": 56,
   "metadata": {},
   "outputs": [
    {
     "name": "stdout",
     "output_type": "stream",
     "text": [
      "[0.42950911 0.74927028 0.58291982 0.1906299  0.25286735 0.52868129\n",
      " 0.89190925 0.01117161 0.22336534 0.95408731]\n",
      "[0.14388638 0.204952   0.73879525 0.31133124 0.78858771 0.43601508\n",
      " 0.24172024 0.58539649 0.49259968 0.82132384]\n",
      "4.8144112439766165\n",
      "[0.06180051 0.15356444 0.43065839 0.05934904 0.19940809 0.23051301\n",
      " 0.21559251 0.00653982 0.1100297  0.78361465]\n",
      "2.251070173970912\n",
      "[[0.06180051 0.08802875 0.31731929 0.1337196  0.3387056  0.18727245\n",
      "  0.10382104 0.25143312 0.21157605 0.35276607]\n",
      " [0.10780979 0.15356444 0.55355732 0.23327125 0.59086533 0.32669314\n",
      "  0.18111379 0.43862019 0.3690903  0.61539355]\n",
      " [0.08387422 0.11947058 0.43065839 0.18148115 0.4596834  0.25416183\n",
      "  0.14090352 0.34123921 0.28714612 0.47876594]\n",
      " [0.02742905 0.03906998 0.14083647 0.05934904 0.1503284  0.08311751\n",
      "  0.0460791  0.11159408 0.09390423 0.15656888]\n",
      " [0.03638417 0.05182567 0.1868172  0.07872551 0.19940809 0.11025398\n",
      "  0.06112316 0.14802766 0.12456238 0.20768599]\n",
      " [0.07607004 0.10835429 0.39058722 0.164595   0.41691156 0.23051301\n",
      "  0.12779297 0.30948817 0.26042823 0.43421855]\n",
      " [0.1283336  0.18279859 0.65893831 0.27767921 0.70334867 0.38888588\n",
      "  0.21559251 0.52212054 0.43935421 0.73254633]\n",
      " [0.00160744 0.00228964 0.00825353 0.00347807 0.00880979 0.00487099\n",
      "  0.0027004  0.00653982 0.00550313 0.00917551]\n",
      " [0.03213923 0.04577917 0.16502125 0.06954061 0.17614316 0.09739066\n",
      "  0.05399192 0.13075729 0.1100297  0.18345528]\n",
      " [0.13728017 0.1955421  0.70487517 0.29703719 0.75238152 0.41599645\n",
      "  0.23062221 0.55851936 0.46998311 0.78361465]]\n",
      "32\n",
      "[[ 4  5  6]\n",
      " [ 8 10 12]\n",
      " [12 15 18]]\n"
     ]
    }
   ],
   "source": [
    "A = np.random.uniform(0,1 , 10)\n",
    "print(A)\n",
    "B = np.random.uniform(0,1,10)\n",
    "print(B)\n",
    "\n",
    "print(np.einsum('i->', A)) #np.sum(A)\n",
    "print(np.einsum('i,i->i', A,B))# A * B\n",
    "print(np.einsum('i,i', A,B))# np.inner(A, B)\n",
    "print(np.einsum('i,j->ij', A,B))#np.outer(A, B)\n",
    "\n",
    "A = [1,2,3]\n",
    "B = [4,5,6]\n",
    "print(np.inner(A, B))\n",
    "# 1* 4+ 2* 5 + 3* 6\n",
    "print(np.outer(A,B))\n",
    "# 1   4, 5, 6 \n",
    "# 2   4, 5, 6 \n",
    "# 3   4, 5, 6"
   ]
  },
  {
   "cell_type": "markdown",
   "metadata": {},
   "source": [
    "#### 98. Considering a path described by two vectors (X,Y), how to sample it using equidistant samples (★★★)? \n",
    "(**hint**: np.cumsum, np.interp)"
   ]
  },
  {
   "cell_type": "code",
   "execution_count": 55,
   "metadata": {},
   "outputs": [
    {
     "name": "stdout",
     "output_type": "stream",
     "text": [
      "[  0.           0.09950042   0.19601332   0.28660095   0.3684244\n",
      "   0.43879128   0.49520137   0.53538953   0.55736537   0.55944897\n",
      "   0.54030231   0.49895573   0.43482931   0.34774848   0.237954\n",
      "   0.1061058   -0.04671924  -0.21903564  -0.40896377  -0.61425018\n",
      "  -0.83229367  -1.06017682  -1.29470246  -1.53243485  -1.76974492\n",
      "  -2.00285904  -2.22791076  -2.44099478  -2.63822255  -2.81577868\n",
      "  -2.96997749  -3.09731897  -3.19454328  -3.25868324  -3.28711385\n",
      "  -3.27759841  -3.2283303   -3.13797012  -3.00567731  -2.83113599\n",
      "  -2.61457448  -2.35677818  -2.05909545  -1.72343644  -1.35226463\n",
      "  -0.9485811   -0.51590162  -0.05822672   0.41999512   0.91391061\n",
      "   1.41831093   1.92768649   2.43628669   2.93818398   3.42734153\n",
      "   3.89768376   4.34316892   4.75786287   5.1360132    5.47212274\n",
      "   5.76102172   5.99793747   6.178561     6.29910941   6.35638348\n",
      "   6.34781957   6.27153511   6.12636709   5.91190293   5.62850319\n",
      "   5.27731578   4.86028133   4.38012946   3.84036588   3.24525022\n",
      "   2.59976488   1.9095748    1.18097874   0.42085228  -0.36341679\n",
      "  -1.16400027  -1.97270765  -2.78106986  -3.58042781  -4.36202469\n",
      "  -5.11710117  -5.83699241  -6.51322582  -7.13761852  -7.70237336\n",
      "  -8.20017236  -8.62426658  -8.96856132  -9.22769553  -9.3971146\n",
      "  -9.47313548  -9.45300342  -9.33493933  -9.11817747  -8.80299241\n",
      "  -8.39071529  -7.88373862  -7.28550965  -6.6005121   -5.83423628\n",
      "  -4.99313774  -4.08458482  -3.11679531  -2.09876299  -1.04017448\n",
      "   0.04868268   1.1570199    2.27365447   3.38712238   4.48579588\n",
      "   5.55800473   6.59215971   7.57687716   8.50110325   9.35423652\n",
      "  10.1262475   10.80779395  11.39033046  11.8662112   12.22878455\n",
      "  12.47247849  12.59287578  12.58677787  12.45225684  12.18869449\n",
      "  11.79680816  11.27866268  10.63766824   9.878564     9.00738732\n",
      "   8.03142895   6.9591743    5.80023126   4.56524532   3.26580248\n",
      "   1.91432105   0.52393323  -0.89164247  -2.31823644  -3.74136993\n",
      "  -5.14640187  -6.51867941  -7.84369048  -9.10721675 -10.29548549\n",
      " -11.39531869 -12.39427773 -13.28080214 -14.04434094 -14.67547492\n",
      " -15.16602867 -15.50917095 -15.69950221 -15.73312822 -15.60771894\n",
      " -15.32255169 -14.87853808 -14.27823434 -13.52583451 -12.62714655\n",
      " -11.58955145 -10.42194539  -9.13466558  -7.73940027  -6.24908366\n",
      "  -4.67777675  -3.04053512  -1.35326495   0.36743138   2.10441864\n",
      "   3.84019936   5.55709009   7.23740149   8.86362041  10.41859212\n",
      "  11.88570075  13.24904611  14.49361496  15.6054449   16.57177917\n",
      "  17.38121053  18.02381279  18.49125831  18.7769203   18.87595858\n",
      "  18.78538775  18.50412697  18.03303066  17.3748994   16.53447108\n",
      "  15.51839191  14.33516747  12.99509423  11.51017187   9.89399732\n",
      "   8.16164124   6.32950824   4.41518203   2.43725688   0.4151572\n",
      "  -1.63105313  -3.6808699   -5.713554    -7.70834118  -9.64465412\n",
      " -11.50231446 -13.26175272 -14.9042139  -16.41195663 -17.76844373\n",
      " -18.95852214 -19.96859034 -20.78675129 -21.40294938 -21.80908968\n",
      " -21.99913818 -21.96920183 -21.71758737 -21.24483813 -20.55374833\n",
      " -19.6493544  -18.53890336 -17.23179826 -15.73952118 -14.07553421\n",
      " -12.25515947 -10.29543901  -8.21497601  -6.03375864  -3.77296837\n",
      "  -1.45477441   0.89788356   3.2615224    5.6123499    7.92650424\n",
      "  10.18029618  12.35045135  14.41435043  16.35026444  18.13758293\n",
      "  19.7570326   21.19088398  22.42314406  23.43973275  24.2286412\n",
      "  24.7800703   25.08654775  25.14302233  24.94693422  24.49826054\n",
      "  23.79953536  22.85584389  21.67479057  20.26644137  18.64324051\n",
      "  16.81990238  14.81327959  12.64220817  10.32733155   7.89090473\n",
      "   5.35658069   2.74918094   0.09445254  -2.58118617  -5.25090838\n",
      "  -7.88774784 -10.46487118 -12.95585091 -15.33493623 -17.57731893\n",
      " -19.65939164 -21.55899571 -23.25565617 -24.7308012  -25.96796395\n",
      " -26.95296426 -27.67406854 -28.12212595 -28.2906792  -28.17604893\n",
      " -27.77739036 -27.09672162 -26.13892326 -24.91170863 -23.42556536\n",
      " -21.69366836 -19.73176483 -17.55803252 -15.19291234 -12.6589169\n",
      "  -9.98041672  -7.18340625  -4.29525175  -1.34442375   1.63978364\n",
      "   4.6275435    7.58879418  10.49354182  13.31216405  16.01571198\n",
      "  18.57620727  20.96693136  23.16270375  25.14014653  26.87793233\n",
      "  28.35701309  29.56082725  30.47548299  31.08991568  31.39601771]\n",
      "[  0.           2.48788858   4.97577716   7.46366574   9.95155432\n",
      "  12.43944289  14.92733147  17.41522005  19.90310863  22.39099721\n",
      "  24.87888579  27.36677437  29.85466295  32.34255152  34.8304401\n",
      "  37.31832868  39.80621726  42.29410584  44.78199442  47.269883\n",
      "  49.75777158  52.24566016  54.73354873  57.22143731  59.70932589\n",
      "  62.19721447  64.68510305  67.17299163  69.66088021  72.14876879\n",
      "  74.63665736  77.12454594  79.61243452  82.1003231   84.58821168\n",
      "  87.07610026  89.56398884  92.05187742  94.539766    97.02765457\n",
      "  99.51554315 102.00343173 104.49132031 106.97920889 109.46709747\n",
      " 111.95498605 114.44287463 116.9307632  119.41865178 121.90654036\n",
      " 124.39442894 126.88231752 129.3702061  131.85809468 134.34598326\n",
      " 136.83387184 139.32176041 141.80964899 144.29753757 146.78542615\n",
      " 149.27331473 151.76120331 154.24909189 156.73698047 159.22486904\n",
      " 161.71275762 164.2006462  166.68853478 169.17642336 171.66431194\n",
      " 174.15220052 176.6400891  179.12797768 181.61586625 184.10375483\n",
      " 186.59164341 189.07953199 191.56742057 194.05530915 196.54319773\n",
      " 199.03108631 201.51897488 204.00686346 206.49475204 208.98264062\n",
      " 211.4705292  213.95841778 216.44630636 218.93419494 221.42208352\n",
      " 223.90997209 226.39786067 228.88574925 231.37363783 233.86152641\n",
      " 236.34941499 238.83730357 241.32519215 243.81308072 246.3009693\n",
      " 248.78885788 251.27674646 253.76463504 256.25252362 258.7404122\n",
      " 261.22830078 263.71618936 266.20407793 268.69196651 271.17985509\n",
      " 273.66774367 276.15563225 278.64352083 281.13140941 283.61929799\n",
      " 286.10718656 288.59507514 291.08296372 293.5708523  296.05874088\n",
      " 298.54662946 301.03451804 303.52240662 306.0102952  308.49818377\n",
      " 310.98607235 313.47396093 315.96184951 318.44973809 320.93762667\n",
      " 323.42551525 325.91340383 328.4012924  330.88918098 333.37706956\n",
      " 335.86495814 338.35284672 340.8407353  343.32862388 345.81651246\n",
      " 348.30440104 350.79228961 353.28017819 355.76806677 358.25595535\n",
      " 360.74384393 363.23173251 365.71962109 368.20750967 370.69539824\n",
      " 373.18328682 375.6711754  378.15906398 380.64695256 383.13484114\n",
      " 385.62272972 388.1106183  390.59850688 393.08639545 395.57428403\n",
      " 398.06217261 400.55006119 403.03794977 405.52583835 408.01372693\n",
      " 410.50161551 412.98950408 415.47739266 417.96528124 420.45316982\n",
      " 422.9410584  425.42894698 427.91683556 430.40472414 432.89261272\n",
      " 435.38050129 437.86838987 440.35627845 442.84416703 445.33205561\n",
      " 447.81994419 450.30783277 452.79572135 455.28360992 457.7714985\n",
      " 460.25938708 462.74727566 465.23516424 467.72305282 470.2109414\n",
      " 472.69882998 475.18671856 477.67460713 480.16249571 482.65038429\n",
      " 485.13827287 487.62616145 490.11405003 492.60193861 495.08982719]\n",
      "[ 0.00000000e+00 -3.73131229e-01 -2.59817608e+00 -3.26212050e+00\n",
      " -2.18442687e+00 -2.98929946e-02  2.42923642e+00  4.54913599e+00\n",
      "  5.92318348e+00  6.35117933e+00  5.82369277e+00  4.46259540e+00\n",
      "  2.47320794e+00  1.09577220e-01 -2.36575300e+00 -4.71261671e+00\n",
      " -6.72701769e+00 -8.25541575e+00 -9.18486120e+00 -9.46381505e+00\n",
      " -9.11085788e+00 -8.12875279e+00 -6.63306046e+00 -4.69271059e+00\n",
      " -2.44736165e+00 -2.05444585e-02  2.46101146e+00  4.86841760e+00\n",
      "  7.08937968e+00  9.02539126e+00  1.05948609e+01  1.17357250e+01\n",
      "  1.24068974e+01  1.25885805e+01  1.22815267e+01  1.15053927e+01\n",
      "  1.02963689e+01  8.70429550e+00  6.78948686e+00  4.61716636e+00\n",
      "  2.25853448e+00 -1.98731680e-01 -2.68040566e+00 -5.11543300e+00\n",
      " -7.41973991e+00 -9.53891040e+00 -1.14237629e+01 -1.29919305e+01\n",
      " -1.42355069e+01 -1.51243232e+01 -1.56061571e+01 -1.57219415e+01\n",
      " -1.54217066e+01 -1.47579136e+01 -1.37255236e+01 -1.23634834e+01\n",
      " -1.07024632e+01 -8.78327367e+00 -6.65029558e+00 -4.35514246e+00\n",
      " -1.94290275e+00  5.28038914e-01  3.00985904e+00  5.45450275e+00\n",
      "  7.80093594e+00  1.00179639e+01  1.20595602e+01  1.38732623e+01\n",
      "  1.54564938e+01  1.67497894e+01  1.77435802e+01  1.84439878e+01\n",
      "  1.87990820e+01  1.88271003e+01  1.85472755e+01  1.79378850e+01\n",
      "  1.70105456e+01  1.58085777e+01  1.43501808e+01  1.26222364e+01\n",
      "  1.06905445e+01  8.58498641e+00  6.33562529e+00  3.96179025e+00\n",
      "  1.51802643e+00 -9.61699044e-01 -3.44349301e+00 -5.88951759e+00\n",
      " -8.26006582e+00 -1.05270865e+01 -1.26610269e+01 -1.46343020e+01\n",
      " -1.64206033e+01 -1.79708499e+01 -1.92894561e+01 -2.03605967e+01\n",
      " -2.11716587e+01 -2.17133504e+01 -2.19797677e+01 -2.19626531e+01\n",
      " -2.16476737e+01 -2.10622561e+01 -2.02145809e+01 -1.91158467e+01\n",
      " -1.77800930e+01 -1.62239930e+01 -1.44666197e+01 -1.25291882e+01\n",
      " -1.04347777e+01 -8.20773276e+00 -5.86978851e+00 -3.45563299e+00\n",
      " -9.92556869e-01  1.49191203e+00  3.97031733e+00  6.41557503e+00\n",
      "  8.80126359e+00  1.11019001e+01  1.32931995e+01  1.53523150e+01\n",
      "  1.72580567e+01  1.89910866e+01  2.05340895e+01  2.18719167e+01\n",
      "  2.29917039e+01  2.38829603e+01  2.45376309e+01  2.49501314e+01\n",
      "  2.51173551e+01  2.50386548e+01  2.47157984e+01  2.41529019e+01\n",
      "  2.33563391e+01  2.23346314e+01  2.10983193e+01  1.96598169e+01\n",
      "  1.80332532e+01  1.62343003e+01  1.42799934e+01  1.21885425e+01\n",
      "  9.97914013e+00  7.67176574e+00  5.28699023e+00  2.84441658e+00\n",
      "  3.68190102e-01 -2.11846865e+00 -4.59426061e+00 -7.03829202e+00\n",
      " -9.43024209e+00 -1.17505186e+01 -1.39803999e+01 -1.61021634e+01\n",
      " -1.80991985e+01 -1.99561058e+01 -2.16587804e+01 -2.31850397e+01\n",
      " -2.45166960e+01 -2.56568097e+01 -2.65976904e+01 -2.73332424e+01\n",
      " -2.78589555e+01 -2.81718833e+01 -2.82706110e+01 -2.81552119e+01\n",
      " -2.78066635e+01 -2.72341677e+01 -2.64578863e+01 -2.54844118e+01\n",
      " -2.43214986e+01 -2.29779690e+01 -2.14636172e+01 -1.97837046e+01\n",
      " -1.79341987e+01 -1.59545785e+01 -1.38585628e+01 -1.16602783e+01\n",
      " -9.37416511e+00 -7.01488958e+00 -4.59184632e+00 -2.12995331e+00\n",
      "  3.50691071e-01  2.83498918e+00  5.30813450e+00  7.75565814e+00\n",
      "  1.01522531e+01  1.24813227e+01  1.47337756e+01  1.68973642e+01\n",
      "  1.89604991e+01  2.09071945e+01  2.26943693e+01  2.43420179e+01\n",
      "  2.58422998e+01  2.71881423e+01  2.83731992e+01  2.93376609e+01\n",
      "  3.01222558e+01  3.07280750e+01  3.11531219e+01  3.13960177e+01]\n",
      "[ 0.00000000e+00  1.74026724e+00  9.81816584e-01 -1.34251287e+00\n",
      " -3.53191891e+00 -4.70449474e+00 -4.59573427e+00 -3.33831870e+00\n",
      " -1.28956083e+00  1.14234685e+00  3.55645601e+00  5.62188218e+00\n",
      "  7.09389488e+00  7.82951803e+00  7.78700678e+00  6.99685666e+00\n",
      "  5.55535240e+00  3.60417006e+00  1.30506373e+00 -1.15819722e+00\n",
      " -3.61328132e+00 -5.89130465e+00 -7.87065053e+00 -9.41689057e+00\n",
      " -1.04714836e+01 -1.09903787e+01 -1.09354306e+01 -1.03330912e+01\n",
      " -9.22690166e+00 -7.67489830e+00 -5.75257980e+00 -3.54832201e+00\n",
      " -1.15854355e+00  1.31709956e+00  3.78023622e+00  6.13780326e+00\n",
      "  8.30540149e+00  1.02098724e+01  1.17910419e+01  1.29972950e+01\n",
      "  1.37774249e+01  1.41319792e+01  1.40585758e+01  1.35636816e+01\n",
      "  1.26345244e+01  1.13409083e+01  9.72216360e+00  7.79464305e+00\n",
      "  5.64544223e+00  3.32503222e+00  8.88107041e-01 -1.59329248e+00\n",
      " -4.05992507e+00 -6.45313746e+00 -8.71327144e+00 -1.07900854e+01\n",
      " -1.26380653e+01 -1.42147006e+01 -1.54892299e+01 -1.64390858e+01\n",
      " -1.70351433e+01 -1.72938948e+01 -1.71685631e+01 -1.67219979e+01\n",
      " -1.59044166e+01 -1.47824153e+01 -1.33665280e+01 -1.16678134e+01\n",
      " -9.75246391e+00 -7.63091465e+00 -5.35345831e+00 -2.96905840e+00\n",
      " -5.09631905e-01  1.97507060e+00  4.44430515e+00  6.85344809e+00\n",
      "  9.15903461e+00  1.13337844e+01  1.33467125e+01  1.51336120e+01\n",
      "  1.66966787e+01  1.80162922e+01  1.90746708e+01  1.98127969e+01\n",
      "  2.02634499e+01  2.04221761e+01  2.02877631e+01  1.98449702e+01\n",
      "  1.90974465e+01  1.80799531e+01  1.68069397e+01  1.52959771e+01\n",
      "  1.35665801e+01  1.16227312e+01  9.51601869e+00  7.27388893e+00\n",
      "  4.92519240e+00  2.49981337e+00  2.82932820e-02 -2.45817963e+00\n",
      " -4.92460367e+00 -7.34030894e+00 -9.67635928e+00 -1.19050601e+01\n",
      " -1.40002645e+01 -1.59376556e+01 -1.76950019e+01 -1.92523833e+01\n",
      " -2.05923861e+01 -2.16995543e+01 -2.25478860e+01 -2.31432552e+01\n",
      " -2.34800725e+01 -2.35556687e+01 -2.33702741e+01 -2.29269662e+01\n",
      " -2.22315865e+01 -2.12926288e+01 -2.01211000e+01 -1.87303570e+01\n",
      " -1.71359212e+01 -1.53552740e+01 -1.34076356e+01 -1.13137308e+01\n",
      " -9.09554383e+00 -6.77606668e+00 -4.37904252e+00 -1.92870828e+00\n",
      "  5.50461201e-01  3.03400451e+00  5.49771780e+00  7.91788934e+00\n",
      "  1.02715222e+01  1.25365431e+01  1.46919953e+01  1.67182148e+01\n",
      "  1.85969872e+01  2.03116866e+01  2.18473923e+01  2.31909872e+01\n",
      "  2.43312337e+01  2.52588296e+01  2.59664444e+01  2.64391214e+01\n",
      "  2.66748505e+01  2.66796333e+01  2.64545680e+01  2.60026765e+01\n",
      "  2.53288265e+01  2.44396400e+01  2.33433894e+01  2.20498837e+01\n",
      "  2.05703459e+01  1.89172843e+01  1.71043584e+01  1.51396391e+01\n",
      "  1.30387952e+01  1.08294252e+01  8.52903617e+00  6.15551380e+00\n",
      "  3.72697869e+00  1.26164946e+00 -1.22228693e+00 -3.70679651e+00\n",
      " -6.17014862e+00 -8.59028675e+00 -1.09516293e+01 -1.32379536e+01\n",
      " -1.54338179e+01 -1.75246263e+01 -1.94966815e+01 -2.13317519e+01\n",
      " -2.29952001e+01 -2.44987532e+01 -2.58335652e+01 -2.69919481e+01\n",
      " -2.79673583e+01 -2.87543764e+01 -2.93186910e+01 -2.96679958e+01\n",
      " -2.98181354e+01 -2.97693731e+01 -2.95229769e+01 -2.90811595e+01\n",
      " -2.84133854e+01 -2.75430665e+01 -2.64934034e+01 -2.52713717e+01\n",
      " -2.38845608e+01 -2.23353782e+01 -2.06051319e+01 -1.87442619e+01\n",
      " -1.67635423e+01 -1.46739620e+01 -1.24866789e+01 -1.01933401e+01\n",
      " -7.83474328e+00 -5.42495146e+00 -2.97607515e+00 -5.00072086e-01]\n"
     ]
    },
    {
     "data": {
      "text/plain": [
       "array([2, 3])"
      ]
     },
     "execution_count": 55,
     "metadata": {},
     "output_type": "execute_result"
    }
   ],
   "source": [
    "phi = np.arange(0, 10 * np.pi, 0.1)\n",
    "a = 1\n",
    "x = a* phi * np.cos(phi)\n",
    "y = a* phi * np.sin(phi)\n",
    "print(x)\n",
    "dr = (np.diff(x) ** 2 + np.diff(y) ** 2) **.5\n",
    "r = np.zeros_like(x)\n",
    "r[1:] = np.cumsum(dr)\n",
    "r_int = np.linspace(0, r.max(), 200)\n",
    "x_int = np.interp(r_int, r, x)\n",
    "y_int = np.interp(r_int, r, y)\n",
    "print(r_int)\n",
    "print(x_int)\n",
    "print(y_int)\n",
    "x = [1,3,6]\n",
    "np.diff(x)"
   ]
  },
  {
   "cell_type": "markdown",
   "metadata": {},
   "source": [
    "#### 99. Given an integer n and a 2D array X, select from X the rows which can be interpreted as draws from a multinomial distribution with n degrees, i.e., the rows which only contain integers and which sum to n. (★★★) \n",
    "(**hint**: np.logical\\_and.reduce, np.mod)"
   ]
  },
  {
   "cell_type": "code",
   "execution_count": 53,
   "metadata": {},
   "outputs": [
    {
     "name": "stdout",
     "output_type": "stream",
     "text": [
      "[ True  True False]\n",
      "[[2. 0. 1. 1.]]\n"
     ]
    }
   ],
   "source": [
    "X = np.asarray([[1.0, 0.0, 3.0, 8.0],\n",
    "                [2.0, 0.0, 1.0, 1.0],\n",
    "                [1.5, 2.5, 1.0, 0.0]])\n",
    "n = 4\n",
    "M = np.logical_and.reduce(np.mod(X,1)==0, axis = -1)\n",
    "print(M)\n",
    "M &= (X.sum(axis = -1) == n)\n",
    "print(X[M])"
   ]
  },
  {
   "cell_type": "markdown",
   "metadata": {},
   "source": [
    "#### 100. Compute bootstrapped 95% confidence intervals for the mean of a 1D array X (i.e., resample the elements of an array with replacement N times, compute the mean of each sample, and then compute percentiles over the means). (★★★) \n",
    "(**hint**: np.percentile)"
   ]
  },
  {
   "cell_type": "code",
   "execution_count": 51,
   "metadata": {},
   "outputs": [
    {
     "name": "stdout",
     "output_type": "stream",
     "text": [
      "[0.25533053 0.67982392 0.08804089 0.88054714 0.6386657  0.49032951\n",
      " 0.78378656 0.97757692 0.90795784 0.14277536 0.13061141 0.96422444\n",
      " 0.57900597 0.11023612 0.71477325 0.95764163 0.55178807 0.35496076\n",
      " 0.07128944 0.79380158 0.03439341 0.87699502 0.89953957 0.19442642\n",
      " 0.50307216 0.80996768 0.36407838 0.28164085 0.91854103 0.97413181\n",
      " 0.19998629 0.44757453 0.37023188 0.95461332 0.35548579 0.29546292\n",
      " 0.0751288  0.82067026 0.63211085 0.64969781 0.0989642  0.79464444\n",
      " 0.58901632 0.11830149 0.93940963 0.9173018  0.74953022 0.1325279\n",
      " 0.72580262 0.1128377 ]\n",
      "[[60 20  0 ...  9 50 54]\n",
      " [80 97  8 ... 58 34 98]\n",
      " [38 59  7 ... 91 73 21]\n",
      " ...\n",
      " [61 93 38 ... 13 58 54]\n",
      " [ 1 74 76 ... 74 26 39]\n",
      " [62  1 62 ... 12 99 95]]\n",
      "[-1.15250553e-01 -8.08867406e-02 -2.16540127e-02 -1.25329340e-01\n",
      " -1.16218889e-01 -1.21866657e-01 -5.49419068e-02 -2.69606785e-01\n",
      " -9.80742607e-02 -2.27235382e-01 -5.98669406e-02 -1.47958320e-01\n",
      "  9.94476783e-02 -1.67603210e-01 -1.79893973e-02 -2.17955879e-01\n",
      "  3.04006449e-02 -5.48449081e-03 -8.01796985e-02 -1.05599525e-01\n",
      "  5.18045854e-02 -2.94562994e-01 -1.31696780e-01 -2.16397420e-01\n",
      " -4.74003741e-03 -1.04789714e-01  6.03360912e-02 -1.38876987e-01\n",
      " -8.68855598e-02 -2.39097242e-01 -1.51918424e-01 -1.54571247e-01\n",
      " -5.30997296e-02  1.51662854e-02 -1.20161714e-01 -1.05058134e-01\n",
      " -7.79442095e-02 -4.36359843e-02 -1.09011052e-01 -4.16833587e-02\n",
      " -2.16614824e-01 -1.01811038e-01  5.96746156e-02 -2.22167259e-01\n",
      " -2.00707079e-01 -2.51846687e-01  1.47302901e-02 -1.57166123e-01\n",
      " -1.44725787e-01 -8.85571379e-02  1.40683867e-02 -7.63701144e-02\n",
      " -4.83039945e-02 -1.49766673e-01 -3.39296902e-02 -1.95416803e-02\n",
      "  2.48869114e-02 -3.50990789e-02 -9.85181476e-02  3.54809376e-02\n",
      " -8.27805506e-02 -1.49164260e-02 -1.09618719e-01  2.15223780e-02\n",
      "  5.31227179e-02 -5.86108599e-02 -1.36286139e-01 -1.77325211e-02\n",
      " -5.29291553e-02 -2.66816074e-02 -2.99216208e-01 -2.75020440e-01\n",
      " -2.00486468e-01 -5.66163016e-03 -1.19068306e-01  6.85617615e-02\n",
      " -2.00312899e-01 -1.00558975e-01 -1.11703723e-01 -2.11429516e-02\n",
      " -1.82387956e-01 -1.80441623e-01  2.21607509e-02 -1.57267227e-01\n",
      " -1.26940793e-01 -2.29474877e-01  5.79320255e-02 -8.30565994e-02\n",
      "  5.13643392e-02 -8.99238926e-02 -1.96469799e-01 -1.48618921e-01\n",
      " -1.19798231e-01 -2.05863793e-01  6.59714010e-03  1.90082581e-02\n",
      " -1.47542070e-02 -1.62266988e-01 -1.06777831e-01 -9.80923424e-02\n",
      " -9.85560983e-02 -8.16298170e-02 -2.21890664e-01 -1.99539150e-03\n",
      "  9.89875057e-02  2.64727049e-03 -1.04164440e-01  2.63759814e-02\n",
      " -1.19470756e-01  1.09814404e-01 -6.14638983e-02  4.82281274e-02\n",
      " -1.72859342e-01  3.91061798e-02 -1.42016735e-01 -1.83514708e-01\n",
      "  1.05900175e-01  5.37785097e-02  3.11256013e-02  1.35581357e-01\n",
      " -1.72950150e-01 -9.43277101e-02  7.50172517e-03 -4.42012602e-02\n",
      " -1.17825092e-02 -1.70487206e-01 -1.66263193e-01 -3.86219978e-02\n",
      " -1.46864125e-01 -1.43868999e-01 -6.09694756e-02  1.53081189e-02\n",
      " -8.06526287e-02 -1.56885920e-01  4.02024442e-02 -1.57614794e-01\n",
      " -2.67934596e-04 -1.95562362e-01 -3.66160963e-02 -3.95940342e-03\n",
      " -1.20657560e-01 -5.49973865e-02 -9.27748555e-02 -4.34331725e-02\n",
      " -2.56431310e-01 -2.29742481e-01 -1.40923718e-02 -1.23156100e-01\n",
      " -2.94683398e-01  6.20692515e-03 -1.09245197e-01 -1.01082697e-01\n",
      " -2.25466670e-01 -1.84400726e-01 -9.10518564e-03 -1.97746175e-01\n",
      " -2.50957079e-01  3.60800255e-02 -2.40892601e-01 -1.32283413e-01\n",
      "  1.72769897e-02 -1.65279988e-01  7.44737873e-02 -9.83068919e-02\n",
      " -5.96081493e-02 -2.15583876e-02  4.84563367e-03 -1.03451036e-02\n",
      " -2.09943250e-01 -2.63914815e-02 -7.84842866e-02 -8.22061084e-02\n",
      "  4.54359832e-02 -1.95082132e-01 -1.06884463e-02 -1.63496338e-01\n",
      " -7.48345789e-02 -2.55680805e-01 -5.13962803e-02 -1.25206491e-01\n",
      " -1.26799263e-01 -3.66444822e-02 -1.05894637e-01  1.16620461e-01\n",
      " -6.54170938e-02 -7.00308564e-02 -1.54853718e-01 -1.08229505e-01\n",
      " -1.38568630e-01  7.35116095e-02 -6.30300430e-03 -9.90743634e-02\n",
      " -8.32808312e-02 -3.70750970e-02  5.88032681e-02 -6.44482443e-02\n",
      " -2.05777827e-01 -9.95347762e-02  1.02994938e-01  1.13979083e-01\n",
      " -2.07217973e-01 -1.11440198e-01 -1.06137191e-01 -1.97596477e-01\n",
      " -7.63163947e-02 -2.80168400e-01  2.88526356e-02 -5.08705542e-02\n",
      "  7.97356326e-02 -1.51413513e-01 -1.18673194e-01 -1.25750199e-01\n",
      " -1.05163253e-02 -1.26915792e-01 -1.60567751e-01 -7.17021854e-02\n",
      " -8.85624279e-02 -5.13235609e-02 -1.02179996e-01 -1.78295436e-01\n",
      " -1.73372030e-01  8.03380662e-02 -1.58779776e-01 -1.62783011e-01\n",
      " -5.18753000e-02 -1.45680764e-01  1.11040319e-02 -2.37756421e-01\n",
      " -1.14228985e-01 -2.12096180e-01  3.62982577e-02 -1.16838901e-01\n",
      " -2.18613428e-02 -9.15524492e-02 -1.64500786e-01  6.00625494e-02\n",
      " -1.21922236e-01 -6.54082877e-02 -5.88828428e-03 -5.02815548e-02\n",
      " -8.20544199e-02 -4.76743978e-02 -1.20945325e-01 -3.52189528e-02\n",
      " -1.86792254e-01  1.98350574e-02 -3.66617950e-02 -7.65750725e-03\n",
      " -7.85555660e-02 -2.01908250e-01 -5.62366262e-02 -1.06702739e-01\n",
      " -7.51059988e-02 -2.81269690e-01 -1.61185638e-01  2.51040309e-02\n",
      " -8.14029041e-02 -1.22604308e-01 -8.80164006e-02  2.11748527e-02\n",
      " -7.88026158e-02 -2.21239979e-01 -7.67318715e-02 -2.64226402e-01\n",
      " -3.50431147e-01 -2.59263383e-02 -1.92802990e-01 -1.17994236e-01\n",
      "  2.16755097e-02 -7.46797179e-02 -1.31735783e-01  1.37518797e-01\n",
      " -3.93361118e-02 -1.53968099e-01 -1.28459964e-01 -2.17863094e-01\n",
      " -3.36164292e-02 -4.59490801e-02 -4.88213556e-02 -2.43291135e-03\n",
      " -6.17033814e-02 -3.00860594e-02 -2.10162338e-01 -8.68493793e-02\n",
      " -1.24671990e-01 -3.38604786e-02 -6.86375645e-02 -1.04963985e-01\n",
      " -1.84725628e-01 -3.06414845e-01  1.00813433e-02 -2.32558704e-01\n",
      "  1.53693761e-02 -1.91622601e-01 -1.78004552e-01 -2.20312725e-02\n",
      " -1.16740159e-01 -1.58630855e-01 -2.14306534e-01 -6.52509107e-02\n",
      " -2.47689502e-01 -2.37723351e-01 -1.21705484e-01 -2.20306192e-01\n",
      " -1.39300423e-01 -1.54501440e-02  1.25488884e-01  5.29001174e-02\n",
      " -3.40560042e-02 -5.67819704e-02 -6.67497304e-02 -1.61600481e-01\n",
      " -2.28491484e-01  1.21971703e-01 -2.97967718e-01 -1.36895728e-01\n",
      " -1.13273323e-01  5.91306804e-03 -6.78079198e-02 -1.50844578e-01\n",
      " -5.83499921e-02  1.23085969e-01 -1.17500439e-01  3.67638936e-02\n",
      " -1.26046022e-01 -4.13298657e-02 -3.95090943e-02 -7.33326440e-02\n",
      " -1.69387280e-01 -2.10636811e-01  7.80442793e-03 -7.59173819e-02\n",
      " -6.03717012e-02 -4.35454618e-02 -9.80555577e-03  4.72292247e-02\n",
      " -7.45301036e-02 -1.77295454e-01 -4.77815276e-02 -7.51012277e-02\n",
      " -1.70928814e-01 -1.37990704e-01 -6.62807076e-02 -1.50583920e-01\n",
      "  9.16326151e-02 -4.50081115e-02 -4.28183242e-02 -1.17989948e-01\n",
      " -1.95642964e-01  2.77876277e-03 -2.14494612e-01 -8.29351912e-03\n",
      "  7.88977147e-02 -1.15117942e-01 -4.63409037e-03  3.81443863e-03\n",
      " -2.70934838e-02 -3.95103403e-02 -1.42728340e-01 -1.16920341e-01\n",
      " -1.65393912e-01 -2.10955266e-01 -2.08985595e-01 -8.38931086e-02\n",
      " -1.51104262e-01 -6.61720332e-03 -1.66524064e-01 -9.09687932e-02\n",
      "  3.98986791e-02  1.17850552e-02 -7.13030225e-02 -1.53001793e-01\n",
      " -1.38720344e-01 -2.71567601e-01 -5.95346234e-02 -1.32728620e-01\n",
      "  3.43832444e-02 -1.05731123e-01 -1.51473089e-01 -2.02549364e-01\n",
      "  1.98714013e-01 -9.63601020e-02  1.59300487e-02 -2.35263157e-01\n",
      " -1.85703882e-01 -1.84932970e-01  1.28177959e-02 -9.19945691e-02\n",
      " -8.33492239e-02  2.18006017e-02 -7.07743956e-02 -2.17770460e-02\n",
      " -2.13099667e-01 -6.82620934e-02 -1.55931412e-01 -1.55352960e-01\n",
      " -1.25741369e-01 -2.09043566e-01 -1.61971620e-01  5.71629814e-02\n",
      " -1.45756446e-01 -8.09299982e-02 -2.32052139e-01 -1.56485841e-01\n",
      "  5.20112840e-02 -1.20420047e-02 -1.90216656e-01 -3.57695766e-02\n",
      " -1.37090864e-01 -9.67427900e-02 -1.54764200e-02 -2.33064114e-01\n",
      " -3.71712780e-02 -9.87235376e-03 -1.17035985e-01 -1.00986555e-01\n",
      " -1.49740635e-02 -2.88893329e-01 -1.01073286e-01 -1.37973160e-01\n",
      " -1.79130701e-01 -1.99146877e-01 -1.99568221e-01 -1.24446936e-01\n",
      " -1.45867314e-01  1.05222056e-01  3.39585314e-02 -8.84506190e-02\n",
      " -2.21058193e-01 -1.95551142e-01 -1.43758830e-01 -4.64373843e-03\n",
      " -3.50680358e-03 -9.81229695e-02 -1.47342304e-01 -9.13773964e-02\n",
      " -1.52991440e-01 -3.53309871e-02 -1.29810956e-01  1.80235953e-02\n",
      " -5.75226641e-02 -1.42742251e-01 -6.80503788e-02 -1.51491283e-01\n",
      " -5.03044434e-02 -2.61239134e-01 -1.16093206e-01 -2.17324555e-01\n",
      " -1.46500731e-01  7.30472792e-02 -1.38893550e-01 -1.08919393e-01\n",
      " -1.77857116e-01 -6.52029555e-02 -6.96694923e-02  8.73623811e-02\n",
      " -9.01967935e-02 -2.95950131e-01 -1.24605950e-01 -3.88931731e-02\n",
      " -1.73346149e-01 -1.23020517e-01 -2.99884323e-02 -8.38960729e-02\n",
      " -1.85147435e-01 -5.52945110e-03 -2.45233493e-01 -5.72898450e-02\n",
      " -1.09597442e-01 -1.90310976e-01 -1.40866321e-01 -2.72015366e-01\n",
      " -1.54448120e-01 -1.63420947e-01 -3.28096361e-01 -3.29743324e-02\n",
      " -4.69359018e-02 -2.74452862e-01 -3.41659584e-02 -2.67982404e-01\n",
      " -1.20453364e-01 -1.00870002e-01  1.97478474e-02 -1.64567736e-01\n",
      "  1.30794129e-01 -1.33738246e-01 -4.33048490e-02 -2.12303545e-01\n",
      " -2.33671510e-01 -7.58989442e-02 -1.79755420e-01  4.20840568e-02\n",
      " -2.94866126e-01 -2.35346718e-01 -2.05434238e-01 -1.33022187e-01\n",
      " -1.51209631e-01 -5.84025220e-02  9.77610323e-03 -2.17971402e-01\n",
      "  6.17771012e-02  6.74284688e-02 -1.96657611e-01  3.40014319e-02\n",
      " -1.17064947e-01 -3.03610809e-02  9.33867428e-03 -5.77422209e-02\n",
      " -1.42660324e-01 -6.36522741e-02 -1.19342560e-01 -5.27592656e-02\n",
      " -7.58863310e-02  7.95582687e-03 -1.44432504e-01 -1.46548355e-01\n",
      "  2.67894803e-02 -1.48471447e-01 -1.41332866e-03 -5.51788904e-02\n",
      " -9.92049457e-02  8.43679223e-03 -1.00391670e-01 -1.14245423e-01\n",
      " -2.11106682e-01 -2.30395209e-01 -6.29450999e-02  5.16521293e-03\n",
      "  5.88842313e-02  1.48744483e-01 -2.33518759e-01 -2.80997662e-01\n",
      " -1.25950456e-01 -3.47969067e-02 -1.58996297e-01 -8.71023620e-02\n",
      " -2.41462820e-01 -2.69855106e-01 -1.66705064e-01 -2.51490967e-01\n",
      " -1.38551788e-01  4.12249700e-02 -2.03149690e-01 -2.35851519e-01\n",
      " -8.35720571e-02  9.73252352e-03 -6.64424480e-02 -1.07276745e-01\n",
      "  6.76800146e-02 -6.34100775e-02 -5.66977870e-02 -1.06124538e-01\n",
      " -1.61155634e-01 -3.46755196e-01 -1.21412611e-01 -1.59728237e-01\n",
      " -8.32401268e-02 -2.49619010e-02 -9.59710147e-02 -1.58183273e-01\n",
      "  8.10915849e-02 -1.03328654e-03 -2.12609381e-01 -6.27266936e-03\n",
      " -1.29353612e-01 -9.46977238e-02  1.66859973e-02 -1.54248391e-01\n",
      " -1.04492019e-01 -3.28305676e-02 -5.38141747e-02 -2.35857105e-02\n",
      " -2.30041149e-01 -1.21452632e-01 -5.06780090e-02 -4.03343387e-03\n",
      " -1.11300955e-01 -1.93547205e-01 -7.75085998e-02 -1.69801948e-01\n",
      " -8.36118854e-02 -7.81912119e-02 -3.65972317e-02 -1.97728715e-01\n",
      "  2.84581490e-02 -1.32623155e-01 -6.19122863e-02 -7.33250928e-02\n",
      " -2.39651658e-01 -6.80863532e-02  1.34791950e-04 -1.44013203e-02\n",
      "  3.49043702e-02 -4.79076811e-02 -2.57139182e-01 -2.35510113e-01\n",
      " -7.02983115e-02 -1.16989752e-01 -1.52945506e-01 -1.99135512e-01\n",
      "  6.60322806e-03 -9.51371357e-02 -4.16493866e-02 -1.48667109e-01\n",
      " -2.26898960e-01 -3.34000800e-02 -1.12573205e-01 -2.23497824e-02\n",
      "  6.08986312e-02 -3.33037657e-02 -1.71200537e-01 -2.43187126e-01\n",
      " -1.61153271e-01 -8.74480527e-02  4.63922551e-02  4.72202480e-02\n",
      "  6.77331169e-02  5.12554579e-02 -5.05727055e-02 -2.29902151e-01\n",
      " -1.41191169e-02 -8.64720324e-02 -1.23246053e-01 -4.51535966e-02\n",
      " -1.91084113e-01 -1.52099428e-01 -1.52966173e-01 -6.26721775e-02\n",
      " -2.11467775e-01 -8.17025437e-02 -2.58324789e-01 -2.40722100e-01\n",
      " -9.69878878e-02 -1.60222067e-01 -2.46390990e-01 -7.20486268e-02\n",
      " -2.07987001e-01 -3.20869982e-02 -4.71292097e-02 -1.00421137e-01\n",
      " -4.65552051e-02 -1.84494752e-01 -8.33337441e-02 -1.35685047e-01\n",
      " -1.45760344e-01  3.00461565e-02  4.14955499e-02 -3.28005578e-02\n",
      " -2.17246750e-01 -6.36013657e-02 -1.89481515e-01 -5.42838837e-02\n",
      " -1.87123161e-01 -6.19177697e-02 -1.94448527e-01 -5.73807543e-02\n",
      "  6.92564963e-02  1.15276603e-01 -2.68280353e-01  1.82339497e-02\n",
      "  3.23377380e-02 -5.24422223e-02 -4.97924684e-02 -8.21748896e-02\n",
      " -1.90008634e-01 -1.79847455e-02 -2.45537635e-01  8.01755882e-02\n",
      " -3.84580530e-01 -4.65780969e-02  1.47799903e-02 -1.78871363e-01\n",
      "  2.65563709e-03 -1.90508772e-01 -1.69227390e-01  4.24337530e-02\n",
      " -2.02079126e-01 -1.33073604e-01 -1.37989816e-01  4.33055319e-02\n",
      " -6.28033159e-02 -5.08347857e-02 -1.02998967e-01 -1.36330673e-01\n",
      " -2.69458659e-01 -1.80991378e-01 -1.14830135e-01 -1.54228748e-01\n",
      " -6.96028687e-02 -6.13073567e-02 -1.87745810e-01 -1.01860425e-01\n",
      " -7.45703393e-02 -7.91913581e-02 -9.65497933e-02 -1.06546783e-01\n",
      " -3.03386199e-01  8.34991782e-03 -3.55507576e-03 -9.05355907e-02\n",
      "  1.53288595e-01 -1.77275747e-01 -8.56692686e-02 -3.29749540e-01\n",
      "  2.15410474e-02 -9.75668268e-02 -1.52148597e-01 -4.65520116e-02\n",
      " -3.17963993e-02 -6.45330519e-02 -2.27016059e-01 -4.95488730e-02\n",
      " -1.28111120e-01 -8.44251104e-02 -3.15877275e-01 -1.42018314e-01\n",
      " -1.28936441e-01 -2.03798009e-02  8.21933403e-02 -5.22411707e-02\n",
      " -2.44968775e-01 -3.53690964e-02 -2.54875220e-02 -1.95551688e-01\n",
      " -4.87127295e-05 -7.06024027e-02 -2.27403767e-01 -9.74006475e-02\n",
      " -8.97263113e-02 -8.72485359e-02 -1.18523332e-01  2.47714387e-02\n",
      " -1.26932296e-01  4.53414982e-02  2.84413257e-02 -7.00366239e-02\n",
      " -8.55059348e-02 -3.05545853e-03 -1.30884755e-01 -3.50003083e-02\n",
      " -1.70567014e-01 -2.13421235e-01  8.03655384e-02 -8.16817363e-02\n",
      " -1.32783701e-01 -1.32059600e-01 -1.60996706e-01  9.36053588e-02\n",
      " -3.54995919e-02 -1.03453419e-01 -7.02879187e-02 -1.98457350e-01\n",
      " -2.10826181e-01 -1.65924913e-01 -1.19654618e-01 -3.38778744e-02\n",
      " -2.07947979e-02 -1.91640034e-01 -2.09087609e-01  9.94973468e-02\n",
      " -7.81320671e-02 -3.40756390e-01 -1.82862502e-01 -9.48065590e-02\n",
      " -7.01482061e-02 -2.28802390e-02  1.48197662e-02 -1.28816869e-01\n",
      " -4.62248113e-02 -1.28745086e-01 -1.26275316e-01 -1.94738346e-01\n",
      " -7.23012122e-02 -6.20277641e-02 -2.35316530e-01 -1.39197092e-01\n",
      " -3.34354153e-01 -9.78824240e-03 -1.29570088e-01 -5.61698603e-02\n",
      " -1.79185259e-01 -7.54288723e-02 -1.42895392e-01 -1.70104242e-01\n",
      "  6.20508106e-02 -1.35609289e-01 -1.48839851e-01  3.68315464e-02\n",
      " -1.62220132e-01 -6.06904191e-02 -1.25237384e-01 -6.35949598e-02\n",
      " -1.14889509e-01 -1.25413573e-01 -2.38278115e-01 -1.33746715e-01\n",
      " -7.22203236e-02 -8.74502296e-02 -6.80858966e-02  6.52147976e-03\n",
      " -2.39460899e-01 -1.79997741e-01  1.36724791e-01 -5.48415941e-02\n",
      " -3.06295802e-01 -2.19822069e-01 -4.42036449e-02 -1.86423128e-01\n",
      " -1.46420587e-01 -6.68658953e-03 -1.60383874e-01 -8.44973447e-02\n",
      " -1.65608730e-01 -1.01162958e-01 -9.08055028e-02 -1.37772243e-01\n",
      " -3.27884472e-01 -6.83883166e-02  8.86385177e-02 -3.99730722e-02\n",
      "  4.82865747e-02 -1.98028105e-01 -1.77709230e-01 -4.16905825e-02\n",
      " -3.88529907e-02  3.44624017e-03  1.04896874e-01 -8.72619995e-02\n",
      " -1.58132934e-01 -1.01401794e-01 -3.06484010e-01 -2.24957175e-01\n",
      " -2.40831707e-02  6.50823746e-02 -1.11192680e-01  2.06720503e-02\n",
      " -1.44511766e-01 -1.40107834e-01 -1.31920622e-01  5.64977084e-04\n",
      " -6.14534952e-02 -1.05574237e-01 -1.70209777e-02 -2.58836544e-02\n",
      " -6.92381724e-02 -1.27237553e-01 -8.62938383e-02  4.83276268e-03\n",
      " -5.01320632e-02 -4.84741300e-02 -1.64977863e-01 -1.26349735e-01\n",
      " -8.86242972e-02 -3.40671107e-02 -8.80842979e-02 -1.30629960e-01\n",
      " -8.45701192e-02 -1.06333236e-01 -2.85157782e-02 -1.44636797e-01\n",
      "  2.14852520e-02 -6.02340042e-03 -1.40703567e-01  1.07629355e-01\n",
      " -3.17057606e-01 -1.47470257e-01 -3.56796806e-01 -1.70071087e-01\n",
      " -1.41673300e-01 -7.58788124e-02 -1.07577418e-01 -1.05723034e-01\n",
      " -1.30504812e-01 -1.43848505e-01 -3.61100424e-01  4.71599864e-02\n",
      " -1.97254432e-01 -1.41105787e-01 -4.82117359e-02 -7.04897343e-02\n",
      " -8.95098076e-02  1.66917943e-01 -2.02940677e-01  4.74473141e-03\n",
      " -1.68115603e-01  5.23308376e-02 -1.57673842e-01 -1.38011854e-01\n",
      " -1.10182565e-01 -9.28411054e-02 -2.50091060e-01 -1.24315959e-01\n",
      "  3.46236603e-02 -2.52015352e-02 -2.96383010e-01 -2.10155813e-01\n",
      "  1.67173416e-03 -1.80684831e-02  9.86473350e-02 -1.57792198e-01\n",
      " -1.53257694e-01 -1.96736783e-02 -1.16695243e-01 -3.04096581e-01\n",
      "  4.82919938e-02 -1.19465944e-01 -1.70476545e-01  1.49402195e-01\n",
      " -1.77064223e-01 -2.94070286e-02 -2.03741662e-01 -7.24002543e-02\n",
      " -8.90394224e-02 -8.41937881e-02 -1.54058735e-01 -1.38445104e-01\n",
      " -1.26548463e-01 -1.90364443e-01 -1.45324840e-01 -2.48041066e-03\n",
      " -6.76083401e-02 -1.99347650e-01 -9.67929300e-03 -1.13536786e-01\n",
      " -1.27152163e-01 -1.74342507e-01 -1.43472221e-01  4.12204416e-02\n",
      " -3.60788277e-02 -1.43582877e-03 -4.26063851e-02 -2.15967007e-01\n",
      " -7.89239661e-03 -3.95383115e-02 -1.72201391e-01 -1.59767737e-01\n",
      " -1.65885292e-01 -4.10934597e-02 -5.13459448e-02 -5.78980888e-02\n",
      " -1.33906286e-01 -1.27682295e-01 -1.32002227e-01 -2.03491665e-01\n",
      "  3.13877079e-02  8.62808420e-03 -7.22253789e-02 -7.34309948e-02\n",
      " -1.13045131e-01 -9.44403054e-02 -1.37831816e-01 -1.35347434e-01\n",
      " -5.51933340e-02 -9.42320777e-02 -1.85535634e-01 -1.90493682e-01\n",
      " -1.41306257e-01 -9.11891071e-02 -1.06822430e-01 -1.02685954e-01\n",
      " -1.44867507e-01 -2.16783919e-01 -7.35218863e-02 -1.29577452e-01\n",
      " -1.08102664e-01 -1.91065333e-01 -5.12633643e-02 -1.46803590e-01\n",
      " -8.39855972e-02 -2.62977946e-01 -6.32340103e-02 -9.47947961e-02\n",
      " -2.57150322e-01 -5.99377138e-02 -4.64065053e-02 -2.47093893e-01\n",
      " -8.82125717e-02 -1.58925337e-01  9.37097981e-02 -2.46392489e-01\n",
      " -1.50411451e-01 -1.62610830e-02 -8.65881510e-02  9.92672187e-02\n",
      " -5.08808898e-02  9.25406569e-02 -1.99934370e-01 -2.12287226e-02\n",
      "  1.04363039e-04 -8.90468954e-02 -1.05775966e-01 -7.11586422e-02\n",
      " -1.35876034e-01 -4.11200831e-02 -1.77120917e-01  6.27065017e-03\n",
      " -1.30250798e-01 -2.91731209e-02 -1.25164119e-01 -4.24127225e-02]\n",
      "[-0.28146028  0.09865584]\n"
     ]
    }
   ],
   "source": [
    "X = np.random.randn(100)\n",
    "print(x)\n",
    "N = 1000\n",
    "idx = np.random.randint(0, X.size, (N, X.size))\n",
    "print(idx)\n",
    "means = X[idx].mean(axis = 1)\n",
    "print(means)\n",
    "confint = np.percentile(means, [2.5, 97.5])\n",
    "print(confint)"
   ]
  },
  {
   "cell_type": "code",
   "execution_count": null,
   "metadata": {},
   "outputs": [],
   "source": []
  }
 ],
 "metadata": {
  "kernelspec": {
   "display_name": "Python 3 (ipykernel)",
   "language": "python",
   "name": "python3"
  },
  "language_info": {
   "codemirror_mode": {
    "name": "ipython",
    "version": 3
   },
   "file_extension": ".py",
   "mimetype": "text/x-python",
   "name": "python",
   "nbconvert_exporter": "python",
   "pygments_lexer": "ipython3",
   "version": "3.9.12"
  }
 },
 "nbformat": 4,
 "nbformat_minor": 1
}
